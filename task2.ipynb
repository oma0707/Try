{
 "cells": [
  {
   "attachments": {},
   "cell_type": "markdown",
   "metadata": {},
   "source": [
    "DMML Assignment 1\n",
    "\n",
    "Om Ambaye BMC202006 \n",
    "\n",
    "Alok Dhar Dubey BMP202002"
   ]
  },
  {
   "cell_type": "code",
   "execution_count": 131,
   "metadata": {},
   "outputs": [],
   "source": [
    "#importing various packages\n",
    "import time\n",
    "import os\n",
    "os.environ[\"PATH\"] += os.pathsep + 'C:/Program Files (x86)/Graphviz/bin/'\n",
    "\n",
    "import numpy as np\n",
    "import pandas as pd\n",
    "import sklearn\n",
    "import matplotlib.pyplot as plt\n",
    "from sklearn.model_selection import train_test_split\n",
    "from sklearn.tree import DecisionTreeClassifier\n",
    "from sklearn.metrics import classification_report\n",
    "\n",
    "# Where to save the figures\n",
    "PROJECT_ROOT_DIR = \".\"\n",
    "CHAPTER_ID = \"decision_trees\"\n",
    "IMAGES_PATH = os.path.join(PROJECT_ROOT_DIR, \"images\", CHAPTER_ID)\n",
    "os.makedirs(IMAGES_PATH, exist_ok=True)\n",
    "\n",
    "def save_fig(fig_id, tight_layout=True, fig_extension=\"png\", resolution=300):\n",
    "    path = os.path.join(IMAGES_PATH, fig_id + \".\" + fig_extension)\n",
    "    print(\"Saving figure\", fig_id)\n",
    "    if tight_layout:\n",
    "        plt.tight_layout()\n",
    "    plt.savefig(path, format=fig_extension, dpi=resolution)\n",
    "\n",
    "import tracemalloc\n",
    "tracemalloc.start()\n",
    "start = time.time()\n"
   ]
  },
  {
   "attachments": {},
   "cell_type": "markdown",
   "metadata": {},
   "source": [
    "Reading Data"
   ]
  },
  {
   "cell_type": "code",
   "execution_count": 132,
   "metadata": {},
   "outputs": [
    {
     "data": {
      "text/html": [
       "<div>\n",
       "<style scoped>\n",
       "    .dataframe tbody tr th:only-of-type {\n",
       "        vertical-align: middle;\n",
       "    }\n",
       "\n",
       "    .dataframe tbody tr th {\n",
       "        vertical-align: top;\n",
       "    }\n",
       "\n",
       "    .dataframe thead th {\n",
       "        text-align: right;\n",
       "    }\n",
       "</style>\n",
       "<table border=\"1\" class=\"dataframe\">\n",
       "  <thead>\n",
       "    <tr style=\"text-align: right;\">\n",
       "      <th></th>\n",
       "      <th>Movie Name</th>\n",
       "      <th>Release Period</th>\n",
       "      <th>Whether Remake</th>\n",
       "      <th>Whether Franchise</th>\n",
       "      <th>Genre</th>\n",
       "      <th>New Actor</th>\n",
       "      <th>New Director</th>\n",
       "      <th>New Music Director</th>\n",
       "      <th>Lead Star</th>\n",
       "      <th>Director</th>\n",
       "      <th>Music Director</th>\n",
       "      <th>Number of Screens</th>\n",
       "      <th>Revenue(INR)</th>\n",
       "      <th>Budget(INR)</th>\n",
       "    </tr>\n",
       "  </thead>\n",
       "  <tbody>\n",
       "    <tr>\n",
       "      <th>0</th>\n",
       "      <td>Golden Boys</td>\n",
       "      <td>Normal</td>\n",
       "      <td>No</td>\n",
       "      <td>No</td>\n",
       "      <td>suspense</td>\n",
       "      <td>Yes</td>\n",
       "      <td>No</td>\n",
       "      <td>No</td>\n",
       "      <td>Jeet Goswami</td>\n",
       "      <td>Ravi Varma</td>\n",
       "      <td>Baba Jagirdar</td>\n",
       "      <td>5</td>\n",
       "      <td>5000000</td>\n",
       "      <td>85000</td>\n",
       "    </tr>\n",
       "    <tr>\n",
       "      <th>1</th>\n",
       "      <td>Kaccha Limboo</td>\n",
       "      <td>Holiday</td>\n",
       "      <td>No</td>\n",
       "      <td>No</td>\n",
       "      <td>drama</td>\n",
       "      <td>Yes</td>\n",
       "      <td>No</td>\n",
       "      <td>Yes</td>\n",
       "      <td>Karan Bhanushali</td>\n",
       "      <td>Sagar Ballary</td>\n",
       "      <td>Amardeep Nijjer</td>\n",
       "      <td>75</td>\n",
       "      <td>15000000</td>\n",
       "      <td>825000</td>\n",
       "    </tr>\n",
       "    <tr>\n",
       "      <th>2</th>\n",
       "      <td>Not A Love Story</td>\n",
       "      <td>Holiday</td>\n",
       "      <td>No</td>\n",
       "      <td>No</td>\n",
       "      <td>thriller</td>\n",
       "      <td>No</td>\n",
       "      <td>No</td>\n",
       "      <td>No</td>\n",
       "      <td>Mahie Gill</td>\n",
       "      <td>Ram Gopal Verma</td>\n",
       "      <td>Sandeep Chowta</td>\n",
       "      <td>525</td>\n",
       "      <td>75000000</td>\n",
       "      <td>56700000</td>\n",
       "    </tr>\n",
       "    <tr>\n",
       "      <th>3</th>\n",
       "      <td>Qaidi Band</td>\n",
       "      <td>Holiday</td>\n",
       "      <td>No</td>\n",
       "      <td>No</td>\n",
       "      <td>drama</td>\n",
       "      <td>Yes</td>\n",
       "      <td>No</td>\n",
       "      <td>No</td>\n",
       "      <td>Aadar Jain</td>\n",
       "      <td>Habib Faisal</td>\n",
       "      <td>Amit Trivedi</td>\n",
       "      <td>800</td>\n",
       "      <td>210000000</td>\n",
       "      <td>4500000</td>\n",
       "    </tr>\n",
       "    <tr>\n",
       "      <th>4</th>\n",
       "      <td>Chaatwali</td>\n",
       "      <td>Holiday</td>\n",
       "      <td>No</td>\n",
       "      <td>No</td>\n",
       "      <td>adult</td>\n",
       "      <td>Yes</td>\n",
       "      <td>Yes</td>\n",
       "      <td>Yes</td>\n",
       "      <td>Aadil Khan</td>\n",
       "      <td>Aadil Khan</td>\n",
       "      <td>Babloo Ustad</td>\n",
       "      <td>1</td>\n",
       "      <td>1000000</td>\n",
       "      <td>1075000</td>\n",
       "    </tr>\n",
       "  </tbody>\n",
       "</table>\n",
       "</div>"
      ],
      "text/plain": [
       "         Movie Name Release Period Whether Remake Whether Franchise     Genre  \\\n",
       "0       Golden Boys         Normal             No                No  suspense   \n",
       "1     Kaccha Limboo        Holiday             No                No     drama   \n",
       "2  Not A Love Story        Holiday             No                No  thriller   \n",
       "3        Qaidi Band        Holiday             No                No     drama   \n",
       "4         Chaatwali        Holiday             No                No     adult   \n",
       "\n",
       "  New Actor New Director New Music Director         Lead Star  \\\n",
       "0       Yes           No                 No      Jeet Goswami   \n",
       "1       Yes           No                Yes  Karan Bhanushali   \n",
       "2        No           No                 No        Mahie Gill   \n",
       "3       Yes           No                 No        Aadar Jain   \n",
       "4       Yes          Yes                Yes        Aadil Khan   \n",
       "\n",
       "          Director   Music Director  Number of Screens  Revenue(INR)  \\\n",
       "0       Ravi Varma    Baba Jagirdar                  5       5000000   \n",
       "1    Sagar Ballary  Amardeep Nijjer                 75      15000000   \n",
       "2  Ram Gopal Verma   Sandeep Chowta                525      75000000   \n",
       "3     Habib Faisal     Amit Trivedi                800     210000000   \n",
       "4       Aadil Khan     Babloo Ustad                  1       1000000   \n",
       "\n",
       "   Budget(INR)  \n",
       "0        85000  \n",
       "1       825000  \n",
       "2     56700000  \n",
       "3      4500000  \n",
       "4      1075000  "
      ]
     },
     "execution_count": 132,
     "metadata": {},
     "output_type": "execute_result"
    }
   ],
   "source": [
    "path_to_file=\"C:/CMI/SEM 6/DMML/Assignment1/movie-data/Data for repository.csv\"\n",
    "film_data=pd.read_csv(path_to_file, sep=\",\")\n",
    "film_data.head()"
   ]
  },
  {
   "attachments": {},
   "cell_type": "markdown",
   "metadata": {},
   "source": [
    "Modifying the Dataset\n",
    "\n",
    "We drop the column 'Movie Name' because that is different for each and provides no insight. Although the values are very different for \"Director', 'Lead Star', 'Music Director', we still include them because their popularity and fan following plays a huge role. We make a new column 'hit_or_flop' which tells if the movie is a hit or a flop. This is our target variable. Note that in the original dataset, revenue and budget columns are interchanged(which is also mentioned on Kaggle) and hence we intercahnge the column headings first. Then we drop the column revenue but not the budget because budget of a movie is decided at the time when movie is made. So this is known beforehand."
   ]
  },
  {
   "cell_type": "code",
   "execution_count": 133,
   "metadata": {},
   "outputs": [
    {
     "data": {
      "text/html": [
       "<div>\n",
       "<style scoped>\n",
       "    .dataframe tbody tr th:only-of-type {\n",
       "        vertical-align: middle;\n",
       "    }\n",
       "\n",
       "    .dataframe tbody tr th {\n",
       "        vertical-align: top;\n",
       "    }\n",
       "\n",
       "    .dataframe thead th {\n",
       "        text-align: right;\n",
       "    }\n",
       "</style>\n",
       "<table border=\"1\" class=\"dataframe\">\n",
       "  <thead>\n",
       "    <tr style=\"text-align: right;\">\n",
       "      <th></th>\n",
       "      <th>Release Period</th>\n",
       "      <th>Whether Remake</th>\n",
       "      <th>Whether Franchise</th>\n",
       "      <th>New Actor</th>\n",
       "      <th>New Director</th>\n",
       "      <th>New Music Director</th>\n",
       "      <th>Number of Screens</th>\n",
       "      <th>Budget(INR)</th>\n",
       "      <th>Genre_action</th>\n",
       "      <th>Genre_adult</th>\n",
       "      <th>...</th>\n",
       "      <th>Music Director_Vivek Prakash</th>\n",
       "      <th>Music Director_Vivek Priyadarshan</th>\n",
       "      <th>Music Director_Wayne Sharpe</th>\n",
       "      <th>Music Director_Yasin Darbar</th>\n",
       "      <th>Music Director_Yuvan Shankar Raja</th>\n",
       "      <th>Music Director_Zakir Hussain</th>\n",
       "      <th>Music Director_Zubeen Garg</th>\n",
       "      <th>Music Director_Zubin Balaporia</th>\n",
       "      <th>Music Director_Zubunnisa Bangash</th>\n",
       "      <th>Hit_or_Flop</th>\n",
       "    </tr>\n",
       "  </thead>\n",
       "  <tbody>\n",
       "    <tr>\n",
       "      <th>0</th>\n",
       "      <td>0</td>\n",
       "      <td>0</td>\n",
       "      <td>0</td>\n",
       "      <td>1</td>\n",
       "      <td>0</td>\n",
       "      <td>0</td>\n",
       "      <td>5</td>\n",
       "      <td>5000000</td>\n",
       "      <td>0</td>\n",
       "      <td>0</td>\n",
       "      <td>...</td>\n",
       "      <td>0</td>\n",
       "      <td>0</td>\n",
       "      <td>0</td>\n",
       "      <td>0</td>\n",
       "      <td>0</td>\n",
       "      <td>0</td>\n",
       "      <td>0</td>\n",
       "      <td>0</td>\n",
       "      <td>0</td>\n",
       "      <td>flop</td>\n",
       "    </tr>\n",
       "    <tr>\n",
       "      <th>1</th>\n",
       "      <td>1</td>\n",
       "      <td>0</td>\n",
       "      <td>0</td>\n",
       "      <td>1</td>\n",
       "      <td>0</td>\n",
       "      <td>1</td>\n",
       "      <td>75</td>\n",
       "      <td>15000000</td>\n",
       "      <td>0</td>\n",
       "      <td>0</td>\n",
       "      <td>...</td>\n",
       "      <td>0</td>\n",
       "      <td>0</td>\n",
       "      <td>0</td>\n",
       "      <td>0</td>\n",
       "      <td>0</td>\n",
       "      <td>0</td>\n",
       "      <td>0</td>\n",
       "      <td>0</td>\n",
       "      <td>0</td>\n",
       "      <td>flop</td>\n",
       "    </tr>\n",
       "    <tr>\n",
       "      <th>2</th>\n",
       "      <td>1</td>\n",
       "      <td>0</td>\n",
       "      <td>0</td>\n",
       "      <td>0</td>\n",
       "      <td>0</td>\n",
       "      <td>0</td>\n",
       "      <td>525</td>\n",
       "      <td>75000000</td>\n",
       "      <td>0</td>\n",
       "      <td>0</td>\n",
       "      <td>...</td>\n",
       "      <td>0</td>\n",
       "      <td>0</td>\n",
       "      <td>0</td>\n",
       "      <td>0</td>\n",
       "      <td>0</td>\n",
       "      <td>0</td>\n",
       "      <td>0</td>\n",
       "      <td>0</td>\n",
       "      <td>0</td>\n",
       "      <td>flop</td>\n",
       "    </tr>\n",
       "    <tr>\n",
       "      <th>3</th>\n",
       "      <td>1</td>\n",
       "      <td>0</td>\n",
       "      <td>0</td>\n",
       "      <td>1</td>\n",
       "      <td>0</td>\n",
       "      <td>0</td>\n",
       "      <td>800</td>\n",
       "      <td>210000000</td>\n",
       "      <td>0</td>\n",
       "      <td>0</td>\n",
       "      <td>...</td>\n",
       "      <td>0</td>\n",
       "      <td>0</td>\n",
       "      <td>0</td>\n",
       "      <td>0</td>\n",
       "      <td>0</td>\n",
       "      <td>0</td>\n",
       "      <td>0</td>\n",
       "      <td>0</td>\n",
       "      <td>0</td>\n",
       "      <td>flop</td>\n",
       "    </tr>\n",
       "    <tr>\n",
       "      <th>4</th>\n",
       "      <td>1</td>\n",
       "      <td>0</td>\n",
       "      <td>0</td>\n",
       "      <td>1</td>\n",
       "      <td>1</td>\n",
       "      <td>1</td>\n",
       "      <td>1</td>\n",
       "      <td>1000000</td>\n",
       "      <td>0</td>\n",
       "      <td>1</td>\n",
       "      <td>...</td>\n",
       "      <td>0</td>\n",
       "      <td>0</td>\n",
       "      <td>0</td>\n",
       "      <td>0</td>\n",
       "      <td>0</td>\n",
       "      <td>0</td>\n",
       "      <td>0</td>\n",
       "      <td>0</td>\n",
       "      <td>0</td>\n",
       "      <td>hit</td>\n",
       "    </tr>\n",
       "  </tbody>\n",
       "</table>\n",
       "<p>5 rows × 2465 columns</p>\n",
       "</div>"
      ],
      "text/plain": [
       "   Release Period  Whether Remake  Whether Franchise  New Actor  New Director  \\\n",
       "0               0               0                  0          1             0   \n",
       "1               1               0                  0          1             0   \n",
       "2               1               0                  0          0             0   \n",
       "3               1               0                  0          1             0   \n",
       "4               1               0                  0          1             1   \n",
       "\n",
       "   New Music Director  Number of Screens  Budget(INR)  Genre_action  \\\n",
       "0                   0                  5      5000000             0   \n",
       "1                   1                 75     15000000             0   \n",
       "2                   0                525     75000000             0   \n",
       "3                   0                800    210000000             0   \n",
       "4                   1                  1      1000000             0   \n",
       "\n",
       "   Genre_adult  ...  Music Director_Vivek Prakash  \\\n",
       "0            0  ...                             0   \n",
       "1            0  ...                             0   \n",
       "2            0  ...                             0   \n",
       "3            0  ...                             0   \n",
       "4            1  ...                             0   \n",
       "\n",
       "   Music Director_Vivek Priyadarshan  Music Director_Wayne Sharpe  \\\n",
       "0                                  0                            0   \n",
       "1                                  0                            0   \n",
       "2                                  0                            0   \n",
       "3                                  0                            0   \n",
       "4                                  0                            0   \n",
       "\n",
       "   Music Director_Yasin Darbar  Music Director_Yuvan Shankar Raja  \\\n",
       "0                            0                                  0   \n",
       "1                            0                                  0   \n",
       "2                            0                                  0   \n",
       "3                            0                                  0   \n",
       "4                            0                                  0   \n",
       "\n",
       "   Music Director_Zakir Hussain  Music Director_Zubeen Garg  \\\n",
       "0                             0                           0   \n",
       "1                             0                           0   \n",
       "2                             0                           0   \n",
       "3                             0                           0   \n",
       "4                             0                           0   \n",
       "\n",
       "   Music Director_Zubin Balaporia  Music Director_Zubunnisa Bangash  \\\n",
       "0                               0                                 0   \n",
       "1                               0                                 0   \n",
       "2                               0                                 0   \n",
       "3                               0                                 0   \n",
       "4                               0                                 0   \n",
       "\n",
       "   Hit_or_Flop  \n",
       "0         flop  \n",
       "1         flop  \n",
       "2         flop  \n",
       "3         flop  \n",
       "4          hit  \n",
       "\n",
       "[5 rows x 2465 columns]"
      ]
     },
     "execution_count": 133,
     "metadata": {},
     "output_type": "execute_result"
    }
   ],
   "source": [
    "film_data['Revenue(INR)'], film_data['Budget(INR)'] = film_data['Budget(INR)'] , film_data['Revenue(INR)']\n",
    "film_data=film_data.drop(columns=['Movie Name'])\n",
    "\n",
    "#Changing the ordinal variables manually preserving the order\n",
    "film_data['Whether Remake'] = film_data['Whether Remake'].map({'Yes':1, 'No':0})\n",
    "film_data['Whether Franchise'] = film_data['Whether Franchise'].map({'Yes':1, 'No':0})\n",
    "film_data['New Actor'] = film_data['New Actor'].map({'Yes':1, 'No':0})\n",
    "film_data['New Director'] = film_data['New Director'].map({'Yes':1, 'No':0})\n",
    "film_data['New Music Director'] = film_data['New Music Director'].map({'Yes':1, 'No':0})\n",
    "film_data['Release Period'] = film_data['Release Period'].map({'Normal':0, 'Holiday':1})\n",
    "\n",
    "#Changing some of the categorical attributes to numerical attributes using Label Encoding.\n",
    "film_data=pd.get_dummies(film_data,columns=['Genre', 'Director', 'Lead Star', 'Music Director'])\n",
    "\n",
    "#creating a hit_or_flop column\n",
    "hit_or_flop=[' ']*1698\n",
    "for i in range(1698):\n",
    "    if film_data.at[i,'Budget(INR)']<film_data.at[i,'Revenue(INR)']:\n",
    "        hit_or_flop[i]='hit'\n",
    "    else:\n",
    "        hit_or_flop[i]='flop'   \n",
    "\n",
    "film_data=film_data.assign(Hit_or_Flop=hit_or_flop)\n",
    "\n",
    "film_data=film_data.drop(columns=['Revenue(INR)'])\n",
    "\n",
    "film_data.head()\n",
    "\n"
   ]
  },
  {
   "attachments": {},
   "cell_type": "markdown",
   "metadata": {},
   "source": [
    "Training the Data"
   ]
  },
  {
   "cell_type": "code",
   "execution_count": 134,
   "metadata": {},
   "outputs": [],
   "source": [
    "X = film_data.drop(['Hit_or_Flop'], axis = 1)\n",
    "y = film_data['Hit_or_Flop']\n",
    "#Splitting the data into training and test samples (75-25 split)\n",
    "X_train, X_test, y_train, y_test = train_test_split(X, y, random_state=42)\n"
   ]
  },
  {
   "attachments": {},
   "cell_type": "markdown",
   "metadata": {},
   "source": [
    "Fitting the Decision Tree Classifier"
   ]
  },
  {
   "cell_type": "code",
   "execution_count": 135,
   "metadata": {},
   "outputs": [
    {
     "data": {
      "text/html": [
       "<style>#sk-container-id-19 {color: black;background-color: white;}#sk-container-id-19 pre{padding: 0;}#sk-container-id-19 div.sk-toggleable {background-color: white;}#sk-container-id-19 label.sk-toggleable__label {cursor: pointer;display: block;width: 100%;margin-bottom: 0;padding: 0.3em;box-sizing: border-box;text-align: center;}#sk-container-id-19 label.sk-toggleable__label-arrow:before {content: \"▸\";float: left;margin-right: 0.25em;color: #696969;}#sk-container-id-19 label.sk-toggleable__label-arrow:hover:before {color: black;}#sk-container-id-19 div.sk-estimator:hover label.sk-toggleable__label-arrow:before {color: black;}#sk-container-id-19 div.sk-toggleable__content {max-height: 0;max-width: 0;overflow: hidden;text-align: left;background-color: #f0f8ff;}#sk-container-id-19 div.sk-toggleable__content pre {margin: 0.2em;color: black;border-radius: 0.25em;background-color: #f0f8ff;}#sk-container-id-19 input.sk-toggleable__control:checked~div.sk-toggleable__content {max-height: 200px;max-width: 100%;overflow: auto;}#sk-container-id-19 input.sk-toggleable__control:checked~label.sk-toggleable__label-arrow:before {content: \"▾\";}#sk-container-id-19 div.sk-estimator input.sk-toggleable__control:checked~label.sk-toggleable__label {background-color: #d4ebff;}#sk-container-id-19 div.sk-label input.sk-toggleable__control:checked~label.sk-toggleable__label {background-color: #d4ebff;}#sk-container-id-19 input.sk-hidden--visually {border: 0;clip: rect(1px 1px 1px 1px);clip: rect(1px, 1px, 1px, 1px);height: 1px;margin: -1px;overflow: hidden;padding: 0;position: absolute;width: 1px;}#sk-container-id-19 div.sk-estimator {font-family: monospace;background-color: #f0f8ff;border: 1px dotted black;border-radius: 0.25em;box-sizing: border-box;margin-bottom: 0.5em;}#sk-container-id-19 div.sk-estimator:hover {background-color: #d4ebff;}#sk-container-id-19 div.sk-parallel-item::after {content: \"\";width: 100%;border-bottom: 1px solid gray;flex-grow: 1;}#sk-container-id-19 div.sk-label:hover label.sk-toggleable__label {background-color: #d4ebff;}#sk-container-id-19 div.sk-serial::before {content: \"\";position: absolute;border-left: 1px solid gray;box-sizing: border-box;top: 0;bottom: 0;left: 50%;z-index: 0;}#sk-container-id-19 div.sk-serial {display: flex;flex-direction: column;align-items: center;background-color: white;padding-right: 0.2em;padding-left: 0.2em;position: relative;}#sk-container-id-19 div.sk-item {position: relative;z-index: 1;}#sk-container-id-19 div.sk-parallel {display: flex;align-items: stretch;justify-content: center;background-color: white;position: relative;}#sk-container-id-19 div.sk-item::before, #sk-container-id-19 div.sk-parallel-item::before {content: \"\";position: absolute;border-left: 1px solid gray;box-sizing: border-box;top: 0;bottom: 0;left: 50%;z-index: -1;}#sk-container-id-19 div.sk-parallel-item {display: flex;flex-direction: column;z-index: 1;position: relative;background-color: white;}#sk-container-id-19 div.sk-parallel-item:first-child::after {align-self: flex-end;width: 50%;}#sk-container-id-19 div.sk-parallel-item:last-child::after {align-self: flex-start;width: 50%;}#sk-container-id-19 div.sk-parallel-item:only-child::after {width: 0;}#sk-container-id-19 div.sk-dashed-wrapped {border: 1px dashed gray;margin: 0 0.4em 0.5em 0.4em;box-sizing: border-box;padding-bottom: 0.4em;background-color: white;}#sk-container-id-19 div.sk-label label {font-family: monospace;font-weight: bold;display: inline-block;line-height: 1.2em;}#sk-container-id-19 div.sk-label-container {text-align: center;}#sk-container-id-19 div.sk-container {/* jupyter's `normalize.less` sets `[hidden] { display: none; }` but bootstrap.min.css set `[hidden] { display: none !important; }` so we also need the `!important` here to be able to override the default hidden behavior on the sphinx rendered scikit-learn.org. See: https://github.com/scikit-learn/scikit-learn/issues/21755 */display: inline-block !important;position: relative;}#sk-container-id-19 div.sk-text-repr-fallback {display: none;}</style><div id=\"sk-container-id-19\" class=\"sk-top-container\"><div class=\"sk-text-repr-fallback\"><pre>DecisionTreeClassifier(max_depth=5, random_state=42)</pre><b>In a Jupyter environment, please rerun this cell to show the HTML representation or trust the notebook. <br />On GitHub, the HTML representation is unable to render, please try loading this page with nbviewer.org.</b></div><div class=\"sk-container\" hidden><div class=\"sk-item\"><div class=\"sk-estimator sk-toggleable\"><input class=\"sk-toggleable__control sk-hidden--visually\" id=\"sk-estimator-id-19\" type=\"checkbox\" checked><label for=\"sk-estimator-id-19\" class=\"sk-toggleable__label sk-toggleable__label-arrow\">DecisionTreeClassifier</label><div class=\"sk-toggleable__content\"><pre>DecisionTreeClassifier(max_depth=5, random_state=42)</pre></div></div></div></div></div>"
      ],
      "text/plain": [
       "DecisionTreeClassifier(max_depth=5, random_state=42)"
      ]
     },
     "execution_count": 135,
     "metadata": {},
     "output_type": "execute_result"
    }
   ],
   "source": [
    "DT = DecisionTreeClassifier(max_depth = 5, random_state=42)\n",
    "DT.fit(X_train, y_train)"
   ]
  },
  {
   "attachments": {},
   "cell_type": "markdown",
   "metadata": {},
   "source": [
    "Visualising the Tree"
   ]
  },
  {
   "cell_type": "code",
   "execution_count": 136,
   "metadata": {},
   "outputs": [
    {
     "data": {
      "image/svg+xml": "<?xml version=\"1.0\" encoding=\"UTF-8\" standalone=\"no\"?>\n<!DOCTYPE svg PUBLIC \"-//W3C//DTD SVG 1.1//EN\"\n \"http://www.w3.org/Graphics/SVG/1.1/DTD/svg11.dtd\">\n<!-- Generated by graphviz version 7.1.0 (20230121.1956)\n -->\n<!-- Title: Tree Pages: 1 -->\n<svg width=\"2744pt\" height=\"671pt\"\n viewBox=\"0.00 0.00 2743.50 671.00\" xmlns=\"http://www.w3.org/2000/svg\" xmlns:xlink=\"http://www.w3.org/1999/xlink\">\n<g id=\"graph0\" class=\"graph\" transform=\"scale(1 1) rotate(0) translate(4 667)\">\n<title>Tree</title>\n<polygon fill=\"white\" stroke=\"none\" points=\"-4,4 -4,-667 2739.5,-667 2739.5,4 -4,4\"/>\n<!-- 0 -->\n<g id=\"node1\" class=\"node\">\n<title>0</title>\n<path fill=\"#efb286\" stroke=\"black\" d=\"M1694,-663C1694,-663 1512,-663 1512,-663 1506,-663 1500,-657 1500,-651 1500,-651 1500,-592 1500,-592 1500,-586 1506,-580 1512,-580 1512,-580 1694,-580 1694,-580 1700,-580 1706,-586 1706,-592 1706,-592 1706,-651 1706,-651 1706,-657 1700,-663 1694,-663\"/>\n<text text-anchor=\"middle\" x=\"1603\" y=\"-647.8\" font-family=\"Helvetica,sans-Serif\" font-size=\"14.00\">Budget(INR) &lt;= 127500000.0</text>\n<text text-anchor=\"middle\" x=\"1603\" y=\"-632.8\" font-family=\"Helvetica,sans-Serif\" font-size=\"14.00\">gini = 0.404</text>\n<text text-anchor=\"middle\" x=\"1603\" y=\"-617.8\" font-family=\"Helvetica,sans-Serif\" font-size=\"14.00\">samples = 1273</text>\n<text text-anchor=\"middle\" x=\"1603\" y=\"-602.8\" font-family=\"Helvetica,sans-Serif\" font-size=\"14.00\">value = [916, 357]</text>\n<text text-anchor=\"middle\" x=\"1603\" y=\"-587.8\" font-family=\"Helvetica,sans-Serif\" font-size=\"14.00\">class = Flop</text>\n</g>\n<!-- 1 -->\n<g id=\"node2\" class=\"node\">\n<title>1</title>\n<path fill=\"#e89253\" stroke=\"black\" d=\"M1362.5,-544C1362.5,-544 1185.5,-544 1185.5,-544 1179.5,-544 1173.5,-538 1173.5,-532 1173.5,-532 1173.5,-473 1173.5,-473 1173.5,-467 1179.5,-461 1185.5,-461 1185.5,-461 1362.5,-461 1362.5,-461 1368.5,-461 1374.5,-467 1374.5,-473 1374.5,-473 1374.5,-532 1374.5,-532 1374.5,-538 1368.5,-544 1362.5,-544\"/>\n<text text-anchor=\"middle\" x=\"1274\" y=\"-528.8\" font-family=\"Helvetica,sans-Serif\" font-size=\"14.00\">Number of Screens &lt;= 217.5</text>\n<text text-anchor=\"middle\" x=\"1274\" y=\"-513.8\" font-family=\"Helvetica,sans-Serif\" font-size=\"14.00\">gini = 0.206</text>\n<text text-anchor=\"middle\" x=\"1274\" y=\"-498.8\" font-family=\"Helvetica,sans-Serif\" font-size=\"14.00\">samples = 857</text>\n<text text-anchor=\"middle\" x=\"1274\" y=\"-483.8\" font-family=\"Helvetica,sans-Serif\" font-size=\"14.00\">value = [757, 100]</text>\n<text text-anchor=\"middle\" x=\"1274\" y=\"-468.8\" font-family=\"Helvetica,sans-Serif\" font-size=\"14.00\">class = Flop</text>\n</g>\n<!-- 0&#45;&gt;1 -->\n<g id=\"edge1\" class=\"edge\">\n<title>0&#45;&gt;1</title>\n<path fill=\"none\" stroke=\"black\" d=\"M1499.81,-583.8C1463.53,-570.9 1422.61,-556.35 1385.67,-543.21\"/>\n<polygon fill=\"black\" stroke=\"black\" points=\"1386.88,-539.93 1376.28,-539.87 1384.53,-546.52 1386.88,-539.93\"/>\n<text text-anchor=\"middle\" x=\"1385.59\" y=\"-558.25\" font-family=\"Helvetica,sans-Serif\" font-size=\"14.00\">True</text>\n</g>\n<!-- 28 -->\n<g id=\"node29\" class=\"node\">\n<title>28</title>\n<path fill=\"#b3daf5\" stroke=\"black\" d=\"M2064.5,-544C2064.5,-544 1879.5,-544 1879.5,-544 1873.5,-544 1867.5,-538 1867.5,-532 1867.5,-532 1867.5,-473 1867.5,-473 1867.5,-467 1873.5,-461 1879.5,-461 1879.5,-461 2064.5,-461 2064.5,-461 2070.5,-461 2076.5,-467 2076.5,-473 2076.5,-473 2076.5,-532 2076.5,-532 2076.5,-538 2070.5,-544 2064.5,-544\"/>\n<text text-anchor=\"middle\" x=\"1972\" y=\"-528.8\" font-family=\"Helvetica,sans-Serif\" font-size=\"14.00\">Number of Screens &lt;= 2125.0</text>\n<text text-anchor=\"middle\" x=\"1972\" y=\"-513.8\" font-family=\"Helvetica,sans-Serif\" font-size=\"14.00\">gini = 0.472</text>\n<text text-anchor=\"middle\" x=\"1972\" y=\"-498.8\" font-family=\"Helvetica,sans-Serif\" font-size=\"14.00\">samples = 416</text>\n<text text-anchor=\"middle\" x=\"1972\" y=\"-483.8\" font-family=\"Helvetica,sans-Serif\" font-size=\"14.00\">value = [159, 257]</text>\n<text text-anchor=\"middle\" x=\"1972\" y=\"-468.8\" font-family=\"Helvetica,sans-Serif\" font-size=\"14.00\">class = Hit</text>\n</g>\n<!-- 0&#45;&gt;28 -->\n<g id=\"edge28\" class=\"edge\">\n<title>0&#45;&gt;28</title>\n<path fill=\"none\" stroke=\"black\" d=\"M1706.28,-587.75C1752.96,-572.95 1808.31,-555.4 1856.37,-540.16\"/>\n<polygon fill=\"black\" stroke=\"black\" points=\"1857.23,-543.56 1865.7,-537.2 1855.11,-536.89 1857.23,-543.56\"/>\n<text text-anchor=\"middle\" x=\"1855.64\" y=\"-555.24\" font-family=\"Helvetica,sans-Serif\" font-size=\"14.00\">False</text>\n</g>\n<!-- 2 -->\n<g id=\"node3\" class=\"node\">\n<title>2</title>\n<path fill=\"#e68844\" stroke=\"black\" d=\"M787,-425C787,-425 617,-425 617,-425 611,-425 605,-419 605,-413 605,-413 605,-354 605,-354 605,-348 611,-342 617,-342 617,-342 787,-342 787,-342 793,-342 799,-348 799,-354 799,-354 799,-413 799,-413 799,-419 793,-425 787,-425\"/>\n<text text-anchor=\"middle\" x=\"702\" y=\"-409.8\" font-family=\"Helvetica,sans-Serif\" font-size=\"14.00\">Director_Suresh Jain &lt;= 0.5</text>\n<text text-anchor=\"middle\" x=\"702\" y=\"-394.8\" font-family=\"Helvetica,sans-Serif\" font-size=\"14.00\">gini = 0.097</text>\n<text text-anchor=\"middle\" x=\"702\" y=\"-379.8\" font-family=\"Helvetica,sans-Serif\" font-size=\"14.00\">samples = 628</text>\n<text text-anchor=\"middle\" x=\"702\" y=\"-364.8\" font-family=\"Helvetica,sans-Serif\" font-size=\"14.00\">value = [596, 32]</text>\n<text text-anchor=\"middle\" x=\"702\" y=\"-349.8\" font-family=\"Helvetica,sans-Serif\" font-size=\"14.00\">class = Flop</text>\n</g>\n<!-- 1&#45;&gt;2 -->\n<g id=\"edge2\" class=\"edge\">\n<title>1&#45;&gt;2</title>\n<path fill=\"none\" stroke=\"black\" d=\"M1173.05,-480.85C1071.25,-460.03 914.61,-427.99 810.27,-406.65\"/>\n<polygon fill=\"black\" stroke=\"black\" points=\"811.06,-403.23 800.56,-404.66 809.65,-410.09 811.06,-403.23\"/>\n</g>\n<!-- 17 -->\n<g id=\"node18\" class=\"node\">\n<title>17</title>\n<path fill=\"#f0b68d\" stroke=\"black\" d=\"M1393,-425C1393,-425 1155,-425 1155,-425 1149,-425 1143,-419 1143,-413 1143,-413 1143,-354 1143,-354 1143,-348 1149,-342 1155,-342 1155,-342 1393,-342 1393,-342 1399,-342 1405,-348 1405,-354 1405,-354 1405,-413 1405,-413 1405,-419 1399,-425 1393,-425\"/>\n<text text-anchor=\"middle\" x=\"1274\" y=\"-409.8\" font-family=\"Helvetica,sans-Serif\" font-size=\"14.00\">Music Director_Vishal &#45; Shekhar &lt;= 0.5</text>\n<text text-anchor=\"middle\" x=\"1274\" y=\"-394.8\" font-family=\"Helvetica,sans-Serif\" font-size=\"14.00\">gini = 0.418</text>\n<text text-anchor=\"middle\" x=\"1274\" y=\"-379.8\" font-family=\"Helvetica,sans-Serif\" font-size=\"14.00\">samples = 229</text>\n<text text-anchor=\"middle\" x=\"1274\" y=\"-364.8\" font-family=\"Helvetica,sans-Serif\" font-size=\"14.00\">value = [161, 68]</text>\n<text text-anchor=\"middle\" x=\"1274\" y=\"-349.8\" font-family=\"Helvetica,sans-Serif\" font-size=\"14.00\">class = Flop</text>\n</g>\n<!-- 1&#45;&gt;17 -->\n<g id=\"edge17\" class=\"edge\">\n<title>1&#45;&gt;17</title>\n<path fill=\"none\" stroke=\"black\" d=\"M1274,-460.58C1274,-452.79 1274,-444.53 1274,-436.45\"/>\n<polygon fill=\"black\" stroke=\"black\" points=\"1277.5,-436.71 1274,-426.71 1270.5,-436.71 1277.5,-436.71\"/>\n</g>\n<!-- 3 -->\n<g id=\"node4\" class=\"node\">\n<title>3</title>\n<path fill=\"#e68641\" stroke=\"black\" d=\"M510.5,-306C510.5,-306 241.5,-306 241.5,-306 235.5,-306 229.5,-300 229.5,-294 229.5,-294 229.5,-235 229.5,-235 229.5,-229 235.5,-223 241.5,-223 241.5,-223 510.5,-223 510.5,-223 516.5,-223 522.5,-229 522.5,-235 522.5,-235 522.5,-294 522.5,-294 522.5,-300 516.5,-306 510.5,-306\"/>\n<text text-anchor=\"middle\" x=\"376\" y=\"-290.8\" font-family=\"Helvetica,sans-Serif\" font-size=\"14.00\">Music Director_Sawan Kumar Sawan &lt;= 0.5</text>\n<text text-anchor=\"middle\" x=\"376\" y=\"-275.8\" font-family=\"Helvetica,sans-Serif\" font-size=\"14.00\">gini = 0.078</text>\n<text text-anchor=\"middle\" x=\"376\" y=\"-260.8\" font-family=\"Helvetica,sans-Serif\" font-size=\"14.00\">samples = 616</text>\n<text text-anchor=\"middle\" x=\"376\" y=\"-245.8\" font-family=\"Helvetica,sans-Serif\" font-size=\"14.00\">value = [591, 25]</text>\n<text text-anchor=\"middle\" x=\"376\" y=\"-230.8\" font-family=\"Helvetica,sans-Serif\" font-size=\"14.00\">class = Flop</text>\n</g>\n<!-- 2&#45;&gt;3 -->\n<g id=\"edge3\" class=\"edge\">\n<title>2&#45;&gt;3</title>\n<path fill=\"none\" stroke=\"black\" d=\"M604.63,-347.55C571.99,-335.84 535.12,-322.61 500.68,-310.25\"/>\n<polygon fill=\"black\" stroke=\"black\" points=\"502.1,-307.04 491.5,-306.95 499.73,-313.63 502.1,-307.04\"/>\n</g>\n<!-- 10 -->\n<g id=\"node11\" class=\"node\">\n<title>10</title>\n<path fill=\"#c6e3f8\" stroke=\"black\" d=\"M782.5,-306C782.5,-306 621.5,-306 621.5,-306 615.5,-306 609.5,-300 609.5,-294 609.5,-294 609.5,-235 609.5,-235 609.5,-229 615.5,-223 621.5,-223 621.5,-223 782.5,-223 782.5,-223 788.5,-223 794.5,-229 794.5,-235 794.5,-235 794.5,-294 794.5,-294 794.5,-300 788.5,-306 782.5,-306\"/>\n<text text-anchor=\"middle\" x=\"702\" y=\"-290.8\" font-family=\"Helvetica,sans-Serif\" font-size=\"14.00\">Number of Screens &lt;= 1.5</text>\n<text text-anchor=\"middle\" x=\"702\" y=\"-275.8\" font-family=\"Helvetica,sans-Serif\" font-size=\"14.00\">gini = 0.486</text>\n<text text-anchor=\"middle\" x=\"702\" y=\"-260.8\" font-family=\"Helvetica,sans-Serif\" font-size=\"14.00\">samples = 12</text>\n<text text-anchor=\"middle\" x=\"702\" y=\"-245.8\" font-family=\"Helvetica,sans-Serif\" font-size=\"14.00\">value = [5, 7]</text>\n<text text-anchor=\"middle\" x=\"702\" y=\"-230.8\" font-family=\"Helvetica,sans-Serif\" font-size=\"14.00\">class = Hit</text>\n</g>\n<!-- 2&#45;&gt;10 -->\n<g id=\"edge10\" class=\"edge\">\n<title>2&#45;&gt;10</title>\n<path fill=\"none\" stroke=\"black\" d=\"M702,-341.58C702,-333.79 702,-325.53 702,-317.45\"/>\n<polygon fill=\"black\" stroke=\"black\" points=\"705.5,-317.71 702,-307.71 698.5,-317.71 705.5,-317.71\"/>\n</g>\n<!-- 4 -->\n<g id=\"node5\" class=\"node\">\n<title>4</title>\n<path fill=\"#e68640\" stroke=\"black\" d=\"M276,-187C276,-187 100,-187 100,-187 94,-187 88,-181 88,-175 88,-175 88,-116 88,-116 88,-110 94,-104 100,-104 100,-104 276,-104 276,-104 282,-104 288,-110 288,-116 288,-116 288,-175 288,-175 288,-181 282,-187 276,-187\"/>\n<text text-anchor=\"middle\" x=\"188\" y=\"-171.8\" font-family=\"Helvetica,sans-Serif\" font-size=\"14.00\">Director_Jag Mundhra &lt;= 0.5</text>\n<text text-anchor=\"middle\" x=\"188\" y=\"-156.8\" font-family=\"Helvetica,sans-Serif\" font-size=\"14.00\">gini = 0.069</text>\n<text text-anchor=\"middle\" x=\"188\" y=\"-141.8\" font-family=\"Helvetica,sans-Serif\" font-size=\"14.00\">samples = 612</text>\n<text text-anchor=\"middle\" x=\"188\" y=\"-126.8\" font-family=\"Helvetica,sans-Serif\" font-size=\"14.00\">value = [590, 22]</text>\n<text text-anchor=\"middle\" x=\"188\" y=\"-111.8\" font-family=\"Helvetica,sans-Serif\" font-size=\"14.00\">class = Flop</text>\n</g>\n<!-- 3&#45;&gt;4 -->\n<g id=\"edge4\" class=\"edge\">\n<title>3&#45;&gt;4</title>\n<path fill=\"none\" stroke=\"black\" d=\"M310.25,-222.58C295.08,-213.14 278.83,-203.02 263.28,-193.35\"/>\n<polygon fill=\"black\" stroke=\"black\" points=\"265.34,-190.51 255,-188.2 261.64,-196.45 265.34,-190.51\"/>\n</g>\n<!-- 7 -->\n<g id=\"node8\" class=\"node\">\n<title>7</title>\n<path fill=\"#7bbeee\" stroke=\"black\" d=\"M433.5,-187C433.5,-187 318.5,-187 318.5,-187 312.5,-187 306.5,-181 306.5,-175 306.5,-175 306.5,-116 306.5,-116 306.5,-110 312.5,-104 318.5,-104 318.5,-104 433.5,-104 433.5,-104 439.5,-104 445.5,-110 445.5,-116 445.5,-116 445.5,-175 445.5,-175 445.5,-181 439.5,-187 433.5,-187\"/>\n<text text-anchor=\"middle\" x=\"376\" y=\"-171.8\" font-family=\"Helvetica,sans-Serif\" font-size=\"14.00\">Genre_adult &lt;= 0.5</text>\n<text text-anchor=\"middle\" x=\"376\" y=\"-156.8\" font-family=\"Helvetica,sans-Serif\" font-size=\"14.00\">gini = 0.375</text>\n<text text-anchor=\"middle\" x=\"376\" y=\"-141.8\" font-family=\"Helvetica,sans-Serif\" font-size=\"14.00\">samples = 4</text>\n<text text-anchor=\"middle\" x=\"376\" y=\"-126.8\" font-family=\"Helvetica,sans-Serif\" font-size=\"14.00\">value = [1, 3]</text>\n<text text-anchor=\"middle\" x=\"376\" y=\"-111.8\" font-family=\"Helvetica,sans-Serif\" font-size=\"14.00\">class = Hit</text>\n</g>\n<!-- 3&#45;&gt;7 -->\n<g id=\"edge7\" class=\"edge\">\n<title>3&#45;&gt;7</title>\n<path fill=\"none\" stroke=\"black\" d=\"M376,-222.58C376,-214.79 376,-206.53 376,-198.45\"/>\n<polygon fill=\"black\" stroke=\"black\" points=\"379.5,-198.71 376,-188.71 372.5,-198.71 379.5,-198.71\"/>\n</g>\n<!-- 5 -->\n<g id=\"node6\" class=\"node\">\n<title>5</title>\n<path fill=\"#e68540\" stroke=\"black\" d=\"M110,-68C110,-68 12,-68 12,-68 6,-68 0,-62 0,-56 0,-56 0,-12 0,-12 0,-6 6,0 12,0 12,0 110,0 110,0 116,0 122,-6 122,-12 122,-12 122,-56 122,-56 122,-62 116,-68 110,-68\"/>\n<text text-anchor=\"middle\" x=\"61\" y=\"-52.8\" font-family=\"Helvetica,sans-Serif\" font-size=\"14.00\">gini = 0.063</text>\n<text text-anchor=\"middle\" x=\"61\" y=\"-37.8\" font-family=\"Helvetica,sans-Serif\" font-size=\"14.00\">samples = 610</text>\n<text text-anchor=\"middle\" x=\"61\" y=\"-22.8\" font-family=\"Helvetica,sans-Serif\" font-size=\"14.00\">value = [590, 20]</text>\n<text text-anchor=\"middle\" x=\"61\" y=\"-7.8\" font-family=\"Helvetica,sans-Serif\" font-size=\"14.00\">class = Flop</text>\n</g>\n<!-- 4&#45;&gt;5 -->\n<g id=\"edge5\" class=\"edge\">\n<title>4&#45;&gt;5</title>\n<path fill=\"none\" stroke=\"black\" d=\"M140.71,-103.73C130.13,-94.61 118.91,-84.93 108.33,-75.81\"/>\n<polygon fill=\"black\" stroke=\"black\" points=\"110.63,-73.17 100.77,-69.29 106.06,-78.47 110.63,-73.17\"/>\n</g>\n<!-- 6 -->\n<g id=\"node7\" class=\"node\">\n<title>6</title>\n<path fill=\"#399de5\" stroke=\"black\" d=\"M225.5,-68C225.5,-68 152.5,-68 152.5,-68 146.5,-68 140.5,-62 140.5,-56 140.5,-56 140.5,-12 140.5,-12 140.5,-6 146.5,0 152.5,0 152.5,0 225.5,0 225.5,0 231.5,0 237.5,-6 237.5,-12 237.5,-12 237.5,-56 237.5,-56 237.5,-62 231.5,-68 225.5,-68\"/>\n<text text-anchor=\"middle\" x=\"189\" y=\"-52.8\" font-family=\"Helvetica,sans-Serif\" font-size=\"14.00\">gini = 0.0</text>\n<text text-anchor=\"middle\" x=\"189\" y=\"-37.8\" font-family=\"Helvetica,sans-Serif\" font-size=\"14.00\">samples = 2</text>\n<text text-anchor=\"middle\" x=\"189\" y=\"-22.8\" font-family=\"Helvetica,sans-Serif\" font-size=\"14.00\">value = [0, 2]</text>\n<text text-anchor=\"middle\" x=\"189\" y=\"-7.8\" font-family=\"Helvetica,sans-Serif\" font-size=\"14.00\">class = Hit</text>\n</g>\n<!-- 4&#45;&gt;6 -->\n<g id=\"edge6\" class=\"edge\">\n<title>4&#45;&gt;6</title>\n<path fill=\"none\" stroke=\"black\" d=\"M188.37,-103.73C188.44,-95.88 188.52,-87.63 188.59,-79.67\"/>\n<polygon fill=\"black\" stroke=\"black\" points=\"192.09,-79.84 188.68,-69.81 185.09,-79.78 192.09,-79.84\"/>\n</g>\n<!-- 8 -->\n<g id=\"node9\" class=\"node\">\n<title>8</title>\n<path fill=\"#e58139\" stroke=\"black\" d=\"M343.5,-68C343.5,-68 270.5,-68 270.5,-68 264.5,-68 258.5,-62 258.5,-56 258.5,-56 258.5,-12 258.5,-12 258.5,-6 264.5,0 270.5,0 270.5,0 343.5,0 343.5,0 349.5,0 355.5,-6 355.5,-12 355.5,-12 355.5,-56 355.5,-56 355.5,-62 349.5,-68 343.5,-68\"/>\n<text text-anchor=\"middle\" x=\"307\" y=\"-52.8\" font-family=\"Helvetica,sans-Serif\" font-size=\"14.00\">gini = 0.0</text>\n<text text-anchor=\"middle\" x=\"307\" y=\"-37.8\" font-family=\"Helvetica,sans-Serif\" font-size=\"14.00\">samples = 1</text>\n<text text-anchor=\"middle\" x=\"307\" y=\"-22.8\" font-family=\"Helvetica,sans-Serif\" font-size=\"14.00\">value = [1, 0]</text>\n<text text-anchor=\"middle\" x=\"307\" y=\"-7.8\" font-family=\"Helvetica,sans-Serif\" font-size=\"14.00\">class = Flop</text>\n</g>\n<!-- 7&#45;&gt;8 -->\n<g id=\"edge8\" class=\"edge\">\n<title>7&#45;&gt;8</title>\n<path fill=\"none\" stroke=\"black\" d=\"M350.31,-103.73C345.02,-95.34 339.44,-86.47 334.1,-78.01\"/>\n<polygon fill=\"black\" stroke=\"black\" points=\"337.08,-76.17 328.79,-69.58 331.16,-79.91 337.08,-76.17\"/>\n</g>\n<!-- 9 -->\n<g id=\"node10\" class=\"node\">\n<title>9</title>\n<path fill=\"#399de5\" stroke=\"black\" d=\"M458.5,-68C458.5,-68 385.5,-68 385.5,-68 379.5,-68 373.5,-62 373.5,-56 373.5,-56 373.5,-12 373.5,-12 373.5,-6 379.5,0 385.5,0 385.5,0 458.5,0 458.5,0 464.5,0 470.5,-6 470.5,-12 470.5,-12 470.5,-56 470.5,-56 470.5,-62 464.5,-68 458.5,-68\"/>\n<text text-anchor=\"middle\" x=\"422\" y=\"-52.8\" font-family=\"Helvetica,sans-Serif\" font-size=\"14.00\">gini = 0.0</text>\n<text text-anchor=\"middle\" x=\"422\" y=\"-37.8\" font-family=\"Helvetica,sans-Serif\" font-size=\"14.00\">samples = 3</text>\n<text text-anchor=\"middle\" x=\"422\" y=\"-22.8\" font-family=\"Helvetica,sans-Serif\" font-size=\"14.00\">value = [0, 3]</text>\n<text text-anchor=\"middle\" x=\"422\" y=\"-7.8\" font-family=\"Helvetica,sans-Serif\" font-size=\"14.00\">class = Hit</text>\n</g>\n<!-- 7&#45;&gt;9 -->\n<g id=\"edge9\" class=\"edge\">\n<title>7&#45;&gt;9</title>\n<path fill=\"none\" stroke=\"black\" d=\"M393.13,-103.73C396.54,-95.61 400.13,-87.05 403.58,-78.84\"/>\n<polygon fill=\"black\" stroke=\"black\" points=\"406.78,-80.27 407.42,-69.7 400.32,-77.56 406.78,-80.27\"/>\n</g>\n<!-- 11 -->\n<g id=\"node12\" class=\"node\">\n<title>11</title>\n<path fill=\"#f2c09c\" stroke=\"black\" d=\"M646,-187C646,-187 476,-187 476,-187 470,-187 464,-181 464,-175 464,-175 464,-116 464,-116 464,-110 470,-104 476,-104 476,-104 646,-104 646,-104 652,-104 658,-110 658,-116 658,-116 658,-175 658,-175 658,-181 652,-187 646,-187\"/>\n<text text-anchor=\"middle\" x=\"561\" y=\"-171.8\" font-family=\"Helvetica,sans-Serif\" font-size=\"14.00\">Music Director_Afsar &lt;= 0.5</text>\n<text text-anchor=\"middle\" x=\"561\" y=\"-156.8\" font-family=\"Helvetica,sans-Serif\" font-size=\"14.00\">gini = 0.444</text>\n<text text-anchor=\"middle\" x=\"561\" y=\"-141.8\" font-family=\"Helvetica,sans-Serif\" font-size=\"14.00\">samples = 6</text>\n<text text-anchor=\"middle\" x=\"561\" y=\"-126.8\" font-family=\"Helvetica,sans-Serif\" font-size=\"14.00\">value = [4, 2]</text>\n<text text-anchor=\"middle\" x=\"561\" y=\"-111.8\" font-family=\"Helvetica,sans-Serif\" font-size=\"14.00\">class = Flop</text>\n</g>\n<!-- 10&#45;&gt;11 -->\n<g id=\"edge11\" class=\"edge\">\n<title>10&#45;&gt;11</title>\n<path fill=\"none\" stroke=\"black\" d=\"M652.69,-222.58C641.67,-213.44 629.9,-203.67 618.59,-194.29\"/>\n<polygon fill=\"black\" stroke=\"black\" points=\"621.14,-191.86 611.21,-188.17 616.67,-197.25 621.14,-191.86\"/>\n</g>\n<!-- 14 -->\n<g id=\"node15\" class=\"node\">\n<title>14</title>\n<path fill=\"#61b1ea\" stroke=\"black\" d=\"M852,-187C852,-187 688,-187 688,-187 682,-187 676,-181 676,-175 676,-175 676,-116 676,-116 676,-110 682,-104 688,-104 688,-104 852,-104 852,-104 858,-104 864,-110 864,-116 864,-116 864,-175 864,-175 864,-181 858,-187 852,-187\"/>\n<text text-anchor=\"middle\" x=\"770\" y=\"-171.8\" font-family=\"Helvetica,sans-Serif\" font-size=\"14.00\">Lead Star_Affi Khan &lt;= 0.5</text>\n<text text-anchor=\"middle\" x=\"770\" y=\"-156.8\" font-family=\"Helvetica,sans-Serif\" font-size=\"14.00\">gini = 0.278</text>\n<text text-anchor=\"middle\" x=\"770\" y=\"-141.8\" font-family=\"Helvetica,sans-Serif\" font-size=\"14.00\">samples = 6</text>\n<text text-anchor=\"middle\" x=\"770\" y=\"-126.8\" font-family=\"Helvetica,sans-Serif\" font-size=\"14.00\">value = [1, 5]</text>\n<text text-anchor=\"middle\" x=\"770\" y=\"-111.8\" font-family=\"Helvetica,sans-Serif\" font-size=\"14.00\">class = Hit</text>\n</g>\n<!-- 10&#45;&gt;14 -->\n<g id=\"edge14\" class=\"edge\">\n<title>10&#45;&gt;14</title>\n<path fill=\"none\" stroke=\"black\" d=\"M725.78,-222.58C730.57,-214.34 735.66,-205.58 740.62,-197.06\"/>\n<polygon fill=\"black\" stroke=\"black\" points=\"743.59,-198.91 745.58,-188.51 737.53,-195.4 743.59,-198.91\"/>\n</g>\n<!-- 12 -->\n<g id=\"node13\" class=\"node\">\n<title>12</title>\n<path fill=\"#eca06a\" stroke=\"black\" d=\"M575.5,-68C575.5,-68 502.5,-68 502.5,-68 496.5,-68 490.5,-62 490.5,-56 490.5,-56 490.5,-12 490.5,-12 490.5,-6 496.5,0 502.5,0 502.5,0 575.5,0 575.5,0 581.5,0 587.5,-6 587.5,-12 587.5,-12 587.5,-56 587.5,-56 587.5,-62 581.5,-68 575.5,-68\"/>\n<text text-anchor=\"middle\" x=\"539\" y=\"-52.8\" font-family=\"Helvetica,sans-Serif\" font-size=\"14.00\">gini = 0.32</text>\n<text text-anchor=\"middle\" x=\"539\" y=\"-37.8\" font-family=\"Helvetica,sans-Serif\" font-size=\"14.00\">samples = 5</text>\n<text text-anchor=\"middle\" x=\"539\" y=\"-22.8\" font-family=\"Helvetica,sans-Serif\" font-size=\"14.00\">value = [4, 1]</text>\n<text text-anchor=\"middle\" x=\"539\" y=\"-7.8\" font-family=\"Helvetica,sans-Serif\" font-size=\"14.00\">class = Flop</text>\n</g>\n<!-- 11&#45;&gt;12 -->\n<g id=\"edge12\" class=\"edge\">\n<title>11&#45;&gt;12</title>\n<path fill=\"none\" stroke=\"black\" d=\"M552.81,-103.73C551.21,-95.79 549.54,-87.44 547.92,-79.39\"/>\n<polygon fill=\"black\" stroke=\"black\" points=\"551.39,-78.9 545.99,-69.78 544.53,-80.28 551.39,-78.9\"/>\n</g>\n<!-- 13 -->\n<g id=\"node14\" class=\"node\">\n<title>13</title>\n<path fill=\"#399de5\" stroke=\"black\" d=\"M690.5,-68C690.5,-68 617.5,-68 617.5,-68 611.5,-68 605.5,-62 605.5,-56 605.5,-56 605.5,-12 605.5,-12 605.5,-6 611.5,0 617.5,0 617.5,0 690.5,0 690.5,0 696.5,0 702.5,-6 702.5,-12 702.5,-12 702.5,-56 702.5,-56 702.5,-62 696.5,-68 690.5,-68\"/>\n<text text-anchor=\"middle\" x=\"654\" y=\"-52.8\" font-family=\"Helvetica,sans-Serif\" font-size=\"14.00\">gini = 0.0</text>\n<text text-anchor=\"middle\" x=\"654\" y=\"-37.8\" font-family=\"Helvetica,sans-Serif\" font-size=\"14.00\">samples = 1</text>\n<text text-anchor=\"middle\" x=\"654\" y=\"-22.8\" font-family=\"Helvetica,sans-Serif\" font-size=\"14.00\">value = [0, 1]</text>\n<text text-anchor=\"middle\" x=\"654\" y=\"-7.8\" font-family=\"Helvetica,sans-Serif\" font-size=\"14.00\">class = Hit</text>\n</g>\n<!-- 11&#45;&gt;13 -->\n<g id=\"edge13\" class=\"edge\">\n<title>11&#45;&gt;13</title>\n<path fill=\"none\" stroke=\"black\" d=\"M595.63,-103.73C603.07,-94.97 610.94,-85.7 618.41,-76.91\"/>\n<polygon fill=\"black\" stroke=\"black\" points=\"620.93,-79.34 624.74,-69.45 615.6,-74.81 620.93,-79.34\"/>\n</g>\n<!-- 15 -->\n<g id=\"node16\" class=\"node\">\n<title>15</title>\n<path fill=\"#399de5\" stroke=\"black\" d=\"M806.5,-68C806.5,-68 733.5,-68 733.5,-68 727.5,-68 721.5,-62 721.5,-56 721.5,-56 721.5,-12 721.5,-12 721.5,-6 727.5,0 733.5,0 733.5,0 806.5,0 806.5,0 812.5,0 818.5,-6 818.5,-12 818.5,-12 818.5,-56 818.5,-56 818.5,-62 812.5,-68 806.5,-68\"/>\n<text text-anchor=\"middle\" x=\"770\" y=\"-52.8\" font-family=\"Helvetica,sans-Serif\" font-size=\"14.00\">gini = 0.0</text>\n<text text-anchor=\"middle\" x=\"770\" y=\"-37.8\" font-family=\"Helvetica,sans-Serif\" font-size=\"14.00\">samples = 5</text>\n<text text-anchor=\"middle\" x=\"770\" y=\"-22.8\" font-family=\"Helvetica,sans-Serif\" font-size=\"14.00\">value = [0, 5]</text>\n<text text-anchor=\"middle\" x=\"770\" y=\"-7.8\" font-family=\"Helvetica,sans-Serif\" font-size=\"14.00\">class = Hit</text>\n</g>\n<!-- 14&#45;&gt;15 -->\n<g id=\"edge15\" class=\"edge\">\n<title>14&#45;&gt;15</title>\n<path fill=\"none\" stroke=\"black\" d=\"M770,-103.73C770,-95.88 770,-87.63 770,-79.67\"/>\n<polygon fill=\"black\" stroke=\"black\" points=\"773.5,-79.81 770,-69.81 766.5,-79.81 773.5,-79.81\"/>\n</g>\n<!-- 16 -->\n<g id=\"node17\" class=\"node\">\n<title>16</title>\n<path fill=\"#e58139\" stroke=\"black\" d=\"M921.5,-68C921.5,-68 848.5,-68 848.5,-68 842.5,-68 836.5,-62 836.5,-56 836.5,-56 836.5,-12 836.5,-12 836.5,-6 842.5,0 848.5,0 848.5,0 921.5,0 921.5,0 927.5,0 933.5,-6 933.5,-12 933.5,-12 933.5,-56 933.5,-56 933.5,-62 927.5,-68 921.5,-68\"/>\n<text text-anchor=\"middle\" x=\"885\" y=\"-52.8\" font-family=\"Helvetica,sans-Serif\" font-size=\"14.00\">gini = 0.0</text>\n<text text-anchor=\"middle\" x=\"885\" y=\"-37.8\" font-family=\"Helvetica,sans-Serif\" font-size=\"14.00\">samples = 1</text>\n<text text-anchor=\"middle\" x=\"885\" y=\"-22.8\" font-family=\"Helvetica,sans-Serif\" font-size=\"14.00\">value = [1, 0]</text>\n<text text-anchor=\"middle\" x=\"885\" y=\"-7.8\" font-family=\"Helvetica,sans-Serif\" font-size=\"14.00\">class = Flop</text>\n</g>\n<!-- 14&#45;&gt;16 -->\n<g id=\"edge16\" class=\"edge\">\n<title>14&#45;&gt;16</title>\n<path fill=\"none\" stroke=\"black\" d=\"M812.82,-103.73C822.3,-94.7 832.36,-85.12 841.85,-76.08\"/>\n<polygon fill=\"black\" stroke=\"black\" points=\"844.1,-78.77 848.93,-69.34 839.28,-73.7 844.1,-78.77\"/>\n</g>\n<!-- 18 -->\n<g id=\"node19\" class=\"node\">\n<title>18</title>\n<path fill=\"#efb185\" stroke=\"black\" d=\"M1268.5,-306C1268.5,-306 1017.5,-306 1017.5,-306 1011.5,-306 1005.5,-300 1005.5,-294 1005.5,-294 1005.5,-235 1005.5,-235 1005.5,-229 1011.5,-223 1017.5,-223 1017.5,-223 1268.5,-223 1268.5,-223 1274.5,-223 1280.5,-229 1280.5,-235 1280.5,-235 1280.5,-294 1280.5,-294 1280.5,-300 1274.5,-306 1268.5,-306\"/>\n<text text-anchor=\"middle\" x=\"1143\" y=\"-290.8\" font-family=\"Helvetica,sans-Serif\" font-size=\"14.00\">Music Director_Sneha Khanwalkar &lt;= 0.5</text>\n<text text-anchor=\"middle\" x=\"1143\" y=\"-275.8\" font-family=\"Helvetica,sans-Serif\" font-size=\"14.00\">gini = 0.401</text>\n<text text-anchor=\"middle\" x=\"1143\" y=\"-260.8\" font-family=\"Helvetica,sans-Serif\" font-size=\"14.00\">samples = 220</text>\n<text text-anchor=\"middle\" x=\"1143\" y=\"-245.8\" font-family=\"Helvetica,sans-Serif\" font-size=\"14.00\">value = [159, 61]</text>\n<text text-anchor=\"middle\" x=\"1143\" y=\"-230.8\" font-family=\"Helvetica,sans-Serif\" font-size=\"14.00\">class = Flop</text>\n</g>\n<!-- 17&#45;&gt;18 -->\n<g id=\"edge18\" class=\"edge\">\n<title>17&#45;&gt;18</title>\n<path fill=\"none\" stroke=\"black\" d=\"M1228.18,-341.58C1218.15,-332.62 1207.44,-323.06 1197.12,-313.84\"/>\n<polygon fill=\"black\" stroke=\"black\" points=\"1199.49,-311.26 1189.7,-307.21 1194.83,-316.48 1199.49,-311.26\"/>\n</g>\n<!-- 23 -->\n<g id=\"node24\" class=\"node\">\n<title>23</title>\n<path fill=\"#72b9ec\" stroke=\"black\" d=\"M1499.5,-306C1499.5,-306 1310.5,-306 1310.5,-306 1304.5,-306 1298.5,-300 1298.5,-294 1298.5,-294 1298.5,-235 1298.5,-235 1298.5,-229 1304.5,-223 1310.5,-223 1310.5,-223 1499.5,-223 1499.5,-223 1505.5,-223 1511.5,-229 1511.5,-235 1511.5,-235 1511.5,-294 1511.5,-294 1511.5,-300 1505.5,-306 1499.5,-306\"/>\n<text text-anchor=\"middle\" x=\"1405\" y=\"-290.8\" font-family=\"Helvetica,sans-Serif\" font-size=\"14.00\">Director_Anubhav Sinha &lt;= 0.5</text>\n<text text-anchor=\"middle\" x=\"1405\" y=\"-275.8\" font-family=\"Helvetica,sans-Serif\" font-size=\"14.00\">gini = 0.346</text>\n<text text-anchor=\"middle\" x=\"1405\" y=\"-260.8\" font-family=\"Helvetica,sans-Serif\" font-size=\"14.00\">samples = 9</text>\n<text text-anchor=\"middle\" x=\"1405\" y=\"-245.8\" font-family=\"Helvetica,sans-Serif\" font-size=\"14.00\">value = [2, 7]</text>\n<text text-anchor=\"middle\" x=\"1405\" y=\"-230.8\" font-family=\"Helvetica,sans-Serif\" font-size=\"14.00\">class = Hit</text>\n</g>\n<!-- 17&#45;&gt;23 -->\n<g id=\"edge23\" class=\"edge\">\n<title>17&#45;&gt;23</title>\n<path fill=\"none\" stroke=\"black\" d=\"M1319.82,-341.58C1329.85,-332.62 1340.56,-323.06 1350.88,-313.84\"/>\n<polygon fill=\"black\" stroke=\"black\" points=\"1353.17,-316.48 1358.3,-307.21 1348.51,-311.26 1353.17,-316.48\"/>\n</g>\n<!-- 19 -->\n<g id=\"node20\" class=\"node\">\n<title>19</title>\n<path fill=\"#eeaf81\" stroke=\"black\" d=\"M1131.5,-187C1131.5,-187 894.5,-187 894.5,-187 888.5,-187 882.5,-181 882.5,-175 882.5,-175 882.5,-116 882.5,-116 882.5,-110 888.5,-104 894.5,-104 894.5,-104 1131.5,-104 1131.5,-104 1137.5,-104 1143.5,-110 1143.5,-116 1143.5,-116 1143.5,-175 1143.5,-175 1143.5,-181 1137.5,-187 1131.5,-187\"/>\n<text text-anchor=\"middle\" x=\"1013\" y=\"-171.8\" font-family=\"Helvetica,sans-Serif\" font-size=\"14.00\">Lead Star_Nawazuddin Siddiqui &lt;= 0.5</text>\n<text text-anchor=\"middle\" x=\"1013\" y=\"-156.8\" font-family=\"Helvetica,sans-Serif\" font-size=\"14.00\">gini = 0.392</text>\n<text text-anchor=\"middle\" x=\"1013\" y=\"-141.8\" font-family=\"Helvetica,sans-Serif\" font-size=\"14.00\">samples = 217</text>\n<text text-anchor=\"middle\" x=\"1013\" y=\"-126.8\" font-family=\"Helvetica,sans-Serif\" font-size=\"14.00\">value = [159, 58]</text>\n<text text-anchor=\"middle\" x=\"1013\" y=\"-111.8\" font-family=\"Helvetica,sans-Serif\" font-size=\"14.00\">class = Flop</text>\n</g>\n<!-- 18&#45;&gt;19 -->\n<g id=\"edge19\" class=\"edge\">\n<title>18&#45;&gt;19</title>\n<path fill=\"none\" stroke=\"black\" d=\"M1097.53,-222.58C1087.58,-213.62 1076.95,-204.06 1066.71,-194.84\"/>\n<polygon fill=\"black\" stroke=\"black\" points=\"1069.12,-192.3 1059.35,-188.21 1064.44,-197.5 1069.12,-192.3\"/>\n</g>\n<!-- 22 -->\n<g id=\"node23\" class=\"node\">\n<title>22</title>\n<path fill=\"#399de5\" stroke=\"black\" d=\"M1246.5,-179.5C1246.5,-179.5 1173.5,-179.5 1173.5,-179.5 1167.5,-179.5 1161.5,-173.5 1161.5,-167.5 1161.5,-167.5 1161.5,-123.5 1161.5,-123.5 1161.5,-117.5 1167.5,-111.5 1173.5,-111.5 1173.5,-111.5 1246.5,-111.5 1246.5,-111.5 1252.5,-111.5 1258.5,-117.5 1258.5,-123.5 1258.5,-123.5 1258.5,-167.5 1258.5,-167.5 1258.5,-173.5 1252.5,-179.5 1246.5,-179.5\"/>\n<text text-anchor=\"middle\" x=\"1210\" y=\"-164.3\" font-family=\"Helvetica,sans-Serif\" font-size=\"14.00\">gini = 0.0</text>\n<text text-anchor=\"middle\" x=\"1210\" y=\"-149.3\" font-family=\"Helvetica,sans-Serif\" font-size=\"14.00\">samples = 3</text>\n<text text-anchor=\"middle\" x=\"1210\" y=\"-134.3\" font-family=\"Helvetica,sans-Serif\" font-size=\"14.00\">value = [0, 3]</text>\n<text text-anchor=\"middle\" x=\"1210\" y=\"-119.3\" font-family=\"Helvetica,sans-Serif\" font-size=\"14.00\">class = Hit</text>\n</g>\n<!-- 18&#45;&gt;22 -->\n<g id=\"edge22\" class=\"edge\">\n<title>18&#45;&gt;22</title>\n<path fill=\"none\" stroke=\"black\" d=\"M1166.43,-222.58C1172.5,-211.99 1179.04,-200.56 1185.17,-189.85\"/>\n<polygon fill=\"black\" stroke=\"black\" points=\"1188.21,-191.59 1190.14,-181.17 1182.14,-188.11 1188.21,-191.59\"/>\n</g>\n<!-- 20 -->\n<g id=\"node21\" class=\"node\">\n<title>20</title>\n<path fill=\"#eeac7d\" stroke=\"black\" d=\"M1062,-68C1062,-68 964,-68 964,-68 958,-68 952,-62 952,-56 952,-56 952,-12 952,-12 952,-6 958,0 964,0 964,0 1062,0 1062,0 1068,0 1074,-6 1074,-12 1074,-12 1074,-56 1074,-56 1074,-62 1068,-68 1062,-68\"/>\n<text text-anchor=\"middle\" x=\"1013\" y=\"-52.8\" font-family=\"Helvetica,sans-Serif\" font-size=\"14.00\">gini = 0.38</text>\n<text text-anchor=\"middle\" x=\"1013\" y=\"-37.8\" font-family=\"Helvetica,sans-Serif\" font-size=\"14.00\">samples = 212</text>\n<text text-anchor=\"middle\" x=\"1013\" y=\"-22.8\" font-family=\"Helvetica,sans-Serif\" font-size=\"14.00\">value = [158, 54]</text>\n<text text-anchor=\"middle\" x=\"1013\" y=\"-7.8\" font-family=\"Helvetica,sans-Serif\" font-size=\"14.00\">class = Flop</text>\n</g>\n<!-- 19&#45;&gt;20 -->\n<g id=\"edge20\" class=\"edge\">\n<title>19&#45;&gt;20</title>\n<path fill=\"none\" stroke=\"black\" d=\"M1013,-103.73C1013,-95.88 1013,-87.63 1013,-79.67\"/>\n<polygon fill=\"black\" stroke=\"black\" points=\"1016.5,-79.81 1013,-69.81 1009.5,-79.81 1016.5,-79.81\"/>\n</g>\n<!-- 21 -->\n<g id=\"node22\" class=\"node\">\n<title>21</title>\n<path fill=\"#6ab6ec\" stroke=\"black\" d=\"M1177.5,-68C1177.5,-68 1104.5,-68 1104.5,-68 1098.5,-68 1092.5,-62 1092.5,-56 1092.5,-56 1092.5,-12 1092.5,-12 1092.5,-6 1098.5,0 1104.5,0 1104.5,0 1177.5,0 1177.5,0 1183.5,0 1189.5,-6 1189.5,-12 1189.5,-12 1189.5,-56 1189.5,-56 1189.5,-62 1183.5,-68 1177.5,-68\"/>\n<text text-anchor=\"middle\" x=\"1141\" y=\"-52.8\" font-family=\"Helvetica,sans-Serif\" font-size=\"14.00\">gini = 0.32</text>\n<text text-anchor=\"middle\" x=\"1141\" y=\"-37.8\" font-family=\"Helvetica,sans-Serif\" font-size=\"14.00\">samples = 5</text>\n<text text-anchor=\"middle\" x=\"1141\" y=\"-22.8\" font-family=\"Helvetica,sans-Serif\" font-size=\"14.00\">value = [1, 4]</text>\n<text text-anchor=\"middle\" x=\"1141\" y=\"-7.8\" font-family=\"Helvetica,sans-Serif\" font-size=\"14.00\">class = Hit</text>\n</g>\n<!-- 19&#45;&gt;21 -->\n<g id=\"edge21\" class=\"edge\">\n<title>19&#45;&gt;21</title>\n<path fill=\"none\" stroke=\"black\" d=\"M1060.66,-103.73C1071.43,-94.51 1082.86,-84.74 1093.62,-75.53\"/>\n<polygon fill=\"black\" stroke=\"black\" points=\"1095.6,-78.44 1100.92,-69.28 1091.05,-73.12 1095.6,-78.44\"/>\n</g>\n<!-- 24 -->\n<g id=\"node25\" class=\"node\">\n<title>24</title>\n<path fill=\"#55abe9\" stroke=\"black\" d=\"M1391,-187C1391,-187 1289,-187 1289,-187 1283,-187 1277,-181 1277,-175 1277,-175 1277,-116 1277,-116 1277,-110 1283,-104 1289,-104 1289,-104 1391,-104 1391,-104 1397,-104 1403,-110 1403,-116 1403,-116 1403,-175 1403,-175 1403,-181 1397,-187 1391,-187\"/>\n<text text-anchor=\"middle\" x=\"1340\" y=\"-171.8\" font-family=\"Helvetica,sans-Serif\" font-size=\"14.00\">New Actor &lt;= 0.5</text>\n<text text-anchor=\"middle\" x=\"1340\" y=\"-156.8\" font-family=\"Helvetica,sans-Serif\" font-size=\"14.00\">gini = 0.219</text>\n<text text-anchor=\"middle\" x=\"1340\" y=\"-141.8\" font-family=\"Helvetica,sans-Serif\" font-size=\"14.00\">samples = 8</text>\n<text text-anchor=\"middle\" x=\"1340\" y=\"-126.8\" font-family=\"Helvetica,sans-Serif\" font-size=\"14.00\">value = [1, 7]</text>\n<text text-anchor=\"middle\" x=\"1340\" y=\"-111.8\" font-family=\"Helvetica,sans-Serif\" font-size=\"14.00\">class = Hit</text>\n</g>\n<!-- 23&#45;&gt;24 -->\n<g id=\"edge24\" class=\"edge\">\n<title>23&#45;&gt;24</title>\n<path fill=\"none\" stroke=\"black\" d=\"M1382.27,-222.58C1377.69,-214.34 1372.82,-205.58 1368.09,-197.06\"/>\n<polygon fill=\"black\" stroke=\"black\" points=\"1371.26,-195.57 1363.35,-188.52 1365.14,-198.96 1371.26,-195.57\"/>\n</g>\n<!-- 27 -->\n<g id=\"node28\" class=\"node\">\n<title>27</title>\n<path fill=\"#e58139\" stroke=\"black\" d=\"M1506.5,-179.5C1506.5,-179.5 1433.5,-179.5 1433.5,-179.5 1427.5,-179.5 1421.5,-173.5 1421.5,-167.5 1421.5,-167.5 1421.5,-123.5 1421.5,-123.5 1421.5,-117.5 1427.5,-111.5 1433.5,-111.5 1433.5,-111.5 1506.5,-111.5 1506.5,-111.5 1512.5,-111.5 1518.5,-117.5 1518.5,-123.5 1518.5,-123.5 1518.5,-167.5 1518.5,-167.5 1518.5,-173.5 1512.5,-179.5 1506.5,-179.5\"/>\n<text text-anchor=\"middle\" x=\"1470\" y=\"-164.3\" font-family=\"Helvetica,sans-Serif\" font-size=\"14.00\">gini = 0.0</text>\n<text text-anchor=\"middle\" x=\"1470\" y=\"-149.3\" font-family=\"Helvetica,sans-Serif\" font-size=\"14.00\">samples = 1</text>\n<text text-anchor=\"middle\" x=\"1470\" y=\"-134.3\" font-family=\"Helvetica,sans-Serif\" font-size=\"14.00\">value = [1, 0]</text>\n<text text-anchor=\"middle\" x=\"1470\" y=\"-119.3\" font-family=\"Helvetica,sans-Serif\" font-size=\"14.00\">class = Flop</text>\n</g>\n<!-- 23&#45;&gt;27 -->\n<g id=\"edge27\" class=\"edge\">\n<title>23&#45;&gt;27</title>\n<path fill=\"none\" stroke=\"black\" d=\"M1427.73,-222.58C1433.62,-211.99 1439.97,-200.56 1445.92,-189.85\"/>\n<polygon fill=\"black\" stroke=\"black\" points=\"1448.93,-191.63 1450.73,-181.18 1442.81,-188.23 1448.93,-191.63\"/>\n</g>\n<!-- 25 -->\n<g id=\"node26\" class=\"node\">\n<title>25</title>\n<path fill=\"#399de5\" stroke=\"black\" d=\"M1302.5,-68C1302.5,-68 1229.5,-68 1229.5,-68 1223.5,-68 1217.5,-62 1217.5,-56 1217.5,-56 1217.5,-12 1217.5,-12 1217.5,-6 1223.5,0 1229.5,0 1229.5,0 1302.5,0 1302.5,0 1308.5,0 1314.5,-6 1314.5,-12 1314.5,-12 1314.5,-56 1314.5,-56 1314.5,-62 1308.5,-68 1302.5,-68\"/>\n<text text-anchor=\"middle\" x=\"1266\" y=\"-52.8\" font-family=\"Helvetica,sans-Serif\" font-size=\"14.00\">gini = 0.0</text>\n<text text-anchor=\"middle\" x=\"1266\" y=\"-37.8\" font-family=\"Helvetica,sans-Serif\" font-size=\"14.00\">samples = 7</text>\n<text text-anchor=\"middle\" x=\"1266\" y=\"-22.8\" font-family=\"Helvetica,sans-Serif\" font-size=\"14.00\">value = [0, 7]</text>\n<text text-anchor=\"middle\" x=\"1266\" y=\"-7.8\" font-family=\"Helvetica,sans-Serif\" font-size=\"14.00\">class = Hit</text>\n</g>\n<!-- 24&#45;&gt;25 -->\n<g id=\"edge25\" class=\"edge\">\n<title>24&#45;&gt;25</title>\n<path fill=\"none\" stroke=\"black\" d=\"M1312.45,-103.73C1306.71,-95.24 1300.66,-86.28 1294.88,-77.73\"/>\n<polygon fill=\"black\" stroke=\"black\" points=\"1297.85,-75.88 1289.35,-69.55 1292.05,-79.8 1297.85,-75.88\"/>\n</g>\n<!-- 26 -->\n<g id=\"node27\" class=\"node\">\n<title>26</title>\n<path fill=\"#e58139\" stroke=\"black\" d=\"M1417.5,-68C1417.5,-68 1344.5,-68 1344.5,-68 1338.5,-68 1332.5,-62 1332.5,-56 1332.5,-56 1332.5,-12 1332.5,-12 1332.5,-6 1338.5,0 1344.5,0 1344.5,0 1417.5,0 1417.5,0 1423.5,0 1429.5,-6 1429.5,-12 1429.5,-12 1429.5,-56 1429.5,-56 1429.5,-62 1423.5,-68 1417.5,-68\"/>\n<text text-anchor=\"middle\" x=\"1381\" y=\"-52.8\" font-family=\"Helvetica,sans-Serif\" font-size=\"14.00\">gini = 0.0</text>\n<text text-anchor=\"middle\" x=\"1381\" y=\"-37.8\" font-family=\"Helvetica,sans-Serif\" font-size=\"14.00\">samples = 1</text>\n<text text-anchor=\"middle\" x=\"1381\" y=\"-22.8\" font-family=\"Helvetica,sans-Serif\" font-size=\"14.00\">value = [1, 0]</text>\n<text text-anchor=\"middle\" x=\"1381\" y=\"-7.8\" font-family=\"Helvetica,sans-Serif\" font-size=\"14.00\">class = Flop</text>\n</g>\n<!-- 24&#45;&gt;26 -->\n<g id=\"edge26\" class=\"edge\">\n<title>24&#45;&gt;26</title>\n<path fill=\"none\" stroke=\"black\" d=\"M1355.27,-103.73C1358.31,-95.61 1361.51,-87.05 1364.59,-78.84\"/>\n<polygon fill=\"black\" stroke=\"black\" points=\"1367.77,-80.31 1368,-69.72 1361.22,-77.85 1367.77,-80.31\"/>\n</g>\n<!-- 29 -->\n<g id=\"node30\" class=\"node\">\n<title>29</title>\n<path fill=\"#ddeefb\" stroke=\"black\" d=\"M2060.5,-425C2060.5,-425 1883.5,-425 1883.5,-425 1877.5,-425 1871.5,-419 1871.5,-413 1871.5,-413 1871.5,-354 1871.5,-354 1871.5,-348 1877.5,-342 1883.5,-342 1883.5,-342 2060.5,-342 2060.5,-342 2066.5,-342 2072.5,-348 2072.5,-354 2072.5,-354 2072.5,-413 2072.5,-413 2072.5,-419 2066.5,-425 2060.5,-425\"/>\n<text text-anchor=\"middle\" x=\"1972\" y=\"-409.8\" font-family=\"Helvetica,sans-Serif\" font-size=\"14.00\">Number of Screens &lt;= 962.5</text>\n<text text-anchor=\"middle\" x=\"1972\" y=\"-394.8\" font-family=\"Helvetica,sans-Serif\" font-size=\"14.00\">gini = 0.496</text>\n<text text-anchor=\"middle\" x=\"1972\" y=\"-379.8\" font-family=\"Helvetica,sans-Serif\" font-size=\"14.00\">samples = 342</text>\n<text text-anchor=\"middle\" x=\"1972\" y=\"-364.8\" font-family=\"Helvetica,sans-Serif\" font-size=\"14.00\">value = [155, 187]</text>\n<text text-anchor=\"middle\" x=\"1972\" y=\"-349.8\" font-family=\"Helvetica,sans-Serif\" font-size=\"14.00\">class = Hit</text>\n</g>\n<!-- 28&#45;&gt;29 -->\n<g id=\"edge29\" class=\"edge\">\n<title>28&#45;&gt;29</title>\n<path fill=\"none\" stroke=\"black\" d=\"M1972,-460.58C1972,-452.79 1972,-444.53 1972,-436.45\"/>\n<polygon fill=\"black\" stroke=\"black\" points=\"1975.5,-436.71 1972,-426.71 1968.5,-436.71 1975.5,-436.71\"/>\n</g>\n<!-- 44 -->\n<g id=\"node45\" class=\"node\">\n<title>44</title>\n<path fill=\"#44a3e6\" stroke=\"black\" d=\"M2593,-425C2593,-425 2425,-425 2425,-425 2419,-425 2413,-419 2413,-413 2413,-413 2413,-354 2413,-354 2413,-348 2419,-342 2425,-342 2425,-342 2593,-342 2593,-342 2599,-342 2605,-348 2605,-354 2605,-354 2605,-413 2605,-413 2605,-419 2599,-425 2593,-425\"/>\n<text text-anchor=\"middle\" x=\"2509\" y=\"-409.8\" font-family=\"Helvetica,sans-Serif\" font-size=\"14.00\">Director_Sunny Deol &lt;= 0.5</text>\n<text text-anchor=\"middle\" x=\"2509\" y=\"-394.8\" font-family=\"Helvetica,sans-Serif\" font-size=\"14.00\">gini = 0.102</text>\n<text text-anchor=\"middle\" x=\"2509\" y=\"-379.8\" font-family=\"Helvetica,sans-Serif\" font-size=\"14.00\">samples = 74</text>\n<text text-anchor=\"middle\" x=\"2509\" y=\"-364.8\" font-family=\"Helvetica,sans-Serif\" font-size=\"14.00\">value = [4, 70]</text>\n<text text-anchor=\"middle\" x=\"2509\" y=\"-349.8\" font-family=\"Helvetica,sans-Serif\" font-size=\"14.00\">class = Hit</text>\n</g>\n<!-- 28&#45;&gt;44 -->\n<g id=\"edge44\" class=\"edge\">\n<title>28&#45;&gt;44</title>\n<path fill=\"none\" stroke=\"black\" d=\"M2076.81,-478.66C2170.47,-458.26 2307.1,-428.49 2401.56,-407.91\"/>\n<polygon fill=\"black\" stroke=\"black\" points=\"2402.07,-411.38 2411.09,-405.83 2400.58,-404.54 2402.07,-411.38\"/>\n</g>\n<!-- 30 -->\n<g id=\"node31\" class=\"node\">\n<title>30</title>\n<path fill=\"#fae8db\" stroke=\"black\" d=\"M1929.5,-306C1929.5,-306 1804.5,-306 1804.5,-306 1798.5,-306 1792.5,-300 1792.5,-294 1792.5,-294 1792.5,-235 1792.5,-235 1792.5,-229 1798.5,-223 1804.5,-223 1804.5,-223 1929.5,-223 1929.5,-223 1935.5,-223 1941.5,-229 1941.5,-235 1941.5,-235 1941.5,-294 1941.5,-294 1941.5,-300 1935.5,-306 1929.5,-306\"/>\n<text text-anchor=\"middle\" x=\"1867\" y=\"-290.8\" font-family=\"Helvetica,sans-Serif\" font-size=\"14.00\">Genre_drama &lt;= 0.5</text>\n<text text-anchor=\"middle\" x=\"1867\" y=\"-275.8\" font-family=\"Helvetica,sans-Serif\" font-size=\"14.00\">gini = 0.495</text>\n<text text-anchor=\"middle\" x=\"1867\" y=\"-260.8\" font-family=\"Helvetica,sans-Serif\" font-size=\"14.00\">samples = 158</text>\n<text text-anchor=\"middle\" x=\"1867\" y=\"-245.8\" font-family=\"Helvetica,sans-Serif\" font-size=\"14.00\">value = [87, 71]</text>\n<text text-anchor=\"middle\" x=\"1867\" y=\"-230.8\" font-family=\"Helvetica,sans-Serif\" font-size=\"14.00\">class = Flop</text>\n</g>\n<!-- 29&#45;&gt;30 -->\n<g id=\"edge30\" class=\"edge\">\n<title>29&#45;&gt;30</title>\n<path fill=\"none\" stroke=\"black\" d=\"M1935.28,-341.58C1927.48,-332.89 1919.17,-323.63 1911.13,-314.67\"/>\n<polygon fill=\"black\" stroke=\"black\" points=\"1913.82,-312.43 1904.54,-307.33 1908.61,-317.11 1913.82,-312.43\"/>\n</g>\n<!-- 37 -->\n<g id=\"node38\" class=\"node\">\n<title>37</title>\n<path fill=\"#add6f4\" stroke=\"black\" d=\"M2155,-306C2155,-306 2001,-306 2001,-306 1995,-306 1989,-300 1989,-294 1989,-294 1989,-235 1989,-235 1989,-229 1995,-223 2001,-223 2001,-223 2155,-223 2155,-223 2161,-223 2167,-229 2167,-235 2167,-235 2167,-294 2167,-294 2167,-300 2161,-306 2155,-306\"/>\n<text text-anchor=\"middle\" x=\"2078\" y=\"-290.8\" font-family=\"Helvetica,sans-Serif\" font-size=\"14.00\">Genre_rom__com &lt;= 0.5</text>\n<text text-anchor=\"middle\" x=\"2078\" y=\"-275.8\" font-family=\"Helvetica,sans-Serif\" font-size=\"14.00\">gini = 0.466</text>\n<text text-anchor=\"middle\" x=\"2078\" y=\"-260.8\" font-family=\"Helvetica,sans-Serif\" font-size=\"14.00\">samples = 184</text>\n<text text-anchor=\"middle\" x=\"2078\" y=\"-245.8\" font-family=\"Helvetica,sans-Serif\" font-size=\"14.00\">value = [68, 116]</text>\n<text text-anchor=\"middle\" x=\"2078\" y=\"-230.8\" font-family=\"Helvetica,sans-Serif\" font-size=\"14.00\">class = Hit</text>\n</g>\n<!-- 29&#45;&gt;37 -->\n<g id=\"edge37\" class=\"edge\">\n<title>29&#45;&gt;37</title>\n<path fill=\"none\" stroke=\"black\" d=\"M2009.07,-341.58C2016.95,-332.89 2025.33,-323.63 2033.45,-314.67\"/>\n<polygon fill=\"black\" stroke=\"black\" points=\"2035.99,-317.08 2040.11,-307.32 2030.8,-312.38 2035.99,-317.08\"/>\n</g>\n<!-- 31 -->\n<g id=\"node32\" class=\"node\">\n<title>31</title>\n<path fill=\"#f5ceb2\" stroke=\"black\" d=\"M1745.5,-187C1745.5,-187 1548.5,-187 1548.5,-187 1542.5,-187 1536.5,-181 1536.5,-175 1536.5,-175 1536.5,-116 1536.5,-116 1536.5,-110 1542.5,-104 1548.5,-104 1548.5,-104 1745.5,-104 1745.5,-104 1751.5,-104 1757.5,-110 1757.5,-116 1757.5,-116 1757.5,-175 1757.5,-175 1757.5,-181 1751.5,-187 1745.5,-187\"/>\n<text text-anchor=\"middle\" x=\"1647\" y=\"-171.8\" font-family=\"Helvetica,sans-Serif\" font-size=\"14.00\">Lead Star_Akshay Kumar &lt;= 0.5</text>\n<text text-anchor=\"middle\" x=\"1647\" y=\"-156.8\" font-family=\"Helvetica,sans-Serif\" font-size=\"14.00\">gini = 0.47</text>\n<text text-anchor=\"middle\" x=\"1647\" y=\"-141.8\" font-family=\"Helvetica,sans-Serif\" font-size=\"14.00\">samples = 111</text>\n<text text-anchor=\"middle\" x=\"1647\" y=\"-126.8\" font-family=\"Helvetica,sans-Serif\" font-size=\"14.00\">value = [69, 42]</text>\n<text text-anchor=\"middle\" x=\"1647\" y=\"-111.8\" font-family=\"Helvetica,sans-Serif\" font-size=\"14.00\">class = Flop</text>\n</g>\n<!-- 30&#45;&gt;31 -->\n<g id=\"edge31\" class=\"edge\">\n<title>30&#45;&gt;31</title>\n<path fill=\"none\" stroke=\"black\" d=\"M1792.21,-223.73C1773.44,-213.74 1753.13,-202.94 1733.82,-192.67\"/>\n<polygon fill=\"black\" stroke=\"black\" points=\"1735.64,-189.68 1725.17,-188.07 1732.35,-195.86 1735.64,-189.68\"/>\n</g>\n<!-- 34 -->\n<g id=\"node35\" class=\"node\">\n<title>34</title>\n<path fill=\"#b4daf5\" stroke=\"black\" d=\"M1946.5,-187C1946.5,-187 1787.5,-187 1787.5,-187 1781.5,-187 1775.5,-181 1775.5,-175 1775.5,-175 1775.5,-116 1775.5,-116 1775.5,-110 1781.5,-104 1787.5,-104 1787.5,-104 1946.5,-104 1946.5,-104 1952.5,-104 1958.5,-110 1958.5,-116 1958.5,-116 1958.5,-175 1958.5,-175 1958.5,-181 1952.5,-187 1946.5,-187\"/>\n<text text-anchor=\"middle\" x=\"1867\" y=\"-171.8\" font-family=\"Helvetica,sans-Serif\" font-size=\"14.00\">New Music Director &lt;= 0.5</text>\n<text text-anchor=\"middle\" x=\"1867\" y=\"-156.8\" font-family=\"Helvetica,sans-Serif\" font-size=\"14.00\">gini = 0.473</text>\n<text text-anchor=\"middle\" x=\"1867\" y=\"-141.8\" font-family=\"Helvetica,sans-Serif\" font-size=\"14.00\">samples = 47</text>\n<text text-anchor=\"middle\" x=\"1867\" y=\"-126.8\" font-family=\"Helvetica,sans-Serif\" font-size=\"14.00\">value = [18, 29]</text>\n<text text-anchor=\"middle\" x=\"1867\" y=\"-111.8\" font-family=\"Helvetica,sans-Serif\" font-size=\"14.00\">class = Hit</text>\n</g>\n<!-- 30&#45;&gt;34 -->\n<g id=\"edge34\" class=\"edge\">\n<title>30&#45;&gt;34</title>\n<path fill=\"none\" stroke=\"black\" d=\"M1867,-222.58C1867,-214.79 1867,-206.53 1867,-198.45\"/>\n<polygon fill=\"black\" stroke=\"black\" points=\"1870.5,-198.71 1867,-188.71 1863.5,-198.71 1870.5,-198.71\"/>\n</g>\n<!-- 32 -->\n<g id=\"node33\" class=\"node\">\n<title>32</title>\n<path fill=\"#f2be99\" stroke=\"black\" d=\"M1565.5,-68C1565.5,-68 1476.5,-68 1476.5,-68 1470.5,-68 1464.5,-62 1464.5,-56 1464.5,-56 1464.5,-12 1464.5,-12 1464.5,-6 1470.5,0 1476.5,0 1476.5,0 1565.5,0 1565.5,0 1571.5,0 1577.5,-6 1577.5,-12 1577.5,-12 1577.5,-56 1577.5,-56 1577.5,-62 1571.5,-68 1565.5,-68\"/>\n<text text-anchor=\"middle\" x=\"1521\" y=\"-52.8\" font-family=\"Helvetica,sans-Serif\" font-size=\"14.00\">gini = 0.44</text>\n<text text-anchor=\"middle\" x=\"1521\" y=\"-37.8\" font-family=\"Helvetica,sans-Serif\" font-size=\"14.00\">samples = 98</text>\n<text text-anchor=\"middle\" x=\"1521\" y=\"-22.8\" font-family=\"Helvetica,sans-Serif\" font-size=\"14.00\">value = [66, 32]</text>\n<text text-anchor=\"middle\" x=\"1521\" y=\"-7.8\" font-family=\"Helvetica,sans-Serif\" font-size=\"14.00\">class = Flop</text>\n</g>\n<!-- 31&#45;&gt;32 -->\n<g id=\"edge32\" class=\"edge\">\n<title>31&#45;&gt;32</title>\n<path fill=\"none\" stroke=\"black\" d=\"M1600.08,-103.73C1589.59,-94.61 1578.45,-84.93 1567.96,-75.81\"/>\n<polygon fill=\"black\" stroke=\"black\" points=\"1570.3,-73.21 1560.46,-69.29 1565.71,-78.49 1570.3,-73.21\"/>\n</g>\n<!-- 33 -->\n<g id=\"node34\" class=\"node\">\n<title>33</title>\n<path fill=\"#74baed\" stroke=\"black\" d=\"M1688.5,-68C1688.5,-68 1607.5,-68 1607.5,-68 1601.5,-68 1595.5,-62 1595.5,-56 1595.5,-56 1595.5,-12 1595.5,-12 1595.5,-6 1601.5,0 1607.5,0 1607.5,0 1688.5,0 1688.5,0 1694.5,0 1700.5,-6 1700.5,-12 1700.5,-12 1700.5,-56 1700.5,-56 1700.5,-62 1694.5,-68 1688.5,-68\"/>\n<text text-anchor=\"middle\" x=\"1648\" y=\"-52.8\" font-family=\"Helvetica,sans-Serif\" font-size=\"14.00\">gini = 0.355</text>\n<text text-anchor=\"middle\" x=\"1648\" y=\"-37.8\" font-family=\"Helvetica,sans-Serif\" font-size=\"14.00\">samples = 13</text>\n<text text-anchor=\"middle\" x=\"1648\" y=\"-22.8\" font-family=\"Helvetica,sans-Serif\" font-size=\"14.00\">value = [3, 10]</text>\n<text text-anchor=\"middle\" x=\"1648\" y=\"-7.8\" font-family=\"Helvetica,sans-Serif\" font-size=\"14.00\">class = Hit</text>\n</g>\n<!-- 31&#45;&gt;33 -->\n<g id=\"edge33\" class=\"edge\">\n<title>31&#45;&gt;33</title>\n<path fill=\"none\" stroke=\"black\" d=\"M1647.37,-103.73C1647.44,-95.88 1647.52,-87.63 1647.59,-79.67\"/>\n<polygon fill=\"black\" stroke=\"black\" points=\"1651.09,-79.84 1647.68,-69.81 1644.09,-79.78 1651.09,-79.84\"/>\n</g>\n<!-- 35 -->\n<g id=\"node36\" class=\"node\">\n<title>35</title>\n<path fill=\"#99ccf2\" stroke=\"black\" d=\"M1823.5,-68C1823.5,-68 1734.5,-68 1734.5,-68 1728.5,-68 1722.5,-62 1722.5,-56 1722.5,-56 1722.5,-12 1722.5,-12 1722.5,-6 1728.5,0 1734.5,0 1734.5,0 1823.5,0 1823.5,0 1829.5,0 1835.5,-6 1835.5,-12 1835.5,-12 1835.5,-56 1835.5,-56 1835.5,-62 1829.5,-68 1823.5,-68\"/>\n<text text-anchor=\"middle\" x=\"1779\" y=\"-52.8\" font-family=\"Helvetica,sans-Serif\" font-size=\"14.00\">gini = 0.439</text>\n<text text-anchor=\"middle\" x=\"1779\" y=\"-37.8\" font-family=\"Helvetica,sans-Serif\" font-size=\"14.00\">samples = 43</text>\n<text text-anchor=\"middle\" x=\"1779\" y=\"-22.8\" font-family=\"Helvetica,sans-Serif\" font-size=\"14.00\">value = [14, 29]</text>\n<text text-anchor=\"middle\" x=\"1779\" y=\"-7.8\" font-family=\"Helvetica,sans-Serif\" font-size=\"14.00\">class = Hit</text>\n</g>\n<!-- 34&#45;&gt;35 -->\n<g id=\"edge35\" class=\"edge\">\n<title>34&#45;&gt;35</title>\n<path fill=\"none\" stroke=\"black\" d=\"M1834.23,-103.73C1827.27,-95.06 1819.9,-85.9 1812.9,-77.18\"/>\n<polygon fill=\"black\" stroke=\"black\" points=\"1815.7,-75.08 1806.71,-69.48 1810.25,-79.47 1815.7,-75.08\"/>\n</g>\n<!-- 36 -->\n<g id=\"node37\" class=\"node\">\n<title>36</title>\n<path fill=\"#e58139\" stroke=\"black\" d=\"M1938.5,-68C1938.5,-68 1865.5,-68 1865.5,-68 1859.5,-68 1853.5,-62 1853.5,-56 1853.5,-56 1853.5,-12 1853.5,-12 1853.5,-6 1859.5,0 1865.5,0 1865.5,0 1938.5,0 1938.5,0 1944.5,0 1950.5,-6 1950.5,-12 1950.5,-12 1950.5,-56 1950.5,-56 1950.5,-62 1944.5,-68 1938.5,-68\"/>\n<text text-anchor=\"middle\" x=\"1902\" y=\"-52.8\" font-family=\"Helvetica,sans-Serif\" font-size=\"14.00\">gini = 0.0</text>\n<text text-anchor=\"middle\" x=\"1902\" y=\"-37.8\" font-family=\"Helvetica,sans-Serif\" font-size=\"14.00\">samples = 4</text>\n<text text-anchor=\"middle\" x=\"1902\" y=\"-22.8\" font-family=\"Helvetica,sans-Serif\" font-size=\"14.00\">value = [4, 0]</text>\n<text text-anchor=\"middle\" x=\"1902\" y=\"-7.8\" font-family=\"Helvetica,sans-Serif\" font-size=\"14.00\">class = Flop</text>\n</g>\n<!-- 34&#45;&gt;36 -->\n<g id=\"edge36\" class=\"edge\">\n<title>34&#45;&gt;36</title>\n<path fill=\"none\" stroke=\"black\" d=\"M1880.03,-103.73C1882.6,-95.7 1885.3,-87.24 1887.9,-79.11\"/>\n<polygon fill=\"black\" stroke=\"black\" points=\"1891.18,-80.33 1890.9,-69.74 1884.52,-78.2 1891.18,-80.33\"/>\n</g>\n<!-- 38 -->\n<g id=\"node39\" class=\"node\">\n<title>38</title>\n<path fill=\"#bedff6\" stroke=\"black\" d=\"M2167,-187C2167,-187 1989,-187 1989,-187 1983,-187 1977,-181 1977,-175 1977,-175 1977,-116 1977,-116 1977,-110 1983,-104 1989,-104 1989,-104 2167,-104 2167,-104 2173,-104 2179,-110 2179,-116 2179,-116 2179,-175 2179,-175 2179,-181 2173,-187 2167,-187\"/>\n<text text-anchor=\"middle\" x=\"2078\" y=\"-171.8\" font-family=\"Helvetica,sans-Serif\" font-size=\"14.00\">Lead Star_Sanjay Dutt &lt;= 0.5</text>\n<text text-anchor=\"middle\" x=\"2078\" y=\"-156.8\" font-family=\"Helvetica,sans-Serif\" font-size=\"14.00\">gini = 0.48</text>\n<text text-anchor=\"middle\" x=\"2078\" y=\"-141.8\" font-family=\"Helvetica,sans-Serif\" font-size=\"14.00\">samples = 167</text>\n<text text-anchor=\"middle\" x=\"2078\" y=\"-126.8\" font-family=\"Helvetica,sans-Serif\" font-size=\"14.00\">value = [67, 100]</text>\n<text text-anchor=\"middle\" x=\"2078\" y=\"-111.8\" font-family=\"Helvetica,sans-Serif\" font-size=\"14.00\">class = Hit</text>\n</g>\n<!-- 37&#45;&gt;38 -->\n<g id=\"edge38\" class=\"edge\">\n<title>37&#45;&gt;38</title>\n<path fill=\"none\" stroke=\"black\" d=\"M2078,-222.58C2078,-214.79 2078,-206.53 2078,-198.45\"/>\n<polygon fill=\"black\" stroke=\"black\" points=\"2081.5,-198.71 2078,-188.71 2074.5,-198.71 2081.5,-198.71\"/>\n</g>\n<!-- 41 -->\n<g id=\"node42\" class=\"node\">\n<title>41</title>\n<path fill=\"#45a3e7\" stroke=\"black\" d=\"M2385,-187C2385,-187 2209,-187 2209,-187 2203,-187 2197,-181 2197,-175 2197,-175 2197,-116 2197,-116 2197,-110 2203,-104 2209,-104 2209,-104 2385,-104 2385,-104 2391,-104 2397,-110 2397,-116 2397,-116 2397,-175 2397,-175 2397,-181 2391,-187 2385,-187\"/>\n<text text-anchor=\"middle\" x=\"2297\" y=\"-171.8\" font-family=\"Helvetica,sans-Serif\" font-size=\"14.00\">Director_Raj Nidimoru &lt;= 0.5</text>\n<text text-anchor=\"middle\" x=\"2297\" y=\"-156.8\" font-family=\"Helvetica,sans-Serif\" font-size=\"14.00\">gini = 0.111</text>\n<text text-anchor=\"middle\" x=\"2297\" y=\"-141.8\" font-family=\"Helvetica,sans-Serif\" font-size=\"14.00\">samples = 17</text>\n<text text-anchor=\"middle\" x=\"2297\" y=\"-126.8\" font-family=\"Helvetica,sans-Serif\" font-size=\"14.00\">value = [1, 16]</text>\n<text text-anchor=\"middle\" x=\"2297\" y=\"-111.8\" font-family=\"Helvetica,sans-Serif\" font-size=\"14.00\">class = Hit</text>\n</g>\n<!-- 37&#45;&gt;41 -->\n<g id=\"edge41\" class=\"edge\">\n<title>37&#45;&gt;41</title>\n<path fill=\"none\" stroke=\"black\" d=\"M2154.6,-222.58C2172.6,-212.96 2191.91,-202.64 2210.33,-192.81\"/>\n<polygon fill=\"black\" stroke=\"black\" points=\"2211.94,-195.91 2219.11,-188.11 2208.64,-189.74 2211.94,-195.91\"/>\n</g>\n<!-- 39 -->\n<g id=\"node40\" class=\"node\">\n<title>39</title>\n<path fill=\"#b5daf5\" stroke=\"black\" d=\"M2071.5,-68C2071.5,-68 1982.5,-68 1982.5,-68 1976.5,-68 1970.5,-62 1970.5,-56 1970.5,-56 1970.5,-12 1970.5,-12 1970.5,-6 1976.5,0 1982.5,0 1982.5,0 2071.5,0 2071.5,0 2077.5,0 2083.5,-6 2083.5,-12 2083.5,-12 2083.5,-56 2083.5,-56 2083.5,-62 2077.5,-68 2071.5,-68\"/>\n<text text-anchor=\"middle\" x=\"2027\" y=\"-52.8\" font-family=\"Helvetica,sans-Serif\" font-size=\"14.00\">gini = 0.474</text>\n<text text-anchor=\"middle\" x=\"2027\" y=\"-37.8\" font-family=\"Helvetica,sans-Serif\" font-size=\"14.00\">samples = 161</text>\n<text text-anchor=\"middle\" x=\"2027\" y=\"-22.8\" font-family=\"Helvetica,sans-Serif\" font-size=\"14.00\">value = [62, 99]</text>\n<text text-anchor=\"middle\" x=\"2027\" y=\"-7.8\" font-family=\"Helvetica,sans-Serif\" font-size=\"14.00\">class = Hit</text>\n</g>\n<!-- 38&#45;&gt;39 -->\n<g id=\"edge39\" class=\"edge\">\n<title>38&#45;&gt;39</title>\n<path fill=\"none\" stroke=\"black\" d=\"M2059.01,-103.73C2055.19,-95.52 2051.15,-86.86 2047.29,-78.56\"/>\n<polygon fill=\"black\" stroke=\"black\" points=\"2050.54,-77.26 2043.15,-69.67 2044.2,-80.21 2050.54,-77.26\"/>\n</g>\n<!-- 40 -->\n<g id=\"node41\" class=\"node\">\n<title>40</title>\n<path fill=\"#ea9a61\" stroke=\"black\" d=\"M2186.5,-68C2186.5,-68 2113.5,-68 2113.5,-68 2107.5,-68 2101.5,-62 2101.5,-56 2101.5,-56 2101.5,-12 2101.5,-12 2101.5,-6 2107.5,0 2113.5,0 2113.5,0 2186.5,0 2186.5,0 2192.5,0 2198.5,-6 2198.5,-12 2198.5,-12 2198.5,-56 2198.5,-56 2198.5,-62 2192.5,-68 2186.5,-68\"/>\n<text text-anchor=\"middle\" x=\"2150\" y=\"-52.8\" font-family=\"Helvetica,sans-Serif\" font-size=\"14.00\">gini = 0.278</text>\n<text text-anchor=\"middle\" x=\"2150\" y=\"-37.8\" font-family=\"Helvetica,sans-Serif\" font-size=\"14.00\">samples = 6</text>\n<text text-anchor=\"middle\" x=\"2150\" y=\"-22.8\" font-family=\"Helvetica,sans-Serif\" font-size=\"14.00\">value = [5, 1]</text>\n<text text-anchor=\"middle\" x=\"2150\" y=\"-7.8\" font-family=\"Helvetica,sans-Serif\" font-size=\"14.00\">class = Flop</text>\n</g>\n<!-- 38&#45;&gt;40 -->\n<g id=\"edge40\" class=\"edge\">\n<title>38&#45;&gt;40</title>\n<path fill=\"none\" stroke=\"black\" d=\"M2104.81,-103.73C2110.39,-95.24 2116.28,-86.28 2121.9,-77.73\"/>\n<polygon fill=\"black\" stroke=\"black\" points=\"2124.7,-79.84 2127.27,-69.56 2118.85,-76 2124.7,-79.84\"/>\n</g>\n<!-- 42 -->\n<g id=\"node43\" class=\"node\">\n<title>42</title>\n<path fill=\"#399de5\" stroke=\"black\" d=\"M2310.5,-68C2310.5,-68 2229.5,-68 2229.5,-68 2223.5,-68 2217.5,-62 2217.5,-56 2217.5,-56 2217.5,-12 2217.5,-12 2217.5,-6 2223.5,0 2229.5,0 2229.5,0 2310.5,0 2310.5,0 2316.5,0 2322.5,-6 2322.5,-12 2322.5,-12 2322.5,-56 2322.5,-56 2322.5,-62 2316.5,-68 2310.5,-68\"/>\n<text text-anchor=\"middle\" x=\"2270\" y=\"-52.8\" font-family=\"Helvetica,sans-Serif\" font-size=\"14.00\">gini = 0.0</text>\n<text text-anchor=\"middle\" x=\"2270\" y=\"-37.8\" font-family=\"Helvetica,sans-Serif\" font-size=\"14.00\">samples = 16</text>\n<text text-anchor=\"middle\" x=\"2270\" y=\"-22.8\" font-family=\"Helvetica,sans-Serif\" font-size=\"14.00\">value = [0, 16]</text>\n<text text-anchor=\"middle\" x=\"2270\" y=\"-7.8\" font-family=\"Helvetica,sans-Serif\" font-size=\"14.00\">class = Hit</text>\n</g>\n<!-- 41&#45;&gt;42 -->\n<g id=\"edge42\" class=\"edge\">\n<title>41&#45;&gt;42</title>\n<path fill=\"none\" stroke=\"black\" d=\"M2286.95,-103.73C2284.99,-95.79 2282.93,-87.44 2280.95,-79.39\"/>\n<polygon fill=\"black\" stroke=\"black\" points=\"2284.37,-78.64 2278.57,-69.77 2277.57,-80.32 2284.37,-78.64\"/>\n</g>\n<!-- 43 -->\n<g id=\"node44\" class=\"node\">\n<title>43</title>\n<path fill=\"#e58139\" stroke=\"black\" d=\"M2425.5,-68C2425.5,-68 2352.5,-68 2352.5,-68 2346.5,-68 2340.5,-62 2340.5,-56 2340.5,-56 2340.5,-12 2340.5,-12 2340.5,-6 2346.5,0 2352.5,0 2352.5,0 2425.5,0 2425.5,0 2431.5,0 2437.5,-6 2437.5,-12 2437.5,-12 2437.5,-56 2437.5,-56 2437.5,-62 2431.5,-68 2425.5,-68\"/>\n<text text-anchor=\"middle\" x=\"2389\" y=\"-52.8\" font-family=\"Helvetica,sans-Serif\" font-size=\"14.00\">gini = 0.0</text>\n<text text-anchor=\"middle\" x=\"2389\" y=\"-37.8\" font-family=\"Helvetica,sans-Serif\" font-size=\"14.00\">samples = 1</text>\n<text text-anchor=\"middle\" x=\"2389\" y=\"-22.8\" font-family=\"Helvetica,sans-Serif\" font-size=\"14.00\">value = [1, 0]</text>\n<text text-anchor=\"middle\" x=\"2389\" y=\"-7.8\" font-family=\"Helvetica,sans-Serif\" font-size=\"14.00\">class = Flop</text>\n</g>\n<!-- 41&#45;&gt;43 -->\n<g id=\"edge43\" class=\"edge\">\n<title>41&#45;&gt;43</title>\n<path fill=\"none\" stroke=\"black\" d=\"M2331.26,-103.73C2338.61,-94.97 2346.4,-85.7 2353.79,-76.91\"/>\n<polygon fill=\"black\" stroke=\"black\" points=\"2356.3,-79.37 2360.05,-69.46 2350.94,-74.86 2356.3,-79.37\"/>\n</g>\n<!-- 45 -->\n<g id=\"node46\" class=\"node\">\n<title>45</title>\n<path fill=\"#41a1e6\" stroke=\"black\" d=\"M2608.5,-306C2608.5,-306 2409.5,-306 2409.5,-306 2403.5,-306 2397.5,-300 2397.5,-294 2397.5,-294 2397.5,-235 2397.5,-235 2397.5,-229 2403.5,-223 2409.5,-223 2409.5,-223 2608.5,-223 2608.5,-223 2614.5,-223 2620.5,-229 2620.5,-235 2620.5,-235 2620.5,-294 2620.5,-294 2620.5,-300 2614.5,-306 2608.5,-306\"/>\n<text text-anchor=\"middle\" x=\"2509\" y=\"-290.8\" font-family=\"Helvetica,sans-Serif\" font-size=\"14.00\">Director_Anurag Kashyap &lt;= 0.5</text>\n<text text-anchor=\"middle\" x=\"2509\" y=\"-275.8\" font-family=\"Helvetica,sans-Serif\" font-size=\"14.00\">gini = 0.079</text>\n<text text-anchor=\"middle\" x=\"2509\" y=\"-260.8\" font-family=\"Helvetica,sans-Serif\" font-size=\"14.00\">samples = 73</text>\n<text text-anchor=\"middle\" x=\"2509\" y=\"-245.8\" font-family=\"Helvetica,sans-Serif\" font-size=\"14.00\">value = [3, 70]</text>\n<text text-anchor=\"middle\" x=\"2509\" y=\"-230.8\" font-family=\"Helvetica,sans-Serif\" font-size=\"14.00\">class = Hit</text>\n</g>\n<!-- 44&#45;&gt;45 -->\n<g id=\"edge45\" class=\"edge\">\n<title>44&#45;&gt;45</title>\n<path fill=\"none\" stroke=\"black\" d=\"M2509,-341.58C2509,-333.79 2509,-325.53 2509,-317.45\"/>\n<polygon fill=\"black\" stroke=\"black\" points=\"2512.5,-317.71 2509,-307.71 2505.5,-317.71 2512.5,-317.71\"/>\n</g>\n<!-- 50 -->\n<g id=\"node51\" class=\"node\">\n<title>50</title>\n<path fill=\"#e58139\" stroke=\"black\" d=\"M2723.5,-298.5C2723.5,-298.5 2650.5,-298.5 2650.5,-298.5 2644.5,-298.5 2638.5,-292.5 2638.5,-286.5 2638.5,-286.5 2638.5,-242.5 2638.5,-242.5 2638.5,-236.5 2644.5,-230.5 2650.5,-230.5 2650.5,-230.5 2723.5,-230.5 2723.5,-230.5 2729.5,-230.5 2735.5,-236.5 2735.5,-242.5 2735.5,-242.5 2735.5,-286.5 2735.5,-286.5 2735.5,-292.5 2729.5,-298.5 2723.5,-298.5\"/>\n<text text-anchor=\"middle\" x=\"2687\" y=\"-283.3\" font-family=\"Helvetica,sans-Serif\" font-size=\"14.00\">gini = 0.0</text>\n<text text-anchor=\"middle\" x=\"2687\" y=\"-268.3\" font-family=\"Helvetica,sans-Serif\" font-size=\"14.00\">samples = 1</text>\n<text text-anchor=\"middle\" x=\"2687\" y=\"-253.3\" font-family=\"Helvetica,sans-Serif\" font-size=\"14.00\">value = [1, 0]</text>\n<text text-anchor=\"middle\" x=\"2687\" y=\"-238.3\" font-family=\"Helvetica,sans-Serif\" font-size=\"14.00\">class = Flop</text>\n</g>\n<!-- 44&#45;&gt;50 -->\n<g id=\"edge50\" class=\"edge\">\n<title>44&#45;&gt;50</title>\n<path fill=\"none\" stroke=\"black\" d=\"M2575.04,-341.65C2593,-330.3 2612.35,-317.84 2630,-306 2630.43,-305.71 2630.86,-305.42 2631.29,-305.13\"/>\n<polygon fill=\"black\" stroke=\"black\" points=\"2632.95,-308.24 2639.23,-299.71 2629,-302.46 2632.95,-308.24\"/>\n</g>\n<!-- 46 -->\n<g id=\"node47\" class=\"node\">\n<title>46</title>\n<path fill=\"#3fa0e6\" stroke=\"black\" d=\"M2590.5,-187C2590.5,-187 2427.5,-187 2427.5,-187 2421.5,-187 2415.5,-181 2415.5,-175 2415.5,-175 2415.5,-116 2415.5,-116 2415.5,-110 2421.5,-104 2427.5,-104 2427.5,-104 2590.5,-104 2590.5,-104 2596.5,-104 2602.5,-110 2602.5,-116 2602.5,-116 2602.5,-175 2602.5,-175 2602.5,-181 2596.5,-187 2590.5,-187\"/>\n<text text-anchor=\"middle\" x=\"2509\" y=\"-171.8\" font-family=\"Helvetica,sans-Serif\" font-size=\"14.00\">Director_Sajid Khan &lt;= 0.5</text>\n<text text-anchor=\"middle\" x=\"2509\" y=\"-156.8\" font-family=\"Helvetica,sans-Serif\" font-size=\"14.00\">gini = 0.054</text>\n<text text-anchor=\"middle\" x=\"2509\" y=\"-141.8\" font-family=\"Helvetica,sans-Serif\" font-size=\"14.00\">samples = 72</text>\n<text text-anchor=\"middle\" x=\"2509\" y=\"-126.8\" font-family=\"Helvetica,sans-Serif\" font-size=\"14.00\">value = [2, 70]</text>\n<text text-anchor=\"middle\" x=\"2509\" y=\"-111.8\" font-family=\"Helvetica,sans-Serif\" font-size=\"14.00\">class = Hit</text>\n</g>\n<!-- 45&#45;&gt;46 -->\n<g id=\"edge46\" class=\"edge\">\n<title>45&#45;&gt;46</title>\n<path fill=\"none\" stroke=\"black\" d=\"M2509,-222.58C2509,-214.79 2509,-206.53 2509,-198.45\"/>\n<polygon fill=\"black\" stroke=\"black\" points=\"2512.5,-198.71 2509,-188.71 2505.5,-198.71 2512.5,-198.71\"/>\n</g>\n<!-- 49 -->\n<g id=\"node50\" class=\"node\">\n<title>49</title>\n<path fill=\"#e58139\" stroke=\"black\" d=\"M2705.5,-179.5C2705.5,-179.5 2632.5,-179.5 2632.5,-179.5 2626.5,-179.5 2620.5,-173.5 2620.5,-167.5 2620.5,-167.5 2620.5,-123.5 2620.5,-123.5 2620.5,-117.5 2626.5,-111.5 2632.5,-111.5 2632.5,-111.5 2705.5,-111.5 2705.5,-111.5 2711.5,-111.5 2717.5,-117.5 2717.5,-123.5 2717.5,-123.5 2717.5,-167.5 2717.5,-167.5 2717.5,-173.5 2711.5,-179.5 2705.5,-179.5\"/>\n<text text-anchor=\"middle\" x=\"2669\" y=\"-164.3\" font-family=\"Helvetica,sans-Serif\" font-size=\"14.00\">gini = 0.0</text>\n<text text-anchor=\"middle\" x=\"2669\" y=\"-149.3\" font-family=\"Helvetica,sans-Serif\" font-size=\"14.00\">samples = 1</text>\n<text text-anchor=\"middle\" x=\"2669\" y=\"-134.3\" font-family=\"Helvetica,sans-Serif\" font-size=\"14.00\">value = [1, 0]</text>\n<text text-anchor=\"middle\" x=\"2669\" y=\"-119.3\" font-family=\"Helvetica,sans-Serif\" font-size=\"14.00\">class = Flop</text>\n</g>\n<!-- 45&#45;&gt;49 -->\n<g id=\"edge49\" class=\"edge\">\n<title>45&#45;&gt;49</title>\n<path fill=\"none\" stroke=\"black\" d=\"M2564.96,-222.58C2580.93,-210.9 2598.31,-198.19 2614.21,-186.57\"/>\n<polygon fill=\"black\" stroke=\"black\" points=\"2616.15,-189.48 2622.16,-180.75 2612.02,-183.83 2616.15,-189.48\"/>\n</g>\n<!-- 47 -->\n<g id=\"node48\" class=\"node\">\n<title>47</title>\n<path fill=\"#3c9ee5\" stroke=\"black\" d=\"M2549.5,-68C2549.5,-68 2468.5,-68 2468.5,-68 2462.5,-68 2456.5,-62 2456.5,-56 2456.5,-56 2456.5,-12 2456.5,-12 2456.5,-6 2462.5,0 2468.5,0 2468.5,0 2549.5,0 2549.5,0 2555.5,0 2561.5,-6 2561.5,-12 2561.5,-12 2561.5,-56 2561.5,-56 2561.5,-62 2555.5,-68 2549.5,-68\"/>\n<text text-anchor=\"middle\" x=\"2509\" y=\"-52.8\" font-family=\"Helvetica,sans-Serif\" font-size=\"14.00\">gini = 0.028</text>\n<text text-anchor=\"middle\" x=\"2509\" y=\"-37.8\" font-family=\"Helvetica,sans-Serif\" font-size=\"14.00\">samples = 70</text>\n<text text-anchor=\"middle\" x=\"2509\" y=\"-22.8\" font-family=\"Helvetica,sans-Serif\" font-size=\"14.00\">value = [1, 69]</text>\n<text text-anchor=\"middle\" x=\"2509\" y=\"-7.8\" font-family=\"Helvetica,sans-Serif\" font-size=\"14.00\">class = Hit</text>\n</g>\n<!-- 46&#45;&gt;47 -->\n<g id=\"edge47\" class=\"edge\">\n<title>46&#45;&gt;47</title>\n<path fill=\"none\" stroke=\"black\" d=\"M2509,-103.73C2509,-95.88 2509,-87.63 2509,-79.67\"/>\n<polygon fill=\"black\" stroke=\"black\" points=\"2512.5,-79.81 2509,-69.81 2505.5,-79.81 2512.5,-79.81\"/>\n</g>\n<!-- 48 -->\n<g id=\"node49\" class=\"node\">\n<title>48</title>\n<path fill=\"#ffffff\" stroke=\"black\" d=\"M2664.5,-68C2664.5,-68 2591.5,-68 2591.5,-68 2585.5,-68 2579.5,-62 2579.5,-56 2579.5,-56 2579.5,-12 2579.5,-12 2579.5,-6 2585.5,0 2591.5,0 2591.5,0 2664.5,0 2664.5,0 2670.5,0 2676.5,-6 2676.5,-12 2676.5,-12 2676.5,-56 2676.5,-56 2676.5,-62 2670.5,-68 2664.5,-68\"/>\n<text text-anchor=\"middle\" x=\"2628\" y=\"-52.8\" font-family=\"Helvetica,sans-Serif\" font-size=\"14.00\">gini = 0.5</text>\n<text text-anchor=\"middle\" x=\"2628\" y=\"-37.8\" font-family=\"Helvetica,sans-Serif\" font-size=\"14.00\">samples = 2</text>\n<text text-anchor=\"middle\" x=\"2628\" y=\"-22.8\" font-family=\"Helvetica,sans-Serif\" font-size=\"14.00\">value = [1, 1]</text>\n<text text-anchor=\"middle\" x=\"2628\" y=\"-7.8\" font-family=\"Helvetica,sans-Serif\" font-size=\"14.00\">class = Flop</text>\n</g>\n<!-- 46&#45;&gt;48 -->\n<g id=\"edge48\" class=\"edge\">\n<title>46&#45;&gt;48</title>\n<path fill=\"none\" stroke=\"black\" d=\"M2553.31,-103.73C2563.12,-94.7 2573.53,-85.12 2583.35,-76.08\"/>\n<polygon fill=\"black\" stroke=\"black\" points=\"2585.71,-78.67 2590.7,-69.32 2580.97,-73.52 2585.71,-78.67\"/>\n</g>\n</g>\n</svg>\n",
      "text/plain": [
       "<graphviz.sources.Source at 0x229f26cb310>"
      ]
     },
     "execution_count": 136,
     "metadata": {},
     "output_type": "execute_result"
    }
   ],
   "source": [
    "from pathlib import Path\n",
    "\n",
    "IMAGES_PATH = Path() / \"images\" / \"decision_trees\"\n",
    "IMAGES_PATH.mkdir(parents=True, exist_ok=True)\n",
    "\n",
    "def save_fig(fig_id, tight_layout=True, fig_extension=\"png\", resolution=300):\n",
    "    path = IMAGES_PATH / f\"{fig_id}.{fig_extension}\"\n",
    "    if tight_layout:\n",
    "        plt.tight_layout()\n",
    "    plt.savefig(path, format=fig_extension, dpi=resolution)\n",
    "\n",
    "from sklearn.tree import export_graphviz\n",
    "\n",
    "export_graphviz(\n",
    "        DT,\n",
    "        out_file=str(IMAGES_PATH / \"movie_tree.dot\"),\n",
    "        feature_names=X.columns,\n",
    "        class_names=['Flop','Hit'],\n",
    "        rounded=True,\n",
    "        filled=True\n",
    "    )\n",
    "from graphviz import Source\n",
    "\n",
    "Source.from_file(IMAGES_PATH / \"movie_tree.dot\")    "
   ]
  },
  {
   "attachments": {},
   "cell_type": "markdown",
   "metadata": {},
   "source": [
    "Testing the Tree "
   ]
  },
  {
   "cell_type": "code",
   "execution_count": 137,
   "metadata": {},
   "outputs": [
    {
     "name": "stdout",
     "output_type": "stream",
     "text": [
      "              precision    recall  f1-score   support\n",
      "\n",
      "        flop       0.87      0.90      0.88       313\n",
      "         hit       0.69      0.61      0.64       112\n",
      "\n",
      "    accuracy                           0.82       425\n",
      "   macro avg       0.78      0.75      0.76       425\n",
      "weighted avg       0.82      0.82      0.82       425\n",
      "\n"
     ]
    }
   ],
   "source": [
    "y_pred = DT.predict(X_test)\n",
    "y_test = np.array(y_test).flatten()\n",
    "print(classification_report(y_test, y_pred))"
   ]
  },
  {
   "cell_type": "code",
   "execution_count": 138,
   "metadata": {},
   "outputs": [
    {
     "name": "stdout",
     "output_type": "stream",
     "text": [
      "Accuracy for Decision Tree:  82.35 %\n",
      "Precision for Decision Tree:  68.69 %\n",
      "Recall for Decision Tree:  60.71 %\n",
      "F1 score for Decision Tree: 64.45 \n",
      "\n"
     ]
    }
   ],
   "source": [
    "print(\"Accuracy for Decision Tree: \", np.round(sklearn.metrics.accuracy_score(y_test, y_pred)*100,2), '%')\n",
    "print(\"Precision for Decision Tree: \", np.round(sklearn.metrics.precision_score(y_test, y_pred,pos_label='hit')*100,2), '%')\n",
    "print(\"Recall for Decision Tree: \", np.round(sklearn.metrics.recall_score(y_test, y_pred,pos_label='hit')*100,2), '%')\n",
    "print(\"F1 score for Decision Tree:\", np.round(sklearn.metrics.f1_score(y_test, y_pred,pos_label='hit')*100,2), \"\\n\")"
   ]
  },
  {
   "attachments": {},
   "cell_type": "markdown",
   "metadata": {},
   "source": [
    "Confusion Matrix"
   ]
  },
  {
   "cell_type": "code",
   "execution_count": 139,
   "metadata": {},
   "outputs": [
    {
     "data": {
      "image/png": "[encoded data removed]",
      "text/plain": [
       "<Figure size 640x480 with 2 Axes>"
      ]
     },
     "metadata": {},
     "output_type": "display_data"
    }
   ],
   "source": [
    "cm = sklearn.metrics.confusion_matrix(y_test, y_pred)\n",
    "disp = sklearn.metrics.ConfusionMatrixDisplay(confusion_matrix=cm)\n",
    "disp.plot()\n",
    "plt.show()"
   ]
  },
  {
   "attachments": {},
   "cell_type": "markdown",
   "metadata": {},
   "source": [
    "Time and Memory consumed"
   ]
  },
  {
   "cell_type": "code",
   "execution_count": 140,
   "metadata": {},
   "outputs": [
    {
     "name": "stdout",
     "output_type": "stream",
     "text": [
      "Current memory usage is 15.015833MB\n",
      "Peak memory usage was 51.719428MB\n"
     ]
    },
    {
     "data": {
      "text/plain": [
       "1.3056421279907227"
      ]
     },
     "execution_count": 140,
     "metadata": {},
     "output_type": "execute_result"
    }
   ],
   "source": [
    "current, peak = tracemalloc.get_traced_memory()  # take a snapshot of current memory usage\n",
    "print(f\"Current memory usage is {current / 10**6}MB\\nPeak memory usage was {peak / 10**6}MB\")\n",
    "\n",
    "tracemalloc.stop()  # stop tracking memory usage\n",
    "\n",
    "time.time()-start"
   ]
  },
  {
   "attachments": {},
   "cell_type": "markdown",
   "metadata": {},
   "source": [
    "Naive Bayes Classifier"
   ]
  },
  {
   "cell_type": "code",
   "execution_count": 141,
   "metadata": {},
   "outputs": [
    {
     "data": {
      "text/html": [
       "<style>#sk-container-id-20 {color: black;background-color: white;}#sk-container-id-20 pre{padding: 0;}#sk-container-id-20 div.sk-toggleable {background-color: white;}#sk-container-id-20 label.sk-toggleable__label {cursor: pointer;display: block;width: 100%;margin-bottom: 0;padding: 0.3em;box-sizing: border-box;text-align: center;}#sk-container-id-20 label.sk-toggleable__label-arrow:before {content: \"▸\";float: left;margin-right: 0.25em;color: #696969;}#sk-container-id-20 label.sk-toggleable__label-arrow:hover:before {color: black;}#sk-container-id-20 div.sk-estimator:hover label.sk-toggleable__label-arrow:before {color: black;}#sk-container-id-20 div.sk-toggleable__content {max-height: 0;max-width: 0;overflow: hidden;text-align: left;background-color: #f0f8ff;}#sk-container-id-20 div.sk-toggleable__content pre {margin: 0.2em;color: black;border-radius: 0.25em;background-color: #f0f8ff;}#sk-container-id-20 input.sk-toggleable__control:checked~div.sk-toggleable__content {max-height: 200px;max-width: 100%;overflow: auto;}#sk-container-id-20 input.sk-toggleable__control:checked~label.sk-toggleable__label-arrow:before {content: \"▾\";}#sk-container-id-20 div.sk-estimator input.sk-toggleable__control:checked~label.sk-toggleable__label {background-color: #d4ebff;}#sk-container-id-20 div.sk-label input.sk-toggleable__control:checked~label.sk-toggleable__label {background-color: #d4ebff;}#sk-container-id-20 input.sk-hidden--visually {border: 0;clip: rect(1px 1px 1px 1px);clip: rect(1px, 1px, 1px, 1px);height: 1px;margin: -1px;overflow: hidden;padding: 0;position: absolute;width: 1px;}#sk-container-id-20 div.sk-estimator {font-family: monospace;background-color: #f0f8ff;border: 1px dotted black;border-radius: 0.25em;box-sizing: border-box;margin-bottom: 0.5em;}#sk-container-id-20 div.sk-estimator:hover {background-color: #d4ebff;}#sk-container-id-20 div.sk-parallel-item::after {content: \"\";width: 100%;border-bottom: 1px solid gray;flex-grow: 1;}#sk-container-id-20 div.sk-label:hover label.sk-toggleable__label {background-color: #d4ebff;}#sk-container-id-20 div.sk-serial::before {content: \"\";position: absolute;border-left: 1px solid gray;box-sizing: border-box;top: 0;bottom: 0;left: 50%;z-index: 0;}#sk-container-id-20 div.sk-serial {display: flex;flex-direction: column;align-items: center;background-color: white;padding-right: 0.2em;padding-left: 0.2em;position: relative;}#sk-container-id-20 div.sk-item {position: relative;z-index: 1;}#sk-container-id-20 div.sk-parallel {display: flex;align-items: stretch;justify-content: center;background-color: white;position: relative;}#sk-container-id-20 div.sk-item::before, #sk-container-id-20 div.sk-parallel-item::before {content: \"\";position: absolute;border-left: 1px solid gray;box-sizing: border-box;top: 0;bottom: 0;left: 50%;z-index: -1;}#sk-container-id-20 div.sk-parallel-item {display: flex;flex-direction: column;z-index: 1;position: relative;background-color: white;}#sk-container-id-20 div.sk-parallel-item:first-child::after {align-self: flex-end;width: 50%;}#sk-container-id-20 div.sk-parallel-item:last-child::after {align-self: flex-start;width: 50%;}#sk-container-id-20 div.sk-parallel-item:only-child::after {width: 0;}#sk-container-id-20 div.sk-dashed-wrapped {border: 1px dashed gray;margin: 0 0.4em 0.5em 0.4em;box-sizing: border-box;padding-bottom: 0.4em;background-color: white;}#sk-container-id-20 div.sk-label label {font-family: monospace;font-weight: bold;display: inline-block;line-height: 1.2em;}#sk-container-id-20 div.sk-label-container {text-align: center;}#sk-container-id-20 div.sk-container {/* jupyter's `normalize.less` sets `[hidden] { display: none; }` but bootstrap.min.css set `[hidden] { display: none !important; }` so we also need the `!important` here to be able to override the default hidden behavior on the sphinx rendered scikit-learn.org. See: https://github.com/scikit-learn/scikit-learn/issues/21755 */display: inline-block !important;position: relative;}#sk-container-id-20 div.sk-text-repr-fallback {display: none;}</style><div id=\"sk-container-id-20\" class=\"sk-top-container\"><div class=\"sk-text-repr-fallback\"><pre>MultinomialNB()</pre><b>In a Jupyter environment, please rerun this cell to show the HTML representation or trust the notebook. <br />On GitHub, the HTML representation is unable to render, please try loading this page with nbviewer.org.</b></div><div class=\"sk-container\" hidden><div class=\"sk-item\"><div class=\"sk-estimator sk-toggleable\"><input class=\"sk-toggleable__control sk-hidden--visually\" id=\"sk-estimator-id-20\" type=\"checkbox\" checked><label for=\"sk-estimator-id-20\" class=\"sk-toggleable__label sk-toggleable__label-arrow\">MultinomialNB</label><div class=\"sk-toggleable__content\"><pre>MultinomialNB()</pre></div></div></div></div></div>"
      ],
      "text/plain": [
       "MultinomialNB()"
      ]
     },
     "execution_count": 141,
     "metadata": {},
     "output_type": "execute_result"
    }
   ],
   "source": [
    "tracemalloc.start()\n",
    "start = time.time()\n",
    "from sklearn.naive_bayes import MultinomialNB\n",
    "NB = MultinomialNB()\n",
    "NB.fit(X_train, y_train)\n",
    "MultinomialNB()"
   ]
  },
  {
   "attachments": {},
   "cell_type": "markdown",
   "metadata": {},
   "source": [
    "Testing the Bayes classifier"
   ]
  },
  {
   "cell_type": "code",
   "execution_count": 142,
   "metadata": {},
   "outputs": [
    {
     "name": "stdout",
     "output_type": "stream",
     "text": [
      "              precision    recall  f1-score   support\n",
      "\n",
      "        flop       0.93      0.81      0.86       313\n",
      "         hit       0.61      0.82      0.70       112\n",
      "\n",
      "    accuracy                           0.81       425\n",
      "   macro avg       0.77      0.81      0.78       425\n",
      "weighted avg       0.84      0.81      0.82       425\n",
      "\n"
     ]
    }
   ],
   "source": [
    "y_pred = NB.predict(X_test)\n",
    "y_test = np.array(y_test).flatten()\n",
    "print(classification_report(y_test, y_pred))"
   ]
  },
  {
   "cell_type": "code",
   "execution_count": 143,
   "metadata": {},
   "outputs": [
    {
     "name": "stdout",
     "output_type": "stream",
     "text": [
      "Accuracy for Naive Bayes:  81.18 %\n",
      "Precision for Naive Bayes:  60.53 %\n",
      "Recall for Naive Bayes:  82.14 %\n",
      "F1 score for Naive Bayes: 69.7 \n",
      "\n"
     ]
    }
   ],
   "source": [
    "print(\"Accuracy for Naive Bayes: \", np.round(sklearn.metrics.accuracy_score(y_test, y_pred)*100,2), '%')\n",
    "print(\"Precision for Naive Bayes: \", np.round(sklearn.metrics.precision_score(y_test, y_pred,pos_label='hit')*100,2), '%')\n",
    "print(\"Recall for Naive Bayes: \", np.round(sklearn.metrics.recall_score(y_test, y_pred,pos_label='hit')*100,2), '%')\n",
    "print(\"F1 score for Naive Bayes:\", np.round(sklearn.metrics.f1_score(y_test, y_pred,pos_label='hit')*100,2), \"\\n\")"
   ]
  },
  {
   "attachments": {},
   "cell_type": "markdown",
   "metadata": {},
   "source": [
    "Confusion Matrix"
   ]
  },
  {
   "cell_type": "code",
   "execution_count": 144,
   "metadata": {},
   "outputs": [
    {
     "data": {
      "image/png": "[encoded data removed]",
      "text/plain": [
       "<Figure size 640x480 with 2 Axes>"
      ]
     },
     "metadata": {},
     "output_type": "display_data"
    }
   ],
   "source": [
    "cm2 = sklearn.metrics.confusion_matrix(y_test, y_pred)\n",
    "disp = sklearn.metrics.ConfusionMatrixDisplay(confusion_matrix=cm2)\n",
    "disp.plot()\n",
    "plt.show()"
   ]
  },
  {
   "attachments": {},
   "cell_type": "markdown",
   "metadata": {},
   "source": [
    "Time and Memory consumed"
   ]
  },
  {
   "cell_type": "code",
   "execution_count": 145,
   "metadata": {},
   "outputs": [
    {
     "name": "stdout",
     "output_type": "stream",
     "text": [
      "Current memory usage is 1.07939MB\n",
      "Peak memory usage was 25.306447MB\n"
     ]
    },
    {
     "data": {
      "text/plain": [
       "0.6919779777526855"
      ]
     },
     "execution_count": 145,
     "metadata": {},
     "output_type": "execute_result"
    }
   ],
   "source": [
    "current, peak = tracemalloc.get_traced_memory()  # take a snapshot of current memory usage\n",
    "print(f\"Current memory usage is {current / 10**6}MB\\nPeak memory usage was {peak / 10**6}MB\")\n",
    "\n",
    "tracemalloc.stop()  # stop tracking memory usage\n",
    "\n",
    "time.time()-start"
   ]
  }
 ],
 "metadata": {
  "kernelspec": {
   "display_name": "Python 3",
   "language": "python",
   "name": "python3"
  },
  "language_info": {
   "codemirror_mode": {
    "name": "ipython",
    "version": 3
   },
   "file_extension": ".py",
   "mimetype": "text/x-python",
   "name": "python",
   "nbconvert_exporter": "python",
   "pygments_lexer": "ipython3",
   "version": "3.11.1"
  },
  "orig_nbformat": 4,
  "vscode": {
   "interpreter": {
    "hash": "568b33a0c42e1133e5b649ae955656f3485b80be22305b6d5b7cbe0309d42dfd"
   }
  }
 },
 "nbformat": 4,
 "nbformat_minor": 2
}
