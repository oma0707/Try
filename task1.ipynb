{
 "cells": [
  {
   "attachments": {},
   "cell_type": "markdown",
   "metadata": {},
   "source": [
    "DMML Assignment 1\n",
    "\n",
    "Om Ambaye BMC202006 \n",
    "\n",
    "Alok Dhar Dubey BMP202002"
   ]
  },
  {
   "cell_type": "code",
   "execution_count": 59,
   "metadata": {},
   "outputs": [],
   "source": [
    "#importing various packages\n",
    "import time\n",
    "import os\n",
    "os.environ[\"PATH\"] += os.pathsep + 'C:/Program Files (x86)/Graphviz/bin/'\n",
    "start = time.time()\n",
    "import numpy as np\n",
    "import pandas as pd\n",
    "import sklearn\n",
    "import matplotlib.pyplot as plt\n",
    "from sklearn.model_selection import train_test_split\n",
    "from sklearn.tree import DecisionTreeClassifier\n",
    "from sklearn.metrics import classification_report\n",
    "import tracemalloc\n",
    "tracemalloc.start()\n",
    " \n",
    "# Where to save the figures\n",
    "PROJECT_ROOT_DIR = \".\"\n",
    "CHAPTER_ID = \"decision_trees\"\n",
    "IMAGES_PATH = os.path.join(PROJECT_ROOT_DIR, \"images\", CHAPTER_ID)\n",
    "os.makedirs(IMAGES_PATH, exist_ok=True)\n",
    "\n",
    "def save_fig(fig_id, tight_layout=True, fig_extension=\"png\", resolution=300):\n",
    "    path = os.path.join(IMAGES_PATH, fig_id + \".\" + fig_extension)\n",
    "    print(\"Saving figure\", fig_id)\n",
    "    if tight_layout:\n",
    "        plt.tight_layout()\n",
    "    plt.savefig(path, format=fig_extension, dpi=resolution)\n"
   ]
  },
  {
   "attachments": {},
   "cell_type": "markdown",
   "metadata": {},
   "source": [
    "Reading Data"
   ]
  },
  {
   "cell_type": "code",
   "execution_count": 60,
   "metadata": {},
   "outputs": [
    {
     "data": {
      "text/html": [
       "<div>\n",
       "<style scoped>\n",
       "    .dataframe tbody tr th:only-of-type {\n",
       "        vertical-align: middle;\n",
       "    }\n",
       "\n",
       "    .dataframe tbody tr th {\n",
       "        vertical-align: top;\n",
       "    }\n",
       "\n",
       "    .dataframe thead th {\n",
       "        text-align: right;\n",
       "    }\n",
       "</style>\n",
       "<table border=\"1\" class=\"dataframe\">\n",
       "  <thead>\n",
       "    <tr style=\"text-align: right;\">\n",
       "      <th></th>\n",
       "      <th>age</th>\n",
       "      <th>job</th>\n",
       "      <th>marital</th>\n",
       "      <th>education</th>\n",
       "      <th>default</th>\n",
       "      <th>housing</th>\n",
       "      <th>loan</th>\n",
       "      <th>contact</th>\n",
       "      <th>month</th>\n",
       "      <th>day_of_week</th>\n",
       "      <th>...</th>\n",
       "      <th>campaign</th>\n",
       "      <th>pdays</th>\n",
       "      <th>previous</th>\n",
       "      <th>poutcome</th>\n",
       "      <th>emp.var.rate</th>\n",
       "      <th>cons.price.idx</th>\n",
       "      <th>cons.conf.idx</th>\n",
       "      <th>euribor3m</th>\n",
       "      <th>nr.employed</th>\n",
       "      <th>y</th>\n",
       "    </tr>\n",
       "  </thead>\n",
       "  <tbody>\n",
       "    <tr>\n",
       "      <th>0</th>\n",
       "      <td>56</td>\n",
       "      <td>housemaid</td>\n",
       "      <td>married</td>\n",
       "      <td>basic.4y</td>\n",
       "      <td>no</td>\n",
       "      <td>no</td>\n",
       "      <td>no</td>\n",
       "      <td>telephone</td>\n",
       "      <td>may</td>\n",
       "      <td>mon</td>\n",
       "      <td>...</td>\n",
       "      <td>1</td>\n",
       "      <td>999</td>\n",
       "      <td>0</td>\n",
       "      <td>nonexistent</td>\n",
       "      <td>1.1</td>\n",
       "      <td>93.994</td>\n",
       "      <td>-36.4</td>\n",
       "      <td>4.857</td>\n",
       "      <td>5191.0</td>\n",
       "      <td>no</td>\n",
       "    </tr>\n",
       "    <tr>\n",
       "      <th>1</th>\n",
       "      <td>57</td>\n",
       "      <td>services</td>\n",
       "      <td>married</td>\n",
       "      <td>high.school</td>\n",
       "      <td>unknown</td>\n",
       "      <td>no</td>\n",
       "      <td>no</td>\n",
       "      <td>telephone</td>\n",
       "      <td>may</td>\n",
       "      <td>mon</td>\n",
       "      <td>...</td>\n",
       "      <td>1</td>\n",
       "      <td>999</td>\n",
       "      <td>0</td>\n",
       "      <td>nonexistent</td>\n",
       "      <td>1.1</td>\n",
       "      <td>93.994</td>\n",
       "      <td>-36.4</td>\n",
       "      <td>4.857</td>\n",
       "      <td>5191.0</td>\n",
       "      <td>no</td>\n",
       "    </tr>\n",
       "    <tr>\n",
       "      <th>2</th>\n",
       "      <td>37</td>\n",
       "      <td>services</td>\n",
       "      <td>married</td>\n",
       "      <td>high.school</td>\n",
       "      <td>no</td>\n",
       "      <td>yes</td>\n",
       "      <td>no</td>\n",
       "      <td>telephone</td>\n",
       "      <td>may</td>\n",
       "      <td>mon</td>\n",
       "      <td>...</td>\n",
       "      <td>1</td>\n",
       "      <td>999</td>\n",
       "      <td>0</td>\n",
       "      <td>nonexistent</td>\n",
       "      <td>1.1</td>\n",
       "      <td>93.994</td>\n",
       "      <td>-36.4</td>\n",
       "      <td>4.857</td>\n",
       "      <td>5191.0</td>\n",
       "      <td>no</td>\n",
       "    </tr>\n",
       "    <tr>\n",
       "      <th>3</th>\n",
       "      <td>40</td>\n",
       "      <td>admin.</td>\n",
       "      <td>married</td>\n",
       "      <td>basic.6y</td>\n",
       "      <td>no</td>\n",
       "      <td>no</td>\n",
       "      <td>no</td>\n",
       "      <td>telephone</td>\n",
       "      <td>may</td>\n",
       "      <td>mon</td>\n",
       "      <td>...</td>\n",
       "      <td>1</td>\n",
       "      <td>999</td>\n",
       "      <td>0</td>\n",
       "      <td>nonexistent</td>\n",
       "      <td>1.1</td>\n",
       "      <td>93.994</td>\n",
       "      <td>-36.4</td>\n",
       "      <td>4.857</td>\n",
       "      <td>5191.0</td>\n",
       "      <td>no</td>\n",
       "    </tr>\n",
       "    <tr>\n",
       "      <th>4</th>\n",
       "      <td>56</td>\n",
       "      <td>services</td>\n",
       "      <td>married</td>\n",
       "      <td>high.school</td>\n",
       "      <td>no</td>\n",
       "      <td>no</td>\n",
       "      <td>yes</td>\n",
       "      <td>telephone</td>\n",
       "      <td>may</td>\n",
       "      <td>mon</td>\n",
       "      <td>...</td>\n",
       "      <td>1</td>\n",
       "      <td>999</td>\n",
       "      <td>0</td>\n",
       "      <td>nonexistent</td>\n",
       "      <td>1.1</td>\n",
       "      <td>93.994</td>\n",
       "      <td>-36.4</td>\n",
       "      <td>4.857</td>\n",
       "      <td>5191.0</td>\n",
       "      <td>no</td>\n",
       "    </tr>\n",
       "  </tbody>\n",
       "</table>\n",
       "<p>5 rows × 21 columns</p>\n",
       "</div>"
      ],
      "text/plain": [
       "   age        job  marital    education  default housing loan    contact  \\\n",
       "0   56  housemaid  married     basic.4y       no      no   no  telephone   \n",
       "1   57   services  married  high.school  unknown      no   no  telephone   \n",
       "2   37   services  married  high.school       no     yes   no  telephone   \n",
       "3   40     admin.  married     basic.6y       no      no   no  telephone   \n",
       "4   56   services  married  high.school       no      no  yes  telephone   \n",
       "\n",
       "  month day_of_week  ...  campaign  pdays  previous     poutcome emp.var.rate  \\\n",
       "0   may         mon  ...         1    999         0  nonexistent          1.1   \n",
       "1   may         mon  ...         1    999         0  nonexistent          1.1   \n",
       "2   may         mon  ...         1    999         0  nonexistent          1.1   \n",
       "3   may         mon  ...         1    999         0  nonexistent          1.1   \n",
       "4   may         mon  ...         1    999         0  nonexistent          1.1   \n",
       "\n",
       "   cons.price.idx  cons.conf.idx  euribor3m  nr.employed   y  \n",
       "0          93.994          -36.4      4.857       5191.0  no  \n",
       "1          93.994          -36.4      4.857       5191.0  no  \n",
       "2          93.994          -36.4      4.857       5191.0  no  \n",
       "3          93.994          -36.4      4.857       5191.0  no  \n",
       "4          93.994          -36.4      4.857       5191.0  no  \n",
       "\n",
       "[5 rows x 21 columns]"
      ]
     },
     "execution_count": 60,
     "metadata": {},
     "output_type": "execute_result"
    }
   ],
   "source": [
    "path_to_file=\"C:/CMI/SEM 6/DMML/Assignment1/bank-data/bank-additional-full.csv\"\n",
    "bank_data=pd.read_csv(path_to_file, sep=\";\")\n",
    "bank_data.head()"
   ]
  },
  {
   "cell_type": "code",
   "execution_count": 61,
   "metadata": {},
   "outputs": [
    {
     "data": {
      "text/plain": [
       "Index(['age', 'job', 'marital', 'education', 'default', 'housing', 'loan',\n",
       "       'contact', 'month', 'day_of_week', 'duration', 'campaign', 'pdays',\n",
       "       'previous', 'poutcome', 'emp.var.rate', 'cons.price.idx',\n",
       "       'cons.conf.idx', 'euribor3m', 'nr.employed', 'y'],\n",
       "      dtype='object')"
      ]
     },
     "execution_count": 61,
     "metadata": {},
     "output_type": "execute_result"
    }
   ],
   "source": [
    "bank_data.columns"
   ]
  },
  {
   "attachments": {},
   "cell_type": "markdown",
   "metadata": {},
   "source": [
    "Modifying the Dataset:\n",
    "\n",
    "Duration of a call is not known beforehand and once we know the duration, we also know if the final answer is yes or no. Hence we drop the duration column.\n",
    "We drop the default column because it has too many 'unknown' values. We drop the 'pdays' column because it has high standard deviation and as less than 5% of the people have been contacted before."
   ]
  },
  {
   "cell_type": "code",
   "execution_count": 62,
   "metadata": {},
   "outputs": [
    {
     "data": {
      "text/html": [
       "<div>\n",
       "<style scoped>\n",
       "    .dataframe tbody tr th:only-of-type {\n",
       "        vertical-align: middle;\n",
       "    }\n",
       "\n",
       "    .dataframe tbody tr th {\n",
       "        vertical-align: top;\n",
       "    }\n",
       "\n",
       "    .dataframe thead th {\n",
       "        text-align: right;\n",
       "    }\n",
       "</style>\n",
       "<table border=\"1\" class=\"dataframe\">\n",
       "  <thead>\n",
       "    <tr style=\"text-align: right;\">\n",
       "      <th></th>\n",
       "      <th>age</th>\n",
       "      <th>education</th>\n",
       "      <th>housing</th>\n",
       "      <th>loan</th>\n",
       "      <th>campaign</th>\n",
       "      <th>previous</th>\n",
       "      <th>poutcome</th>\n",
       "      <th>emp.var.rate</th>\n",
       "      <th>cons.price.idx</th>\n",
       "      <th>cons.conf.idx</th>\n",
       "      <th>...</th>\n",
       "      <th>month_mar</th>\n",
       "      <th>month_may</th>\n",
       "      <th>month_nov</th>\n",
       "      <th>month_oct</th>\n",
       "      <th>month_sep</th>\n",
       "      <th>contact_telephone</th>\n",
       "      <th>day_of_week_mon</th>\n",
       "      <th>day_of_week_thu</th>\n",
       "      <th>day_of_week_tue</th>\n",
       "      <th>day_of_week_wed</th>\n",
       "    </tr>\n",
       "  </thead>\n",
       "  <tbody>\n",
       "    <tr>\n",
       "      <th>549</th>\n",
       "      <td>50</td>\n",
       "      <td>1</td>\n",
       "      <td>0</td>\n",
       "      <td>0</td>\n",
       "      <td>1</td>\n",
       "      <td>0</td>\n",
       "      <td>0</td>\n",
       "      <td>1.1</td>\n",
       "      <td>93.994</td>\n",
       "      <td>-36.4</td>\n",
       "      <td>...</td>\n",
       "      <td>0</td>\n",
       "      <td>1</td>\n",
       "      <td>0</td>\n",
       "      <td>0</td>\n",
       "      <td>0</td>\n",
       "      <td>1</td>\n",
       "      <td>0</td>\n",
       "      <td>0</td>\n",
       "      <td>1</td>\n",
       "      <td>0</td>\n",
       "    </tr>\n",
       "    <tr>\n",
       "      <th>1974</th>\n",
       "      <td>26</td>\n",
       "      <td>4</td>\n",
       "      <td>1</td>\n",
       "      <td>1</td>\n",
       "      <td>4</td>\n",
       "      <td>0</td>\n",
       "      <td>0</td>\n",
       "      <td>1.1</td>\n",
       "      <td>93.994</td>\n",
       "      <td>-36.4</td>\n",
       "      <td>...</td>\n",
       "      <td>0</td>\n",
       "      <td>1</td>\n",
       "      <td>0</td>\n",
       "      <td>0</td>\n",
       "      <td>0</td>\n",
       "      <td>1</td>\n",
       "      <td>0</td>\n",
       "      <td>0</td>\n",
       "      <td>0</td>\n",
       "      <td>0</td>\n",
       "    </tr>\n",
       "    <tr>\n",
       "      <th>20992</th>\n",
       "      <td>34</td>\n",
       "      <td>4</td>\n",
       "      <td>-1</td>\n",
       "      <td>1</td>\n",
       "      <td>3</td>\n",
       "      <td>0</td>\n",
       "      <td>0</td>\n",
       "      <td>1.4</td>\n",
       "      <td>93.444</td>\n",
       "      <td>-36.1</td>\n",
       "      <td>...</td>\n",
       "      <td>0</td>\n",
       "      <td>0</td>\n",
       "      <td>0</td>\n",
       "      <td>0</td>\n",
       "      <td>0</td>\n",
       "      <td>0</td>\n",
       "      <td>0</td>\n",
       "      <td>1</td>\n",
       "      <td>0</td>\n",
       "      <td>0</td>\n",
       "    </tr>\n",
       "    <tr>\n",
       "      <th>1730</th>\n",
       "      <td>30</td>\n",
       "      <td>3</td>\n",
       "      <td>-1</td>\n",
       "      <td>1</td>\n",
       "      <td>1</td>\n",
       "      <td>0</td>\n",
       "      <td>0</td>\n",
       "      <td>1.1</td>\n",
       "      <td>93.994</td>\n",
       "      <td>-36.4</td>\n",
       "      <td>...</td>\n",
       "      <td>0</td>\n",
       "      <td>1</td>\n",
       "      <td>0</td>\n",
       "      <td>0</td>\n",
       "      <td>0</td>\n",
       "      <td>1</td>\n",
       "      <td>0</td>\n",
       "      <td>0</td>\n",
       "      <td>0</td>\n",
       "      <td>0</td>\n",
       "    </tr>\n",
       "    <tr>\n",
       "      <th>26913</th>\n",
       "      <td>29</td>\n",
       "      <td>6</td>\n",
       "      <td>-1</td>\n",
       "      <td>1</td>\n",
       "      <td>2</td>\n",
       "      <td>0</td>\n",
       "      <td>0</td>\n",
       "      <td>-0.1</td>\n",
       "      <td>93.200</td>\n",
       "      <td>-42.0</td>\n",
       "      <td>...</td>\n",
       "      <td>0</td>\n",
       "      <td>0</td>\n",
       "      <td>1</td>\n",
       "      <td>0</td>\n",
       "      <td>0</td>\n",
       "      <td>0</td>\n",
       "      <td>0</td>\n",
       "      <td>1</td>\n",
       "      <td>0</td>\n",
       "      <td>0</td>\n",
       "    </tr>\n",
       "  </tbody>\n",
       "</table>\n",
       "<p>5 rows × 40 columns</p>\n",
       "</div>"
      ],
      "text/plain": [
       "       age  education  housing  loan  campaign  previous  poutcome  \\\n",
       "549     50          1        0     0         1         0         0   \n",
       "1974    26          4        1     1         4         0         0   \n",
       "20992   34          4       -1     1         3         0         0   \n",
       "1730    30          3       -1     1         1         0         0   \n",
       "26913   29          6       -1     1         2         0         0   \n",
       "\n",
       "       emp.var.rate  cons.price.idx  cons.conf.idx  ...  month_mar  month_may  \\\n",
       "549             1.1          93.994          -36.4  ...          0          1   \n",
       "1974            1.1          93.994          -36.4  ...          0          1   \n",
       "20992           1.4          93.444          -36.1  ...          0          0   \n",
       "1730            1.1          93.994          -36.4  ...          0          1   \n",
       "26913          -0.1          93.200          -42.0  ...          0          0   \n",
       "\n",
       "       month_nov  month_oct  month_sep  contact_telephone  day_of_week_mon  \\\n",
       "549            0          0          0                  1                0   \n",
       "1974           0          0          0                  1                0   \n",
       "20992          0          0          0                  0                0   \n",
       "1730           0          0          0                  1                0   \n",
       "26913          1          0          0                  0                0   \n",
       "\n",
       "       day_of_week_thu  day_of_week_tue  day_of_week_wed  \n",
       "549                  0                1                0  \n",
       "1974                 0                0                0  \n",
       "20992                1                0                0  \n",
       "1730                 0                0                0  \n",
       "26913                1                0                0  \n",
       "\n",
       "[5 rows x 40 columns]"
      ]
     },
     "execution_count": 62,
     "metadata": {},
     "output_type": "execute_result"
    }
   ],
   "source": [
    "bank_data=bank_data.drop(columns=['duration'])\n",
    "bank_data=bank_data.drop(columns=['default'])\n",
    "bank_data=bank_data.drop(columns=['pdays'])\n",
    "\n",
    "#Changing some of the categorical attributes to numerical attributes using Label Encoding.\n",
    "categorical_cols = ['job', 'marital','month', 'contact', 'day_of_week']\n",
    "\n",
    "#Changing the ordinal variables manually preserving the order\n",
    "bank_data = pd.get_dummies(bank_data, columns = categorical_cols, drop_first = True)\n",
    "bank_data['housing'] = bank_data['housing'].map({'yes': -1,'unknown': 0,'no': 1})\n",
    "bank_data['loan'] = bank_data['loan'].map({'yes': -1,'unknown': 0,'no': 1})\n",
    "bank_data['education'] = bank_data['education'].map({'unknown':-1, 'illiterate':0, 'basic.4y':1, 'basic.6y':2, 'basic.9y':3, 'high.school':4,'professional.course':5,'university.degree':6})\n",
    "bank_data['poutcome']=bank_data['poutcome'].map({'nonexistent':0, 'success':1, 'failure':-1})\n",
    "\n",
    "X = bank_data.drop(['y'], axis = 1)\n",
    "y = bank_data['y']\n",
    "\n",
    "feature_names=X.columns\n",
    "#Splitting the data into training and test samples (default 75-25 split)\n",
    "X_train, X_test, y_train, y_test = train_test_split(X, y, random_state=42)\n",
    "X_train.head()"
   ]
  },
  {
   "attachments": {},
   "cell_type": "markdown",
   "metadata": {},
   "source": [
    "Training the Decision Tree"
   ]
  },
  {
   "cell_type": "code",
   "execution_count": 63,
   "metadata": {},
   "outputs": [
    {
     "data": {
      "text/html": [
       "<style>#sk-container-id-9 {color: black;background-color: white;}#sk-container-id-9 pre{padding: 0;}#sk-container-id-9 div.sk-toggleable {background-color: white;}#sk-container-id-9 label.sk-toggleable__label {cursor: pointer;display: block;width: 100%;margin-bottom: 0;padding: 0.3em;box-sizing: border-box;text-align: center;}#sk-container-id-9 label.sk-toggleable__label-arrow:before {content: \"▸\";float: left;margin-right: 0.25em;color: #696969;}#sk-container-id-9 label.sk-toggleable__label-arrow:hover:before {color: black;}#sk-container-id-9 div.sk-estimator:hover label.sk-toggleable__label-arrow:before {color: black;}#sk-container-id-9 div.sk-toggleable__content {max-height: 0;max-width: 0;overflow: hidden;text-align: left;background-color: #f0f8ff;}#sk-container-id-9 div.sk-toggleable__content pre {margin: 0.2em;color: black;border-radius: 0.25em;background-color: #f0f8ff;}#sk-container-id-9 input.sk-toggleable__control:checked~div.sk-toggleable__content {max-height: 200px;max-width: 100%;overflow: auto;}#sk-container-id-9 input.sk-toggleable__control:checked~label.sk-toggleable__label-arrow:before {content: \"▾\";}#sk-container-id-9 div.sk-estimator input.sk-toggleable__control:checked~label.sk-toggleable__label {background-color: #d4ebff;}#sk-container-id-9 div.sk-label input.sk-toggleable__control:checked~label.sk-toggleable__label {background-color: #d4ebff;}#sk-container-id-9 input.sk-hidden--visually {border: 0;clip: rect(1px 1px 1px 1px);clip: rect(1px, 1px, 1px, 1px);height: 1px;margin: -1px;overflow: hidden;padding: 0;position: absolute;width: 1px;}#sk-container-id-9 div.sk-estimator {font-family: monospace;background-color: #f0f8ff;border: 1px dotted black;border-radius: 0.25em;box-sizing: border-box;margin-bottom: 0.5em;}#sk-container-id-9 div.sk-estimator:hover {background-color: #d4ebff;}#sk-container-id-9 div.sk-parallel-item::after {content: \"\";width: 100%;border-bottom: 1px solid gray;flex-grow: 1;}#sk-container-id-9 div.sk-label:hover label.sk-toggleable__label {background-color: #d4ebff;}#sk-container-id-9 div.sk-serial::before {content: \"\";position: absolute;border-left: 1px solid gray;box-sizing: border-box;top: 0;bottom: 0;left: 50%;z-index: 0;}#sk-container-id-9 div.sk-serial {display: flex;flex-direction: column;align-items: center;background-color: white;padding-right: 0.2em;padding-left: 0.2em;position: relative;}#sk-container-id-9 div.sk-item {position: relative;z-index: 1;}#sk-container-id-9 div.sk-parallel {display: flex;align-items: stretch;justify-content: center;background-color: white;position: relative;}#sk-container-id-9 div.sk-item::before, #sk-container-id-9 div.sk-parallel-item::before {content: \"\";position: absolute;border-left: 1px solid gray;box-sizing: border-box;top: 0;bottom: 0;left: 50%;z-index: -1;}#sk-container-id-9 div.sk-parallel-item {display: flex;flex-direction: column;z-index: 1;position: relative;background-color: white;}#sk-container-id-9 div.sk-parallel-item:first-child::after {align-self: flex-end;width: 50%;}#sk-container-id-9 div.sk-parallel-item:last-child::after {align-self: flex-start;width: 50%;}#sk-container-id-9 div.sk-parallel-item:only-child::after {width: 0;}#sk-container-id-9 div.sk-dashed-wrapped {border: 1px dashed gray;margin: 0 0.4em 0.5em 0.4em;box-sizing: border-box;padding-bottom: 0.4em;background-color: white;}#sk-container-id-9 div.sk-label label {font-family: monospace;font-weight: bold;display: inline-block;line-height: 1.2em;}#sk-container-id-9 div.sk-label-container {text-align: center;}#sk-container-id-9 div.sk-container {/* jupyter's `normalize.less` sets `[hidden] { display: none; }` but bootstrap.min.css set `[hidden] { display: none !important; }` so we also need the `!important` here to be able to override the default hidden behavior on the sphinx rendered scikit-learn.org. See: https://github.com/scikit-learn/scikit-learn/issues/21755 */display: inline-block !important;position: relative;}#sk-container-id-9 div.sk-text-repr-fallback {display: none;}</style><div id=\"sk-container-id-9\" class=\"sk-top-container\"><div class=\"sk-text-repr-fallback\"><pre>DecisionTreeClassifier(class_weight=&#x27;balanced&#x27;, max_depth=5, random_state=42)</pre><b>In a Jupyter environment, please rerun this cell to show the HTML representation or trust the notebook. <br />On GitHub, the HTML representation is unable to render, please try loading this page with nbviewer.org.</b></div><div class=\"sk-container\" hidden><div class=\"sk-item\"><div class=\"sk-estimator sk-toggleable\"><input class=\"sk-toggleable__control sk-hidden--visually\" id=\"sk-estimator-id-9\" type=\"checkbox\" checked><label for=\"sk-estimator-id-9\" class=\"sk-toggleable__label sk-toggleable__label-arrow\">DecisionTreeClassifier</label><div class=\"sk-toggleable__content\"><pre>DecisionTreeClassifier(class_weight=&#x27;balanced&#x27;, max_depth=5, random_state=42)</pre></div></div></div></div></div>"
      ],
      "text/plain": [
       "DecisionTreeClassifier(class_weight='balanced', max_depth=5, random_state=42)"
      ]
     },
     "execution_count": 63,
     "metadata": {},
     "output_type": "execute_result"
    }
   ],
   "source": [
    "DT = DecisionTreeClassifier(max_depth=5, random_state=42, class_weight='balanced')\n",
    "DT.fit(X_train, y_train)"
   ]
  },
  {
   "attachments": {},
   "cell_type": "markdown",
   "metadata": {},
   "source": [
    "Visualising the Tree"
   ]
  },
  {
   "cell_type": "code",
   "execution_count": 64,
   "metadata": {},
   "outputs": [
    {
     "data": {
      "image/svg+xml": "<?xml version=\"1.0\" encoding=\"UTF-8\" standalone=\"no\"?>\n<!DOCTYPE svg PUBLIC \"-//W3C//DTD SVG 1.1//EN\"\n \"http://www.w3.org/Graphics/SVG/1.1/DTD/svg11.dtd\">\n<!-- Generated by graphviz version 7.1.0 (20230121.1956)\n -->\n<!-- Title: Tree Pages: 1 -->\n<svg width=\"4990pt\" height=\"671pt\"\n viewBox=\"0.00 0.00 4990.00 671.00\" xmlns=\"http://www.w3.org/2000/svg\" xmlns:xlink=\"http://www.w3.org/1999/xlink\">\n<g id=\"graph0\" class=\"graph\" transform=\"scale(1 1) rotate(0) translate(4 667)\">\n<title>Tree</title>\n<polygon fill=\"white\" stroke=\"none\" points=\"-4,4 -4,-667 4986,-667 4986,4 -4,4\"/>\n<!-- 0 -->\n<g id=\"node1\" class=\"node\">\n<title>0</title>\n<path fill=\"#ffffff\" stroke=\"black\" d=\"M2584.5,-663C2584.5,-663 2421.5,-663 2421.5,-663 2415.5,-663 2409.5,-657 2409.5,-651 2409.5,-651 2409.5,-592 2409.5,-592 2409.5,-586 2415.5,-580 2421.5,-580 2421.5,-580 2584.5,-580 2584.5,-580 2590.5,-580 2596.5,-586 2596.5,-592 2596.5,-592 2596.5,-651 2596.5,-651 2596.5,-657 2590.5,-663 2584.5,-663\"/>\n<text text-anchor=\"middle\" x=\"2503\" y=\"-647.8\" font-family=\"Helvetica,sans-Serif\" font-size=\"14.00\">nr.employed &lt;= 5087.65</text>\n<text text-anchor=\"middle\" x=\"2503\" y=\"-632.8\" font-family=\"Helvetica,sans-Serif\" font-size=\"14.00\">gini = 0.5</text>\n<text text-anchor=\"middle\" x=\"2503\" y=\"-617.8\" font-family=\"Helvetica,sans-Serif\" font-size=\"14.00\">samples = 30891</text>\n<text text-anchor=\"middle\" x=\"2503\" y=\"-602.8\" font-family=\"Helvetica,sans-Serif\" font-size=\"14.00\">value = [15445.5, 15445.5]</text>\n<text text-anchor=\"middle\" x=\"2503\" y=\"-587.8\" font-family=\"Helvetica,sans-Serif\" font-size=\"14.00\">class = Yes</text>\n</g>\n<!-- 1 -->\n<g id=\"node2\" class=\"node\">\n<title>1</title>\n<path fill=\"#58ace9\" stroke=\"black\" d=\"M2002.5,-544C2002.5,-544 1823.5,-544 1823.5,-544 1817.5,-544 1811.5,-538 1811.5,-532 1811.5,-532 1811.5,-473 1811.5,-473 1811.5,-467 1817.5,-461 1823.5,-461 1823.5,-461 2002.5,-461 2002.5,-461 2008.5,-461 2014.5,-467 2014.5,-473 2014.5,-473 2014.5,-532 2014.5,-532 2014.5,-538 2008.5,-544 2002.5,-544\"/>\n<text text-anchor=\"middle\" x=\"1913\" y=\"-528.8\" font-family=\"Helvetica,sans-Serif\" font-size=\"14.00\">poutcome &lt;= 0.5</text>\n<text text-anchor=\"middle\" x=\"1913\" y=\"-513.8\" font-family=\"Helvetica,sans-Serif\" font-size=\"14.00\">gini = 0.235</text>\n<text text-anchor=\"middle\" x=\"1913\" y=\"-498.8\" font-family=\"Helvetica,sans-Serif\" font-size=\"14.00\">samples = 3743</text>\n<text text-anchor=\"middle\" x=\"1913\" y=\"-483.8\" font-family=\"Helvetica,sans-Serif\" font-size=\"14.00\">value = [1167.261, 7406.044]</text>\n<text text-anchor=\"middle\" x=\"1913\" y=\"-468.8\" font-family=\"Helvetica,sans-Serif\" font-size=\"14.00\">class = Yes</text>\n</g>\n<!-- 0&#45;&gt;1 -->\n<g id=\"edge1\" class=\"edge\">\n<title>0&#45;&gt;1</title>\n<path fill=\"none\" stroke=\"black\" d=\"M2409.19,-601.9C2305.14,-581.26 2137.32,-547.98 2026.09,-525.93\"/>\n<polygon fill=\"black\" stroke=\"black\" points=\"2026.81,-522.5 2016.32,-523.99 2025.45,-529.37 2026.81,-522.5\"/>\n<text text-anchor=\"middle\" x=\"2028.74\" y=\"-540.77\" font-family=\"Helvetica,sans-Serif\" font-size=\"14.00\">True</text>\n</g>\n<!-- 28 -->\n<g id=\"node29\" class=\"node\">\n<title>28</title>\n<path fill=\"#f4c8a8\" stroke=\"black\" d=\"M2928,-544C2928,-544 2740,-544 2740,-544 2734,-544 2728,-538 2728,-532 2728,-532 2728,-473 2728,-473 2728,-467 2734,-461 2740,-461 2740,-461 2928,-461 2928,-461 2934,-461 2940,-467 2940,-473 2940,-473 2940,-532 2940,-532 2940,-538 2934,-544 2928,-544\"/>\n<text text-anchor=\"middle\" x=\"2834\" y=\"-528.8\" font-family=\"Helvetica,sans-Serif\" font-size=\"14.00\">cons.conf.idx &lt;= &#45;46.65</text>\n<text text-anchor=\"middle\" x=\"2834\" y=\"-513.8\" font-family=\"Helvetica,sans-Serif\" font-size=\"14.00\">gini = 0.461</text>\n<text text-anchor=\"middle\" x=\"2834\" y=\"-498.8\" font-family=\"Helvetica,sans-Serif\" font-size=\"14.00\">samples = 27148</text>\n<text text-anchor=\"middle\" x=\"2834\" y=\"-483.8\" font-family=\"Helvetica,sans-Serif\" font-size=\"14.00\">value = [14278.239, 8039.456]</text>\n<text text-anchor=\"middle\" x=\"2834\" y=\"-468.8\" font-family=\"Helvetica,sans-Serif\" font-size=\"14.00\">class = No</text>\n</g>\n<!-- 0&#45;&gt;28 -->\n<g id=\"edge28\" class=\"edge\">\n<title>0&#45;&gt;28</title>\n<path fill=\"none\" stroke=\"black\" d=\"M2596.97,-587.29C2634.26,-574.1 2677.55,-558.8 2716.85,-544.91\"/>\n<polygon fill=\"black\" stroke=\"black\" points=\"2717.87,-548.26 2726.13,-541.63 2715.53,-541.66 2717.87,-548.26\"/>\n<text text-anchor=\"middle\" x=\"2716.78\" y=\"-559.98\" font-family=\"Helvetica,sans-Serif\" font-size=\"14.00\">False</text>\n</g>\n<!-- 2 -->\n<g id=\"node3\" class=\"node\">\n<title>2</title>\n<path fill=\"#64b2eb\" stroke=\"black\" d=\"M1261.5,-425C1261.5,-425 1082.5,-425 1082.5,-425 1076.5,-425 1070.5,-419 1070.5,-413 1070.5,-413 1070.5,-354 1070.5,-354 1070.5,-348 1076.5,-342 1082.5,-342 1082.5,-342 1261.5,-342 1261.5,-342 1267.5,-342 1273.5,-348 1273.5,-354 1273.5,-354 1273.5,-413 1273.5,-413 1273.5,-419 1267.5,-425 1261.5,-425\"/>\n<text text-anchor=\"middle\" x=\"1172\" y=\"-409.8\" font-family=\"Helvetica,sans-Serif\" font-size=\"14.00\">contact_telephone &lt;= 0.5</text>\n<text text-anchor=\"middle\" x=\"1172\" y=\"-394.8\" font-family=\"Helvetica,sans-Serif\" font-size=\"14.00\">gini = 0.294</text>\n<text text-anchor=\"middle\" x=\"1172\" y=\"-379.8\" font-family=\"Helvetica,sans-Serif\" font-size=\"14.00\">samples = 2915</text>\n<text text-anchor=\"middle\" x=\"1172\" y=\"-364.8\" font-family=\"Helvetica,sans-Serif\" font-size=\"14.00\">value = [1038.192, 4752.802]</text>\n<text text-anchor=\"middle\" x=\"1172\" y=\"-349.8\" font-family=\"Helvetica,sans-Serif\" font-size=\"14.00\">class = Yes</text>\n</g>\n<!-- 1&#45;&gt;2 -->\n<g id=\"edge2\" class=\"edge\">\n<title>1&#45;&gt;2</title>\n<path fill=\"none\" stroke=\"black\" d=\"M1811.13,-485.42C1673.3,-463.65 1428.21,-424.95 1284.91,-402.33\"/>\n<polygon fill=\"black\" stroke=\"black\" points=\"1285.84,-398.93 1275.41,-400.83 1284.74,-405.85 1285.84,-398.93\"/>\n</g>\n<!-- 17 -->\n<g id=\"node18\" class=\"node\">\n<title>17</title>\n<path fill=\"#43a2e6\" stroke=\"black\" d=\"M1998.5,-425C1998.5,-425 1827.5,-425 1827.5,-425 1821.5,-425 1815.5,-419 1815.5,-413 1815.5,-413 1815.5,-354 1815.5,-354 1815.5,-348 1821.5,-342 1827.5,-342 1827.5,-342 1998.5,-342 1998.5,-342 2004.5,-342 2010.5,-348 2010.5,-354 2010.5,-354 2010.5,-413 2010.5,-413 2010.5,-419 2004.5,-425 1998.5,-425\"/>\n<text text-anchor=\"middle\" x=\"1913\" y=\"-409.8\" font-family=\"Helvetica,sans-Serif\" font-size=\"14.00\">day_of_week_mon &lt;= 0.5</text>\n<text text-anchor=\"middle\" x=\"1913\" y=\"-394.8\" font-family=\"Helvetica,sans-Serif\" font-size=\"14.00\">gini = 0.088</text>\n<text text-anchor=\"middle\" x=\"1913\" y=\"-379.8\" font-family=\"Helvetica,sans-Serif\" font-size=\"14.00\">samples = 828</text>\n<text text-anchor=\"middle\" x=\"1913\" y=\"-364.8\" font-family=\"Helvetica,sans-Serif\" font-size=\"14.00\">value = [129.069, 2653.242]</text>\n<text text-anchor=\"middle\" x=\"1913\" y=\"-349.8\" font-family=\"Helvetica,sans-Serif\" font-size=\"14.00\">class = Yes</text>\n</g>\n<!-- 1&#45;&gt;17 -->\n<g id=\"edge17\" class=\"edge\">\n<title>1&#45;&gt;17</title>\n<path fill=\"none\" stroke=\"black\" d=\"M1913,-460.58C1913,-452.79 1913,-444.53 1913,-436.45\"/>\n<polygon fill=\"black\" stroke=\"black\" points=\"1916.5,-436.71 1913,-426.71 1909.5,-436.71 1916.5,-436.71\"/>\n</g>\n<!-- 3 -->\n<g id=\"node4\" class=\"node\">\n<title>3</title>\n<path fill=\"#5fb0ea\" stroke=\"black\" d=\"M664.5,-306C664.5,-306 493.5,-306 493.5,-306 487.5,-306 481.5,-300 481.5,-294 481.5,-294 481.5,-235 481.5,-235 481.5,-229 487.5,-223 493.5,-223 493.5,-223 664.5,-223 664.5,-223 670.5,-223 676.5,-229 676.5,-235 676.5,-235 676.5,-294 676.5,-294 676.5,-300 670.5,-306 664.5,-306\"/>\n<text text-anchor=\"middle\" x=\"579\" y=\"-290.8\" font-family=\"Helvetica,sans-Serif\" font-size=\"14.00\">cons.price.idx &lt;= 92.405</text>\n<text text-anchor=\"middle\" x=\"579\" y=\"-275.8\" font-family=\"Helvetica,sans-Serif\" font-size=\"14.00\">gini = 0.271</text>\n<text text-anchor=\"middle\" x=\"579\" y=\"-260.8\" font-family=\"Helvetica,sans-Serif\" font-size=\"14.00\">samples = 2465</text>\n<text text-anchor=\"middle\" x=\"579\" y=\"-245.8\" font-family=\"Helvetica,sans-Serif\" font-size=\"14.00\">value = [836.415, 4345.293]</text>\n<text text-anchor=\"middle\" x=\"579\" y=\"-230.8\" font-family=\"Helvetica,sans-Serif\" font-size=\"14.00\">class = Yes</text>\n</g>\n<!-- 2&#45;&gt;3 -->\n<g id=\"edge3\" class=\"edge\">\n<title>2&#45;&gt;3</title>\n<path fill=\"none\" stroke=\"black\" d=\"M1070.06,-362.39C963.45,-341.35 796.75,-308.46 687.69,-286.94\"/>\n<polygon fill=\"black\" stroke=\"black\" points=\"688.63,-283.56 678.14,-285.06 687.28,-290.43 688.63,-283.56\"/>\n</g>\n<!-- 10 -->\n<g id=\"node11\" class=\"node\">\n<title>10</title>\n<path fill=\"#9bcef2\" stroke=\"black\" d=\"M1249.5,-306C1249.5,-306 1094.5,-306 1094.5,-306 1088.5,-306 1082.5,-300 1082.5,-294 1082.5,-294 1082.5,-235 1082.5,-235 1082.5,-229 1088.5,-223 1094.5,-223 1094.5,-223 1249.5,-223 1249.5,-223 1255.5,-223 1261.5,-229 1261.5,-235 1261.5,-235 1261.5,-294 1261.5,-294 1261.5,-300 1255.5,-306 1249.5,-306\"/>\n<text text-anchor=\"middle\" x=\"1172\" y=\"-290.8\" font-family=\"Helvetica,sans-Serif\" font-size=\"14.00\">cons.conf.idx &lt;= &#45;36.15</text>\n<text text-anchor=\"middle\" x=\"1172\" y=\"-275.8\" font-family=\"Helvetica,sans-Serif\" font-size=\"14.00\">gini = 0.443</text>\n<text text-anchor=\"middle\" x=\"1172\" y=\"-260.8\" font-family=\"Helvetica,sans-Serif\" font-size=\"14.00\">samples = 450</text>\n<text text-anchor=\"middle\" x=\"1172\" y=\"-245.8\" font-family=\"Helvetica,sans-Serif\" font-size=\"14.00\">value = [201.777, 407.51]</text>\n<text text-anchor=\"middle\" x=\"1172\" y=\"-230.8\" font-family=\"Helvetica,sans-Serif\" font-size=\"14.00\">class = Yes</text>\n</g>\n<!-- 2&#45;&gt;10 -->\n<g id=\"edge10\" class=\"edge\">\n<title>2&#45;&gt;10</title>\n<path fill=\"none\" stroke=\"black\" d=\"M1172,-341.58C1172,-333.79 1172,-325.53 1172,-317.45\"/>\n<polygon fill=\"black\" stroke=\"black\" points=\"1175.5,-317.71 1172,-307.71 1168.5,-317.71 1175.5,-317.71\"/>\n</g>\n<!-- 4 -->\n<g id=\"node5\" class=\"node\">\n<title>4</title>\n<path fill=\"#73baed\" stroke=\"black\" d=\"M347.5,-187C347.5,-187 184.5,-187 184.5,-187 178.5,-187 172.5,-181 172.5,-175 172.5,-175 172.5,-116 172.5,-116 172.5,-110 178.5,-104 184.5,-104 184.5,-104 347.5,-104 347.5,-104 353.5,-104 359.5,-110 359.5,-116 359.5,-116 359.5,-175 359.5,-175 359.5,-181 353.5,-187 347.5,-187\"/>\n<text text-anchor=\"middle\" x=\"266\" y=\"-171.8\" font-family=\"Helvetica,sans-Serif\" font-size=\"14.00\">euribor3m &lt;= 0.75</text>\n<text text-anchor=\"middle\" x=\"266\" y=\"-156.8\" font-family=\"Helvetica,sans-Serif\" font-size=\"14.00\">gini = 0.35</text>\n<text text-anchor=\"middle\" x=\"266\" y=\"-141.8\" font-family=\"Helvetica,sans-Serif\" font-size=\"14.00\">samples = 574</text>\n<text text-anchor=\"middle\" x=\"266\" y=\"-126.8\" font-family=\"Helvetica,sans-Serif\" font-size=\"14.00\">value = [225.449, 770.725]</text>\n<text text-anchor=\"middle\" x=\"266\" y=\"-111.8\" font-family=\"Helvetica,sans-Serif\" font-size=\"14.00\">class = Yes</text>\n</g>\n<!-- 3&#45;&gt;4 -->\n<g id=\"edge4\" class=\"edge\">\n<title>3&#45;&gt;4</title>\n<path fill=\"none\" stroke=\"black\" d=\"M481.25,-226.96C445.99,-213.78 406.07,-198.86 370.27,-185.48\"/>\n<polygon fill=\"black\" stroke=\"black\" points=\"371.81,-182.31 361.22,-182.09 369.36,-188.87 371.81,-182.31\"/>\n</g>\n<!-- 7 -->\n<g id=\"node8\" class=\"node\">\n<title>7</title>\n<path fill=\"#5baee9\" stroke=\"black\" d=\"M664.5,-187C664.5,-187 493.5,-187 493.5,-187 487.5,-187 481.5,-181 481.5,-175 481.5,-175 481.5,-116 481.5,-116 481.5,-110 487.5,-104 493.5,-104 493.5,-104 664.5,-104 664.5,-104 670.5,-104 676.5,-110 676.5,-116 676.5,-116 676.5,-175 676.5,-175 676.5,-181 670.5,-187 664.5,-187\"/>\n<text text-anchor=\"middle\" x=\"579\" y=\"-171.8\" font-family=\"Helvetica,sans-Serif\" font-size=\"14.00\">previous &lt;= 0.5</text>\n<text text-anchor=\"middle\" x=\"579\" y=\"-156.8\" font-family=\"Helvetica,sans-Serif\" font-size=\"14.00\">gini = 0.249</text>\n<text text-anchor=\"middle\" x=\"579\" y=\"-141.8\" font-family=\"Helvetica,sans-Serif\" font-size=\"14.00\">samples = 1891</text>\n<text text-anchor=\"middle\" x=\"579\" y=\"-126.8\" font-family=\"Helvetica,sans-Serif\" font-size=\"14.00\">value = [610.966, 3574.568]</text>\n<text text-anchor=\"middle\" x=\"579\" y=\"-111.8\" font-family=\"Helvetica,sans-Serif\" font-size=\"14.00\">class = Yes</text>\n</g>\n<!-- 3&#45;&gt;7 -->\n<g id=\"edge7\" class=\"edge\">\n<title>3&#45;&gt;7</title>\n<path fill=\"none\" stroke=\"black\" d=\"M579,-222.58C579,-214.79 579,-206.53 579,-198.45\"/>\n<polygon fill=\"black\" stroke=\"black\" points=\"582.5,-198.71 579,-188.71 575.5,-198.71 582.5,-198.71\"/>\n</g>\n<!-- 5 -->\n<g id=\"node6\" class=\"node\">\n<title>5</title>\n<path fill=\"#f6d4bb\" stroke=\"black\" d=\"M142,-68C142,-68 12,-68 12,-68 6,-68 0,-62 0,-56 0,-56 0,-12 0,-12 0,-6 6,0 12,0 12,0 142,0 142,0 148,0 154,-6 154,-12 154,-12 154,-56 154,-56 154,-62 148,-68 142,-68\"/>\n<text text-anchor=\"middle\" x=\"77\" y=\"-52.8\" font-family=\"Helvetica,sans-Serif\" font-size=\"14.00\">gini = 0.478</text>\n<text text-anchor=\"middle\" x=\"77\" y=\"-37.8\" font-family=\"Helvetica,sans-Serif\" font-size=\"14.00\">samples = 13</text>\n<text text-anchor=\"middle\" x=\"77\" y=\"-22.8\" font-family=\"Helvetica,sans-Serif\" font-size=\"14.00\">value = [6.763, 4.429]</text>\n<text text-anchor=\"middle\" x=\"77\" y=\"-7.8\" font-family=\"Helvetica,sans-Serif\" font-size=\"14.00\">class = No</text>\n</g>\n<!-- 4&#45;&gt;5 -->\n<g id=\"edge5\" class=\"edge\">\n<title>4&#45;&gt;5</title>\n<path fill=\"none\" stroke=\"black\" d=\"M195.35,-103.57C178.61,-93.87 160.8,-83.55 144.22,-73.95\"/>\n<polygon fill=\"black\" stroke=\"black\" points=\"146.33,-71.12 135.93,-69.14 142.82,-77.18 146.33,-71.12\"/>\n</g>\n<!-- 6 -->\n<g id=\"node7\" class=\"node\">\n<title>6</title>\n<path fill=\"#72b9ec\" stroke=\"black\" d=\"M347.5,-68C347.5,-68 184.5,-68 184.5,-68 178.5,-68 172.5,-62 172.5,-56 172.5,-56 172.5,-12 172.5,-12 172.5,-6 178.5,0 184.5,0 184.5,0 347.5,0 347.5,0 353.5,0 359.5,-6 359.5,-12 359.5,-12 359.5,-56 359.5,-56 359.5,-62 353.5,-68 347.5,-68\"/>\n<text text-anchor=\"middle\" x=\"266\" y=\"-52.8\" font-family=\"Helvetica,sans-Serif\" font-size=\"14.00\">gini = 0.345</text>\n<text text-anchor=\"middle\" x=\"266\" y=\"-37.8\" font-family=\"Helvetica,sans-Serif\" font-size=\"14.00\">samples = 561</text>\n<text text-anchor=\"middle\" x=\"266\" y=\"-22.8\" font-family=\"Helvetica,sans-Serif\" font-size=\"14.00\">value = [218.685, 766.295]</text>\n<text text-anchor=\"middle\" x=\"266\" y=\"-7.8\" font-family=\"Helvetica,sans-Serif\" font-size=\"14.00\">class = Yes</text>\n</g>\n<!-- 4&#45;&gt;6 -->\n<g id=\"edge6\" class=\"edge\">\n<title>4&#45;&gt;6</title>\n<path fill=\"none\" stroke=\"black\" d=\"M266,-103.73C266,-95.88 266,-87.63 266,-79.67\"/>\n<polygon fill=\"black\" stroke=\"black\" points=\"269.5,-79.81 266,-69.81 262.5,-79.81 269.5,-79.81\"/>\n</g>\n<!-- 8 -->\n<g id=\"node9\" class=\"node\">\n<title>8</title>\n<path fill=\"#56ace9\" stroke=\"black\" d=\"M560.5,-68C560.5,-68 389.5,-68 389.5,-68 383.5,-68 377.5,-62 377.5,-56 377.5,-56 377.5,-12 377.5,-12 377.5,-6 383.5,0 389.5,0 389.5,0 560.5,0 560.5,0 566.5,0 572.5,-6 572.5,-12 572.5,-12 572.5,-56 572.5,-56 572.5,-62 566.5,-68 560.5,-68\"/>\n<text text-anchor=\"middle\" x=\"475\" y=\"-52.8\" font-family=\"Helvetica,sans-Serif\" font-size=\"14.00\">gini = 0.225</text>\n<text text-anchor=\"middle\" x=\"475\" y=\"-37.8\" font-family=\"Helvetica,sans-Serif\" font-size=\"14.00\">samples = 1232</text>\n<text text-anchor=\"middle\" x=\"475\" y=\"-22.8\" font-family=\"Helvetica,sans-Serif\" font-size=\"14.00\">value = [373.681, 2520.358]</text>\n<text text-anchor=\"middle\" x=\"475\" y=\"-7.8\" font-family=\"Helvetica,sans-Serif\" font-size=\"14.00\">class = Yes</text>\n</g>\n<!-- 7&#45;&gt;8 -->\n<g id=\"edge8\" class=\"edge\">\n<title>7&#45;&gt;8</title>\n<path fill=\"none\" stroke=\"black\" d=\"M540.27,-103.73C531.87,-94.88 522.97,-85.51 514.54,-76.63\"/>\n<polygon fill=\"black\" stroke=\"black\" points=\"517.09,-74.24 507.67,-69.4 512.02,-79.06 517.09,-74.24\"/>\n</g>\n<!-- 9 -->\n<g id=\"node10\" class=\"node\">\n<title>9</title>\n<path fill=\"#66b3eb\" stroke=\"black\" d=\"M765.5,-68C765.5,-68 602.5,-68 602.5,-68 596.5,-68 590.5,-62 590.5,-56 590.5,-56 590.5,-12 590.5,-12 590.5,-6 596.5,0 602.5,0 602.5,0 765.5,0 765.5,0 771.5,0 777.5,-6 777.5,-12 777.5,-12 777.5,-56 777.5,-56 777.5,-62 771.5,-68 765.5,-68\"/>\n<text text-anchor=\"middle\" x=\"684\" y=\"-52.8\" font-family=\"Helvetica,sans-Serif\" font-size=\"14.00\">gini = 0.3</text>\n<text text-anchor=\"middle\" x=\"684\" y=\"-37.8\" font-family=\"Helvetica,sans-Serif\" font-size=\"14.00\">samples = 659</text>\n<text text-anchor=\"middle\" x=\"684\" y=\"-22.8\" font-family=\"Helvetica,sans-Serif\" font-size=\"14.00\">value = [237.285, 1054.21]</text>\n<text text-anchor=\"middle\" x=\"684\" y=\"-7.8\" font-family=\"Helvetica,sans-Serif\" font-size=\"14.00\">class = Yes</text>\n</g>\n<!-- 7&#45;&gt;9 -->\n<g id=\"edge9\" class=\"edge\">\n<title>7&#45;&gt;9</title>\n<path fill=\"none\" stroke=\"black\" d=\"M618.1,-103.73C626.67,-94.79 635.75,-85.32 644.34,-76.36\"/>\n<polygon fill=\"black\" stroke=\"black\" points=\"646.63,-79.03 651.02,-69.39 641.57,-74.19 646.63,-79.03\"/>\n</g>\n<!-- 11 -->\n<g id=\"node12\" class=\"node\">\n<title>11</title>\n<path fill=\"#ddeefb\" stroke=\"black\" d=\"M1153.5,-187C1153.5,-187 990.5,-187 990.5,-187 984.5,-187 978.5,-181 978.5,-175 978.5,-175 978.5,-116 978.5,-116 978.5,-110 984.5,-104 990.5,-104 990.5,-104 1153.5,-104 1153.5,-104 1159.5,-104 1165.5,-110 1165.5,-116 1165.5,-116 1165.5,-175 1165.5,-175 1165.5,-181 1159.5,-187 1153.5,-187\"/>\n<text text-anchor=\"middle\" x=\"1072\" y=\"-171.8\" font-family=\"Helvetica,sans-Serif\" font-size=\"14.00\">marital_married &lt;= 0.5</text>\n<text text-anchor=\"middle\" x=\"1072\" y=\"-156.8\" font-family=\"Helvetica,sans-Serif\" font-size=\"14.00\">gini = 0.496</text>\n<text text-anchor=\"middle\" x=\"1072\" y=\"-141.8\" font-family=\"Helvetica,sans-Serif\" font-size=\"14.00\">samples = 248</text>\n<text text-anchor=\"middle\" x=\"1072\" y=\"-126.8\" font-family=\"Helvetica,sans-Serif\" font-size=\"14.00\">value = [121.179, 146.172]</text>\n<text text-anchor=\"middle\" x=\"1072\" y=\"-111.8\" font-family=\"Helvetica,sans-Serif\" font-size=\"14.00\">class = Yes</text>\n</g>\n<!-- 10&#45;&gt;11 -->\n<g id=\"edge11\" class=\"edge\">\n<title>10&#45;&gt;11</title>\n<path fill=\"none\" stroke=\"black\" d=\"M1137.02,-222.58C1129.67,-213.98 1121.85,-204.82 1114.26,-195.95\"/>\n<polygon fill=\"black\" stroke=\"black\" points=\"1116.93,-193.68 1107.77,-188.35 1111.61,-198.23 1116.93,-193.68\"/>\n</g>\n<!-- 14 -->\n<g id=\"node15\" class=\"node\">\n<title>14</title>\n<path fill=\"#76bbed\" stroke=\"black\" d=\"M1350.5,-187C1350.5,-187 1195.5,-187 1195.5,-187 1189.5,-187 1183.5,-181 1183.5,-175 1183.5,-175 1183.5,-116 1183.5,-116 1183.5,-110 1189.5,-104 1195.5,-104 1195.5,-104 1350.5,-104 1350.5,-104 1356.5,-104 1362.5,-110 1362.5,-116 1362.5,-116 1362.5,-175 1362.5,-175 1362.5,-181 1356.5,-187 1350.5,-187\"/>\n<text text-anchor=\"middle\" x=\"1273\" y=\"-171.8\" font-family=\"Helvetica,sans-Serif\" font-size=\"14.00\">job_student &lt;= 0.5</text>\n<text text-anchor=\"middle\" x=\"1273\" y=\"-156.8\" font-family=\"Helvetica,sans-Serif\" font-size=\"14.00\">gini = 0.36</text>\n<text text-anchor=\"middle\" x=\"1273\" y=\"-141.8\" font-family=\"Helvetica,sans-Serif\" font-size=\"14.00\">samples = 202</text>\n<text text-anchor=\"middle\" x=\"1273\" y=\"-126.8\" font-family=\"Helvetica,sans-Serif\" font-size=\"14.00\">value = [80.598, 261.338]</text>\n<text text-anchor=\"middle\" x=\"1273\" y=\"-111.8\" font-family=\"Helvetica,sans-Serif\" font-size=\"14.00\">class = Yes</text>\n</g>\n<!-- 10&#45;&gt;14 -->\n<g id=\"edge14\" class=\"edge\">\n<title>10&#45;&gt;14</title>\n<path fill=\"none\" stroke=\"black\" d=\"M1207.32,-222.58C1214.83,-213.89 1222.82,-204.63 1230.55,-195.67\"/>\n<polygon fill=\"black\" stroke=\"black\" points=\"1232.99,-198.2 1236.88,-188.35 1227.69,-193.63 1232.99,-198.2\"/>\n</g>\n<!-- 12 -->\n<g id=\"node13\" class=\"node\">\n<title>12</title>\n<path fill=\"#f3c7a6\" stroke=\"black\" d=\"M954,-68C954,-68 808,-68 808,-68 802,-68 796,-62 796,-56 796,-56 796,-12 796,-12 796,-6 802,0 808,0 808,0 954,0 954,0 960,0 966,-6 966,-12 966,-12 966,-56 966,-56 966,-62 960,-68 954,-68\"/>\n<text text-anchor=\"middle\" x=\"881\" y=\"-52.8\" font-family=\"Helvetica,sans-Serif\" font-size=\"14.00\">gini = 0.458</text>\n<text text-anchor=\"middle\" x=\"881\" y=\"-37.8\" font-family=\"Helvetica,sans-Serif\" font-size=\"14.00\">samples = 137</text>\n<text text-anchor=\"middle\" x=\"881\" y=\"-22.8\" font-family=\"Helvetica,sans-Serif\" font-size=\"14.00\">value = [72.144, 39.865]</text>\n<text text-anchor=\"middle\" x=\"881\" y=\"-7.8\" font-family=\"Helvetica,sans-Serif\" font-size=\"14.00\">class = No</text>\n</g>\n<!-- 11&#45;&gt;12 -->\n<g id=\"edge12\" class=\"edge\">\n<title>11&#45;&gt;12</title>\n<path fill=\"none\" stroke=\"black\" d=\"M1000.61,-103.57C983.69,-93.87 965.69,-83.55 948.93,-73.95\"/>\n<polygon fill=\"black\" stroke=\"black\" points=\"950.96,-71.07 940.54,-69.13 947.47,-77.14 950.96,-71.07\"/>\n</g>\n<!-- 13 -->\n<g id=\"node14\" class=\"node\">\n<title>13</title>\n<path fill=\"#94caf1\" stroke=\"black\" d=\"M1151.5,-68C1151.5,-68 996.5,-68 996.5,-68 990.5,-68 984.5,-62 984.5,-56 984.5,-56 984.5,-12 984.5,-12 984.5,-6 990.5,0 996.5,0 996.5,0 1151.5,0 1151.5,0 1157.5,0 1163.5,-6 1163.5,-12 1163.5,-12 1163.5,-56 1163.5,-56 1163.5,-62 1157.5,-68 1151.5,-68\"/>\n<text text-anchor=\"middle\" x=\"1074\" y=\"-52.8\" font-family=\"Helvetica,sans-Serif\" font-size=\"14.00\">gini = 0.432</text>\n<text text-anchor=\"middle\" x=\"1074\" y=\"-37.8\" font-family=\"Helvetica,sans-Serif\" font-size=\"14.00\">samples = 111</text>\n<text text-anchor=\"middle\" x=\"1074\" y=\"-22.8\" font-family=\"Helvetica,sans-Serif\" font-size=\"14.00\">value = [49.035, 106.307]</text>\n<text text-anchor=\"middle\" x=\"1074\" y=\"-7.8\" font-family=\"Helvetica,sans-Serif\" font-size=\"14.00\">class = Yes</text>\n</g>\n<!-- 11&#45;&gt;13 -->\n<g id=\"edge13\" class=\"edge\">\n<title>11&#45;&gt;13</title>\n<path fill=\"none\" stroke=\"black\" d=\"M1072.74,-103.73C1072.89,-95.88 1073.04,-87.63 1073.18,-79.67\"/>\n<polygon fill=\"black\" stroke=\"black\" points=\"1076.68,-79.88 1073.36,-69.81 1069.68,-79.75 1076.68,-79.88\"/>\n</g>\n<!-- 15 -->\n<g id=\"node16\" class=\"node\">\n<title>15</title>\n<path fill=\"#70b8ec\" stroke=\"black\" d=\"M1348.5,-68C1348.5,-68 1193.5,-68 1193.5,-68 1187.5,-68 1181.5,-62 1181.5,-56 1181.5,-56 1181.5,-12 1181.5,-12 1181.5,-6 1187.5,0 1193.5,0 1193.5,0 1348.5,0 1348.5,0 1354.5,0 1360.5,-6 1360.5,-12 1360.5,-12 1360.5,-56 1360.5,-56 1360.5,-62 1354.5,-68 1348.5,-68\"/>\n<text text-anchor=\"middle\" x=\"1271\" y=\"-52.8\" font-family=\"Helvetica,sans-Serif\" font-size=\"14.00\">gini = 0.341</text>\n<text text-anchor=\"middle\" x=\"1271\" y=\"-37.8\" font-family=\"Helvetica,sans-Serif\" font-size=\"14.00\">samples = 188</text>\n<text text-anchor=\"middle\" x=\"1271\" y=\"-22.8\" font-family=\"Helvetica,sans-Serif\" font-size=\"14.00\">value = [72.707, 261.338]</text>\n<text text-anchor=\"middle\" x=\"1271\" y=\"-7.8\" font-family=\"Helvetica,sans-Serif\" font-size=\"14.00\">class = Yes</text>\n</g>\n<!-- 14&#45;&gt;15 -->\n<g id=\"edge15\" class=\"edge\">\n<title>14&#45;&gt;15</title>\n<path fill=\"none\" stroke=\"black\" d=\"M1272.26,-103.73C1272.11,-95.88 1271.96,-87.63 1271.82,-79.67\"/>\n<polygon fill=\"black\" stroke=\"black\" points=\"1275.32,-79.75 1271.64,-69.81 1268.32,-79.88 1275.32,-79.75\"/>\n</g>\n<!-- 16 -->\n<g id=\"node17\" class=\"node\">\n<title>16</title>\n<path fill=\"#e58139\" stroke=\"black\" d=\"M1503.5,-68C1503.5,-68 1390.5,-68 1390.5,-68 1384.5,-68 1378.5,-62 1378.5,-56 1378.5,-56 1378.5,-12 1378.5,-12 1378.5,-6 1384.5,0 1390.5,0 1390.5,0 1503.5,0 1503.5,0 1509.5,0 1515.5,-6 1515.5,-12 1515.5,-12 1515.5,-56 1515.5,-56 1515.5,-62 1509.5,-68 1503.5,-68\"/>\n<text text-anchor=\"middle\" x=\"1447\" y=\"-52.8\" font-family=\"Helvetica,sans-Serif\" font-size=\"14.00\">gini = 0.0</text>\n<text text-anchor=\"middle\" x=\"1447\" y=\"-37.8\" font-family=\"Helvetica,sans-Serif\" font-size=\"14.00\">samples = 14</text>\n<text text-anchor=\"middle\" x=\"1447\" y=\"-22.8\" font-family=\"Helvetica,sans-Serif\" font-size=\"14.00\">value = [7.891, 0.0]</text>\n<text text-anchor=\"middle\" x=\"1447\" y=\"-7.8\" font-family=\"Helvetica,sans-Serif\" font-size=\"14.00\">class = No</text>\n</g>\n<!-- 14&#45;&gt;16 -->\n<g id=\"edge16\" class=\"edge\">\n<title>14&#45;&gt;16</title>\n<path fill=\"none\" stroke=\"black\" d=\"M1337.79,-103.73C1352.93,-94.2 1369.03,-84.07 1384.09,-74.59\"/>\n<polygon fill=\"black\" stroke=\"black\" points=\"1385.93,-77.57 1392.53,-69.28 1382.2,-71.64 1385.93,-77.57\"/>\n</g>\n<!-- 18 -->\n<g id=\"node19\" class=\"node\">\n<title>18</title>\n<path fill=\"#41a1e6\" stroke=\"black\" d=\"M1894.5,-306C1894.5,-306 1731.5,-306 1731.5,-306 1725.5,-306 1719.5,-300 1719.5,-294 1719.5,-294 1719.5,-235 1719.5,-235 1719.5,-229 1725.5,-223 1731.5,-223 1731.5,-223 1894.5,-223 1894.5,-223 1900.5,-223 1906.5,-229 1906.5,-235 1906.5,-235 1906.5,-294 1906.5,-294 1906.5,-300 1900.5,-306 1894.5,-306\"/>\n<text text-anchor=\"middle\" x=\"1813\" y=\"-290.8\" font-family=\"Helvetica,sans-Serif\" font-size=\"14.00\">previous &lt;= 6.5</text>\n<text text-anchor=\"middle\" x=\"1813\" y=\"-275.8\" font-family=\"Helvetica,sans-Serif\" font-size=\"14.00\">gini = 0.073</text>\n<text text-anchor=\"middle\" x=\"1813\" y=\"-260.8\" font-family=\"Helvetica,sans-Serif\" font-size=\"14.00\">samples = 655</text>\n<text text-anchor=\"middle\" x=\"1813\" y=\"-245.8\" font-family=\"Helvetica,sans-Serif\" font-size=\"14.00\">value = [87.361, 2214.726]</text>\n<text text-anchor=\"middle\" x=\"1813\" y=\"-230.8\" font-family=\"Helvetica,sans-Serif\" font-size=\"14.00\">class = Yes</text>\n</g>\n<!-- 17&#45;&gt;18 -->\n<g id=\"edge18\" class=\"edge\">\n<title>17&#45;&gt;18</title>\n<path fill=\"none\" stroke=\"black\" d=\"M1878.02,-341.58C1870.67,-332.98 1862.85,-323.82 1855.26,-314.95\"/>\n<polygon fill=\"black\" stroke=\"black\" points=\"1857.93,-312.68 1848.77,-307.35 1852.61,-317.23 1857.93,-312.68\"/>\n</g>\n<!-- 23 -->\n<g id=\"node24\" class=\"node\">\n<title>23</title>\n<path fill=\"#4ca6e7\" stroke=\"black\" d=\"M2091.5,-306C2091.5,-306 1936.5,-306 1936.5,-306 1930.5,-306 1924.5,-300 1924.5,-294 1924.5,-294 1924.5,-235 1924.5,-235 1924.5,-229 1930.5,-223 1936.5,-223 1936.5,-223 2091.5,-223 2091.5,-223 2097.5,-223 2103.5,-229 2103.5,-235 2103.5,-235 2103.5,-294 2103.5,-294 2103.5,-300 2097.5,-306 2091.5,-306\"/>\n<text text-anchor=\"middle\" x=\"2014\" y=\"-290.8\" font-family=\"Helvetica,sans-Serif\" font-size=\"14.00\">age &lt;= 21.5</text>\n<text text-anchor=\"middle\" x=\"2014\" y=\"-275.8\" font-family=\"Helvetica,sans-Serif\" font-size=\"14.00\">gini = 0.159</text>\n<text text-anchor=\"middle\" x=\"2014\" y=\"-260.8\" font-family=\"Helvetica,sans-Serif\" font-size=\"14.00\">samples = 173</text>\n<text text-anchor=\"middle\" x=\"2014\" y=\"-245.8\" font-family=\"Helvetica,sans-Serif\" font-size=\"14.00\">value = [41.708, 438.516]</text>\n<text text-anchor=\"middle\" x=\"2014\" y=\"-230.8\" font-family=\"Helvetica,sans-Serif\" font-size=\"14.00\">class = Yes</text>\n</g>\n<!-- 17&#45;&gt;23 -->\n<g id=\"edge23\" class=\"edge\">\n<title>17&#45;&gt;23</title>\n<path fill=\"none\" stroke=\"black\" d=\"M1948.32,-341.58C1955.83,-332.89 1963.82,-323.63 1971.55,-314.67\"/>\n<polygon fill=\"black\" stroke=\"black\" points=\"1973.99,-317.2 1977.88,-307.35 1968.69,-312.63 1973.99,-317.2\"/>\n</g>\n<!-- 19 -->\n<g id=\"node20\" class=\"node\">\n<title>19</title>\n<path fill=\"#41a1e6\" stroke=\"black\" d=\"M1726.5,-187C1726.5,-187 1563.5,-187 1563.5,-187 1557.5,-187 1551.5,-181 1551.5,-175 1551.5,-175 1551.5,-116 1551.5,-116 1551.5,-110 1557.5,-104 1563.5,-104 1563.5,-104 1726.5,-104 1726.5,-104 1732.5,-104 1738.5,-110 1738.5,-116 1738.5,-116 1738.5,-175 1738.5,-175 1738.5,-181 1732.5,-187 1726.5,-187\"/>\n<text text-anchor=\"middle\" x=\"1645\" y=\"-171.8\" font-family=\"Helvetica,sans-Serif\" font-size=\"14.00\">cons.price.idx &lt;= 92.559</text>\n<text text-anchor=\"middle\" x=\"1645\" y=\"-156.8\" font-family=\"Helvetica,sans-Serif\" font-size=\"14.00\">gini = 0.073</text>\n<text text-anchor=\"middle\" x=\"1645\" y=\"-141.8\" font-family=\"Helvetica,sans-Serif\" font-size=\"14.00\">samples = 654</text>\n<text text-anchor=\"middle\" x=\"1645\" y=\"-126.8\" font-family=\"Helvetica,sans-Serif\" font-size=\"14.00\">value = [86.798, 2214.726]</text>\n<text text-anchor=\"middle\" x=\"1645\" y=\"-111.8\" font-family=\"Helvetica,sans-Serif\" font-size=\"14.00\">class = Yes</text>\n</g>\n<!-- 18&#45;&gt;19 -->\n<g id=\"edge19\" class=\"edge\">\n<title>18&#45;&gt;19</title>\n<path fill=\"none\" stroke=\"black\" d=\"M1754.24,-222.58C1740.94,-213.32 1726.71,-203.41 1713.06,-193.9\"/>\n<polygon fill=\"black\" stroke=\"black\" points=\"1715.17,-191.11 1704.97,-188.26 1711.17,-196.85 1715.17,-191.11\"/>\n</g>\n<!-- 22 -->\n<g id=\"node23\" class=\"node\">\n<title>22</title>\n<path fill=\"#e58139\" stroke=\"black\" d=\"M1881.5,-179.5C1881.5,-179.5 1768.5,-179.5 1768.5,-179.5 1762.5,-179.5 1756.5,-173.5 1756.5,-167.5 1756.5,-167.5 1756.5,-123.5 1756.5,-123.5 1756.5,-117.5 1762.5,-111.5 1768.5,-111.5 1768.5,-111.5 1881.5,-111.5 1881.5,-111.5 1887.5,-111.5 1893.5,-117.5 1893.5,-123.5 1893.5,-123.5 1893.5,-167.5 1893.5,-167.5 1893.5,-173.5 1887.5,-179.5 1881.5,-179.5\"/>\n<text text-anchor=\"middle\" x=\"1825\" y=\"-164.3\" font-family=\"Helvetica,sans-Serif\" font-size=\"14.00\">gini = &#45;0.0</text>\n<text text-anchor=\"middle\" x=\"1825\" y=\"-149.3\" font-family=\"Helvetica,sans-Serif\" font-size=\"14.00\">samples = 1</text>\n<text text-anchor=\"middle\" x=\"1825\" y=\"-134.3\" font-family=\"Helvetica,sans-Serif\" font-size=\"14.00\">value = [0.564, 0.0]</text>\n<text text-anchor=\"middle\" x=\"1825\" y=\"-119.3\" font-family=\"Helvetica,sans-Serif\" font-size=\"14.00\">class = No</text>\n</g>\n<!-- 18&#45;&gt;22 -->\n<g id=\"edge22\" class=\"edge\">\n<title>18&#45;&gt;22</title>\n<path fill=\"none\" stroke=\"black\" d=\"M1817.2,-222.58C1818.24,-212.43 1819.36,-201.5 1820.42,-191.18\"/>\n<polygon fill=\"black\" stroke=\"black\" points=\"1823.89,-191.67 1821.42,-181.37 1816.92,-190.96 1823.89,-191.67\"/>\n</g>\n<!-- 20 -->\n<g id=\"node21\" class=\"node\">\n<title>20</title>\n<path fill=\"#45a3e7\" stroke=\"black\" d=\"M1700.5,-68C1700.5,-68 1545.5,-68 1545.5,-68 1539.5,-68 1533.5,-62 1533.5,-56 1533.5,-56 1533.5,-12 1533.5,-12 1533.5,-6 1539.5,0 1545.5,0 1545.5,0 1700.5,0 1700.5,0 1706.5,0 1712.5,-6 1712.5,-12 1712.5,-12 1712.5,-56 1712.5,-56 1712.5,-62 1706.5,-68 1700.5,-68\"/>\n<text text-anchor=\"middle\" x=\"1623\" y=\"-52.8\" font-family=\"Helvetica,sans-Serif\" font-size=\"14.00\">gini = 0.108</text>\n<text text-anchor=\"middle\" x=\"1623\" y=\"-37.8\" font-family=\"Helvetica,sans-Serif\" font-size=\"14.00\">samples = 158</text>\n<text text-anchor=\"middle\" x=\"1623\" y=\"-22.8\" font-family=\"Helvetica,sans-Serif\" font-size=\"14.00\">value = [28.745, 473.951]</text>\n<text text-anchor=\"middle\" x=\"1623\" y=\"-7.8\" font-family=\"Helvetica,sans-Serif\" font-size=\"14.00\">class = Yes</text>\n</g>\n<!-- 19&#45;&gt;20 -->\n<g id=\"edge20\" class=\"edge\">\n<title>19&#45;&gt;20</title>\n<path fill=\"none\" stroke=\"black\" d=\"M1636.81,-103.73C1635.21,-95.79 1633.54,-87.44 1631.92,-79.39\"/>\n<polygon fill=\"black\" stroke=\"black\" points=\"1635.39,-78.9 1629.99,-69.78 1628.53,-80.28 1635.39,-78.9\"/>\n</g>\n<!-- 21 -->\n<g id=\"node22\" class=\"node\">\n<title>21</title>\n<path fill=\"#40a0e6\" stroke=\"black\" d=\"M1905.5,-68C1905.5,-68 1742.5,-68 1742.5,-68 1736.5,-68 1730.5,-62 1730.5,-56 1730.5,-56 1730.5,-12 1730.5,-12 1730.5,-6 1736.5,0 1742.5,0 1742.5,0 1905.5,0 1905.5,0 1911.5,0 1917.5,-6 1917.5,-12 1917.5,-12 1917.5,-56 1917.5,-56 1917.5,-62 1911.5,-68 1905.5,-68\"/>\n<text text-anchor=\"middle\" x=\"1824\" y=\"-52.8\" font-family=\"Helvetica,sans-Serif\" font-size=\"14.00\">gini = 0.062</text>\n<text text-anchor=\"middle\" x=\"1824\" y=\"-37.8\" font-family=\"Helvetica,sans-Serif\" font-size=\"14.00\">samples = 496</text>\n<text text-anchor=\"middle\" x=\"1824\" y=\"-22.8\" font-family=\"Helvetica,sans-Serif\" font-size=\"14.00\">value = [58.053, 1740.775]</text>\n<text text-anchor=\"middle\" x=\"1824\" y=\"-7.8\" font-family=\"Helvetica,sans-Serif\" font-size=\"14.00\">class = Yes</text>\n</g>\n<!-- 19&#45;&gt;21 -->\n<g id=\"edge21\" class=\"edge\">\n<title>19&#45;&gt;21</title>\n<path fill=\"none\" stroke=\"black\" d=\"M1711.91,-103.57C1727.61,-93.96 1744.31,-83.75 1759.89,-74.22\"/>\n<polygon fill=\"black\" stroke=\"black\" points=\"1761.44,-77.37 1768.14,-69.17 1757.78,-71.4 1761.44,-77.37\"/>\n</g>\n<!-- 24 -->\n<g id=\"node25\" class=\"node\">\n<title>24</title>\n<path fill=\"#e58139\" stroke=\"black\" d=\"M2059.5,-179.5C2059.5,-179.5 1946.5,-179.5 1946.5,-179.5 1940.5,-179.5 1934.5,-173.5 1934.5,-167.5 1934.5,-167.5 1934.5,-123.5 1934.5,-123.5 1934.5,-117.5 1940.5,-111.5 1946.5,-111.5 1946.5,-111.5 2059.5,-111.5 2059.5,-111.5 2065.5,-111.5 2071.5,-117.5 2071.5,-123.5 2071.5,-123.5 2071.5,-167.5 2071.5,-167.5 2071.5,-173.5 2065.5,-179.5 2059.5,-179.5\"/>\n<text text-anchor=\"middle\" x=\"2003\" y=\"-164.3\" font-family=\"Helvetica,sans-Serif\" font-size=\"14.00\">gini = 0.0</text>\n<text text-anchor=\"middle\" x=\"2003\" y=\"-149.3\" font-family=\"Helvetica,sans-Serif\" font-size=\"14.00\">samples = 4</text>\n<text text-anchor=\"middle\" x=\"2003\" y=\"-134.3\" font-family=\"Helvetica,sans-Serif\" font-size=\"14.00\">value = [2.254, 0.0]</text>\n<text text-anchor=\"middle\" x=\"2003\" y=\"-119.3\" font-family=\"Helvetica,sans-Serif\" font-size=\"14.00\">class = No</text>\n</g>\n<!-- 23&#45;&gt;24 -->\n<g id=\"edge24\" class=\"edge\">\n<title>23&#45;&gt;24</title>\n<path fill=\"none\" stroke=\"black\" d=\"M2010.15,-222.58C2009.2,-212.43 2008.17,-201.5 2007.2,-191.18\"/>\n<polygon fill=\"black\" stroke=\"black\" points=\"2010.7,-191 2006.28,-181.37 2003.73,-191.65 2010.7,-191\"/>\n</g>\n<!-- 25 -->\n<g id=\"node26\" class=\"node\">\n<title>25</title>\n<path fill=\"#4ba6e7\" stroke=\"black\" d=\"M2256.5,-187C2256.5,-187 2101.5,-187 2101.5,-187 2095.5,-187 2089.5,-181 2089.5,-175 2089.5,-175 2089.5,-116 2089.5,-116 2089.5,-110 2095.5,-104 2101.5,-104 2101.5,-104 2256.5,-104 2256.5,-104 2262.5,-104 2268.5,-110 2268.5,-116 2268.5,-116 2268.5,-175 2268.5,-175 2268.5,-181 2262.5,-187 2256.5,-187\"/>\n<text text-anchor=\"middle\" x=\"2179\" y=\"-171.8\" font-family=\"Helvetica,sans-Serif\" font-size=\"14.00\">campaign &lt;= 6.5</text>\n<text text-anchor=\"middle\" x=\"2179\" y=\"-156.8\" font-family=\"Helvetica,sans-Serif\" font-size=\"14.00\">gini = 0.151</text>\n<text text-anchor=\"middle\" x=\"2179\" y=\"-141.8\" font-family=\"Helvetica,sans-Serif\" font-size=\"14.00\">samples = 169</text>\n<text text-anchor=\"middle\" x=\"2179\" y=\"-126.8\" font-family=\"Helvetica,sans-Serif\" font-size=\"14.00\">value = [39.454, 438.516]</text>\n<text text-anchor=\"middle\" x=\"2179\" y=\"-111.8\" font-family=\"Helvetica,sans-Serif\" font-size=\"14.00\">class = Yes</text>\n</g>\n<!-- 23&#45;&gt;25 -->\n<g id=\"edge25\" class=\"edge\">\n<title>23&#45;&gt;25</title>\n<path fill=\"none\" stroke=\"black\" d=\"M2071.71,-222.58C2084.77,-213.32 2098.75,-203.41 2112.15,-193.9\"/>\n<polygon fill=\"black\" stroke=\"black\" points=\"2113.96,-196.91 2120.09,-188.27 2109.91,-191.2 2113.96,-196.91\"/>\n</g>\n<!-- 26 -->\n<g id=\"node27\" class=\"node\">\n<title>26</title>\n<path fill=\"#4aa6e7\" stroke=\"black\" d=\"M2102.5,-68C2102.5,-68 1947.5,-68 1947.5,-68 1941.5,-68 1935.5,-62 1935.5,-56 1935.5,-56 1935.5,-12 1935.5,-12 1935.5,-6 1941.5,0 1947.5,0 1947.5,0 2102.5,0 2102.5,0 2108.5,0 2114.5,-6 2114.5,-12 2114.5,-12 2114.5,-56 2114.5,-56 2114.5,-62 2108.5,-68 2102.5,-68\"/>\n<text text-anchor=\"middle\" x=\"2025\" y=\"-52.8\" font-family=\"Helvetica,sans-Serif\" font-size=\"14.00\">gini = 0.148</text>\n<text text-anchor=\"middle\" x=\"2025\" y=\"-37.8\" font-family=\"Helvetica,sans-Serif\" font-size=\"14.00\">samples = 167</text>\n<text text-anchor=\"middle\" x=\"2025\" y=\"-22.8\" font-family=\"Helvetica,sans-Serif\" font-size=\"14.00\">value = [38.326, 438.516]</text>\n<text text-anchor=\"middle\" x=\"2025\" y=\"-7.8\" font-family=\"Helvetica,sans-Serif\" font-size=\"14.00\">class = Yes</text>\n</g>\n<!-- 25&#45;&gt;26 -->\n<g id=\"edge26\" class=\"edge\">\n<title>25&#45;&gt;26</title>\n<path fill=\"none\" stroke=\"black\" d=\"M2121.66,-103.73C2108.32,-94.24 2094.13,-84.16 2080.86,-74.72\"/>\n<polygon fill=\"black\" stroke=\"black\" points=\"2083.24,-72.12 2073.07,-69.18 2079.19,-77.82 2083.24,-72.12\"/>\n</g>\n<!-- 27 -->\n<g id=\"node28\" class=\"node\">\n<title>27</title>\n<path fill=\"#e58139\" stroke=\"black\" d=\"M2257.5,-68C2257.5,-68 2144.5,-68 2144.5,-68 2138.5,-68 2132.5,-62 2132.5,-56 2132.5,-56 2132.5,-12 2132.5,-12 2132.5,-6 2138.5,0 2144.5,0 2144.5,0 2257.5,0 2257.5,0 2263.5,0 2269.5,-6 2269.5,-12 2269.5,-12 2269.5,-56 2269.5,-56 2269.5,-62 2263.5,-68 2257.5,-68\"/>\n<text text-anchor=\"middle\" x=\"2201\" y=\"-52.8\" font-family=\"Helvetica,sans-Serif\" font-size=\"14.00\">gini = 0.0</text>\n<text text-anchor=\"middle\" x=\"2201\" y=\"-37.8\" font-family=\"Helvetica,sans-Serif\" font-size=\"14.00\">samples = 2</text>\n<text text-anchor=\"middle\" x=\"2201\" y=\"-22.8\" font-family=\"Helvetica,sans-Serif\" font-size=\"14.00\">value = [1.127, 0.0]</text>\n<text text-anchor=\"middle\" x=\"2201\" y=\"-7.8\" font-family=\"Helvetica,sans-Serif\" font-size=\"14.00\">class = No</text>\n</g>\n<!-- 25&#45;&gt;27 -->\n<g id=\"edge27\" class=\"edge\">\n<title>25&#45;&gt;27</title>\n<path fill=\"none\" stroke=\"black\" d=\"M2187.19,-103.73C2188.79,-95.79 2190.46,-87.44 2192.08,-79.39\"/>\n<polygon fill=\"black\" stroke=\"black\" points=\"2195.47,-80.28 2194.01,-69.78 2188.61,-78.9 2195.47,-80.28\"/>\n</g>\n<!-- 29 -->\n<g id=\"node30\" class=\"node\">\n<title>29</title>\n<path fill=\"#97cbf1\" stroke=\"black\" d=\"M2919.5,-425C2919.5,-425 2748.5,-425 2748.5,-425 2742.5,-425 2736.5,-419 2736.5,-413 2736.5,-413 2736.5,-354 2736.5,-354 2736.5,-348 2742.5,-342 2748.5,-342 2748.5,-342 2919.5,-342 2919.5,-342 2925.5,-342 2931.5,-348 2931.5,-354 2931.5,-354 2931.5,-413 2931.5,-413 2931.5,-419 2925.5,-425 2919.5,-425\"/>\n<text text-anchor=\"middle\" x=\"2834\" y=\"-409.8\" font-family=\"Helvetica,sans-Serif\" font-size=\"14.00\">euribor3m &lt;= 1.378</text>\n<text text-anchor=\"middle\" x=\"2834\" y=\"-394.8\" font-family=\"Helvetica,sans-Serif\" font-size=\"14.00\">gini = 0.436</text>\n<text text-anchor=\"middle\" x=\"2834\" y=\"-379.8\" font-family=\"Helvetica,sans-Serif\" font-size=\"14.00\">samples = 2060</text>\n<text text-anchor=\"middle\" x=\"2834\" y=\"-364.8\" font-family=\"Helvetica,sans-Serif\" font-size=\"14.00\">value = [915.322, 1931.241]</text>\n<text text-anchor=\"middle\" x=\"2834\" y=\"-349.8\" font-family=\"Helvetica,sans-Serif\" font-size=\"14.00\">class = Yes</text>\n</g>\n<!-- 28&#45;&gt;29 -->\n<g id=\"edge29\" class=\"edge\">\n<title>28&#45;&gt;29</title>\n<path fill=\"none\" stroke=\"black\" d=\"M2834,-460.58C2834,-452.79 2834,-444.53 2834,-436.45\"/>\n<polygon fill=\"black\" stroke=\"black\" points=\"2837.5,-436.71 2834,-426.71 2830.5,-436.71 2837.5,-436.71\"/>\n</g>\n<!-- 42 -->\n<g id=\"node43\" class=\"node\">\n<title>42</title>\n<path fill=\"#f1bb94\" stroke=\"black\" d=\"M3903,-425C3903,-425 3715,-425 3715,-425 3709,-425 3703,-419 3703,-413 3703,-413 3703,-354 3703,-354 3703,-348 3709,-342 3715,-342 3715,-342 3903,-342 3903,-342 3909,-342 3915,-348 3915,-354 3915,-354 3915,-413 3915,-413 3915,-419 3909,-425 3903,-425\"/>\n<text text-anchor=\"middle\" x=\"3809\" y=\"-409.8\" font-family=\"Helvetica,sans-Serif\" font-size=\"14.00\">cons.price.idx &lt;= 93.956</text>\n<text text-anchor=\"middle\" x=\"3809\" y=\"-394.8\" font-family=\"Helvetica,sans-Serif\" font-size=\"14.00\">gini = 0.431</text>\n<text text-anchor=\"middle\" x=\"3809\" y=\"-379.8\" font-family=\"Helvetica,sans-Serif\" font-size=\"14.00\">samples = 25088</text>\n<text text-anchor=\"middle\" x=\"3809\" y=\"-364.8\" font-family=\"Helvetica,sans-Serif\" font-size=\"14.00\">value = [13362.916, 6108.215]</text>\n<text text-anchor=\"middle\" x=\"3809\" y=\"-349.8\" font-family=\"Helvetica,sans-Serif\" font-size=\"14.00\">class = No</text>\n</g>\n<!-- 28&#45;&gt;42 -->\n<g id=\"edge42\" class=\"edge\">\n<title>28&#45;&gt;42</title>\n<path fill=\"none\" stroke=\"black\" d=\"M2940.2,-488.76C3123.96,-466.7 3499.91,-421.59 3691.34,-398.62\"/>\n<polygon fill=\"black\" stroke=\"black\" points=\"3691.55,-402.12 3701.06,-397.45 3690.71,-395.17 3691.55,-402.12\"/>\n</g>\n<!-- 30 -->\n<g id=\"node31\" class=\"node\">\n<title>30</title>\n<path fill=\"#58ace9\" stroke=\"black\" d=\"M2807.5,-306C2807.5,-306 2652.5,-306 2652.5,-306 2646.5,-306 2640.5,-300 2640.5,-294 2640.5,-294 2640.5,-235 2640.5,-235 2640.5,-229 2646.5,-223 2652.5,-223 2652.5,-223 2807.5,-223 2807.5,-223 2813.5,-223 2819.5,-229 2819.5,-235 2819.5,-235 2819.5,-294 2819.5,-294 2819.5,-300 2813.5,-306 2807.5,-306\"/>\n<text text-anchor=\"middle\" x=\"2730\" y=\"-290.8\" font-family=\"Helvetica,sans-Serif\" font-size=\"14.00\">campaign &lt;= 3.5</text>\n<text text-anchor=\"middle\" x=\"2730\" y=\"-275.8\" font-family=\"Helvetica,sans-Serif\" font-size=\"14.00\">gini = 0.232</text>\n<text text-anchor=\"middle\" x=\"2730\" y=\"-260.8\" font-family=\"Helvetica,sans-Serif\" font-size=\"14.00\">samples = 235</text>\n<text text-anchor=\"middle\" x=\"2730\" y=\"-245.8\" font-family=\"Helvetica,sans-Serif\" font-size=\"14.00\">value = [72.707, 469.522]</text>\n<text text-anchor=\"middle\" x=\"2730\" y=\"-230.8\" font-family=\"Helvetica,sans-Serif\" font-size=\"14.00\">class = Yes</text>\n</g>\n<!-- 29&#45;&gt;30 -->\n<g id=\"edge30\" class=\"edge\">\n<title>29&#45;&gt;30</title>\n<path fill=\"none\" stroke=\"black\" d=\"M2797.63,-341.58C2789.9,-332.89 2781.67,-323.63 2773.71,-314.67\"/>\n<polygon fill=\"black\" stroke=\"black\" points=\"2776.44,-312.48 2767.18,-307.33 2771.21,-317.13 2776.44,-312.48\"/>\n</g>\n<!-- 35 -->\n<g id=\"node36\" class=\"node\">\n<title>35</title>\n<path fill=\"#abd5f4\" stroke=\"black\" d=\"M3021.5,-306C3021.5,-306 2850.5,-306 2850.5,-306 2844.5,-306 2838.5,-300 2838.5,-294 2838.5,-294 2838.5,-235 2838.5,-235 2838.5,-229 2844.5,-223 2850.5,-223 2850.5,-223 3021.5,-223 3021.5,-223 3027.5,-223 3033.5,-229 3033.5,-235 3033.5,-235 3033.5,-294 3033.5,-294 3033.5,-300 3027.5,-306 3021.5,-306\"/>\n<text text-anchor=\"middle\" x=\"2936\" y=\"-290.8\" font-family=\"Helvetica,sans-Serif\" font-size=\"14.00\">euribor3m &lt;= 1.504</text>\n<text text-anchor=\"middle\" x=\"2936\" y=\"-275.8\" font-family=\"Helvetica,sans-Serif\" font-size=\"14.00\">gini = 0.464</text>\n<text text-anchor=\"middle\" x=\"2936\" y=\"-260.8\" font-family=\"Helvetica,sans-Serif\" font-size=\"14.00\">samples = 1825</text>\n<text text-anchor=\"middle\" x=\"2936\" y=\"-245.8\" font-family=\"Helvetica,sans-Serif\" font-size=\"14.00\">value = [842.615, 1461.719]</text>\n<text text-anchor=\"middle\" x=\"2936\" y=\"-230.8\" font-family=\"Helvetica,sans-Serif\" font-size=\"14.00\">class = Yes</text>\n</g>\n<!-- 29&#45;&gt;35 -->\n<g id=\"edge35\" class=\"edge\">\n<title>29&#45;&gt;35</title>\n<path fill=\"none\" stroke=\"black\" d=\"M2869.67,-341.58C2877.25,-332.89 2885.32,-323.63 2893.13,-314.67\"/>\n<polygon fill=\"black\" stroke=\"black\" points=\"2895.59,-317.18 2899.52,-307.34 2890.31,-312.58 2895.59,-317.18\"/>\n</g>\n<!-- 31 -->\n<g id=\"node32\" class=\"node\">\n<title>31</title>\n<path fill=\"#56abe9\" stroke=\"black\" d=\"M2630.5,-187C2630.5,-187 2475.5,-187 2475.5,-187 2469.5,-187 2463.5,-181 2463.5,-175 2463.5,-175 2463.5,-116 2463.5,-116 2463.5,-110 2469.5,-104 2475.5,-104 2475.5,-104 2630.5,-104 2630.5,-104 2636.5,-104 2642.5,-110 2642.5,-116 2642.5,-116 2642.5,-175 2642.5,-175 2642.5,-181 2636.5,-187 2630.5,-187\"/>\n<text text-anchor=\"middle\" x=\"2553\" y=\"-171.8\" font-family=\"Helvetica,sans-Serif\" font-size=\"14.00\">age &lt;= 80.0</text>\n<text text-anchor=\"middle\" x=\"2553\" y=\"-156.8\" font-family=\"Helvetica,sans-Serif\" font-size=\"14.00\">gini = 0.223</text>\n<text text-anchor=\"middle\" x=\"2553\" y=\"-141.8\" font-family=\"Helvetica,sans-Serif\" font-size=\"14.00\">samples = 228</text>\n<text text-anchor=\"middle\" x=\"2553\" y=\"-126.8\" font-family=\"Helvetica,sans-Serif\" font-size=\"14.00\">value = [68.762, 469.522]</text>\n<text text-anchor=\"middle\" x=\"2553\" y=\"-111.8\" font-family=\"Helvetica,sans-Serif\" font-size=\"14.00\">class = Yes</text>\n</g>\n<!-- 30&#45;&gt;31 -->\n<g id=\"edge31\" class=\"edge\">\n<title>30&#45;&gt;31</title>\n<path fill=\"none\" stroke=\"black\" d=\"M2668.09,-222.58C2653.95,-213.23 2638.8,-203.21 2624.29,-193.63\"/>\n<polygon fill=\"black\" stroke=\"black\" points=\"2626.41,-190.83 2616.13,-188.23 2622.55,-196.67 2626.41,-190.83\"/>\n</g>\n<!-- 34 -->\n<g id=\"node35\" class=\"node\">\n<title>34</title>\n<path fill=\"#e58139\" stroke=\"black\" d=\"M2786.5,-179.5C2786.5,-179.5 2673.5,-179.5 2673.5,-179.5 2667.5,-179.5 2661.5,-173.5 2661.5,-167.5 2661.5,-167.5 2661.5,-123.5 2661.5,-123.5 2661.5,-117.5 2667.5,-111.5 2673.5,-111.5 2673.5,-111.5 2786.5,-111.5 2786.5,-111.5 2792.5,-111.5 2798.5,-117.5 2798.5,-123.5 2798.5,-123.5 2798.5,-167.5 2798.5,-167.5 2798.5,-173.5 2792.5,-179.5 2786.5,-179.5\"/>\n<text text-anchor=\"middle\" x=\"2730\" y=\"-164.3\" font-family=\"Helvetica,sans-Serif\" font-size=\"14.00\">gini = &#45;0.0</text>\n<text text-anchor=\"middle\" x=\"2730\" y=\"-149.3\" font-family=\"Helvetica,sans-Serif\" font-size=\"14.00\">samples = 7</text>\n<text text-anchor=\"middle\" x=\"2730\" y=\"-134.3\" font-family=\"Helvetica,sans-Serif\" font-size=\"14.00\">value = [3.945, 0.0]</text>\n<text text-anchor=\"middle\" x=\"2730\" y=\"-119.3\" font-family=\"Helvetica,sans-Serif\" font-size=\"14.00\">class = No</text>\n</g>\n<!-- 30&#45;&gt;34 -->\n<g id=\"edge34\" class=\"edge\">\n<title>30&#45;&gt;34</title>\n<path fill=\"none\" stroke=\"black\" d=\"M2730,-222.58C2730,-212.43 2730,-201.5 2730,-191.18\"/>\n<polygon fill=\"black\" stroke=\"black\" points=\"2733.5,-191.37 2730,-181.37 2726.5,-191.37 2733.5,-191.37\"/>\n</g>\n<!-- 32 -->\n<g id=\"node33\" class=\"node\">\n<title>32</title>\n<path fill=\"#56abe9\" stroke=\"black\" d=\"M2454.5,-68C2454.5,-68 2299.5,-68 2299.5,-68 2293.5,-68 2287.5,-62 2287.5,-56 2287.5,-56 2287.5,-12 2287.5,-12 2287.5,-6 2293.5,0 2299.5,0 2299.5,0 2454.5,0 2454.5,0 2460.5,0 2466.5,-6 2466.5,-12 2466.5,-12 2466.5,-56 2466.5,-56 2466.5,-62 2460.5,-68 2454.5,-68\"/>\n<text text-anchor=\"middle\" x=\"2377\" y=\"-52.8\" font-family=\"Helvetica,sans-Serif\" font-size=\"14.00\">gini = 0.22</text>\n<text text-anchor=\"middle\" x=\"2377\" y=\"-37.8\" font-family=\"Helvetica,sans-Serif\" font-size=\"14.00\">samples = 226</text>\n<text text-anchor=\"middle\" x=\"2377\" y=\"-22.8\" font-family=\"Helvetica,sans-Serif\" font-size=\"14.00\">value = [67.635, 469.522]</text>\n<text text-anchor=\"middle\" x=\"2377\" y=\"-7.8\" font-family=\"Helvetica,sans-Serif\" font-size=\"14.00\">class = Yes</text>\n</g>\n<!-- 31&#45;&gt;32 -->\n<g id=\"edge32\" class=\"edge\">\n<title>31&#45;&gt;32</title>\n<path fill=\"none\" stroke=\"black\" d=\"M2487.21,-103.57C2471.77,-93.96 2455.35,-83.75 2440.03,-74.22\"/>\n<polygon fill=\"black\" stroke=\"black\" points=\"2442.28,-71.49 2431.94,-69.18 2438.58,-77.43 2442.28,-71.49\"/>\n</g>\n<!-- 33 -->\n<g id=\"node34\" class=\"node\">\n<title>33</title>\n<path fill=\"#e58139\" stroke=\"black\" d=\"M2609.5,-68C2609.5,-68 2496.5,-68 2496.5,-68 2490.5,-68 2484.5,-62 2484.5,-56 2484.5,-56 2484.5,-12 2484.5,-12 2484.5,-6 2490.5,0 2496.5,0 2496.5,0 2609.5,0 2609.5,0 2615.5,0 2621.5,-6 2621.5,-12 2621.5,-12 2621.5,-56 2621.5,-56 2621.5,-62 2615.5,-68 2609.5,-68\"/>\n<text text-anchor=\"middle\" x=\"2553\" y=\"-52.8\" font-family=\"Helvetica,sans-Serif\" font-size=\"14.00\">gini = &#45;0.0</text>\n<text text-anchor=\"middle\" x=\"2553\" y=\"-37.8\" font-family=\"Helvetica,sans-Serif\" font-size=\"14.00\">samples = 2</text>\n<text text-anchor=\"middle\" x=\"2553\" y=\"-22.8\" font-family=\"Helvetica,sans-Serif\" font-size=\"14.00\">value = [1.127, 0.0]</text>\n<text text-anchor=\"middle\" x=\"2553\" y=\"-7.8\" font-family=\"Helvetica,sans-Serif\" font-size=\"14.00\">class = No</text>\n</g>\n<!-- 31&#45;&gt;33 -->\n<g id=\"edge33\" class=\"edge\">\n<title>31&#45;&gt;33</title>\n<path fill=\"none\" stroke=\"black\" d=\"M2553,-103.73C2553,-95.88 2553,-87.63 2553,-79.67\"/>\n<polygon fill=\"black\" stroke=\"black\" points=\"2556.5,-79.81 2553,-69.81 2549.5,-79.81 2556.5,-79.81\"/>\n</g>\n<!-- 36 -->\n<g id=\"node37\" class=\"node\">\n<title>36</title>\n<path fill=\"#cbe5f8\" stroke=\"black\" d=\"M3021.5,-187C3021.5,-187 2850.5,-187 2850.5,-187 2844.5,-187 2838.5,-181 2838.5,-175 2838.5,-175 2838.5,-116 2838.5,-116 2838.5,-110 2844.5,-104 2850.5,-104 2850.5,-104 3021.5,-104 3021.5,-104 3027.5,-104 3033.5,-110 3033.5,-116 3033.5,-116 3033.5,-175 3033.5,-175 3033.5,-181 3027.5,-187 3021.5,-187\"/>\n<text text-anchor=\"middle\" x=\"2936\" y=\"-171.8\" font-family=\"Helvetica,sans-Serif\" font-size=\"14.00\">age &lt;= 30.5</text>\n<text text-anchor=\"middle\" x=\"2936\" y=\"-156.8\" font-family=\"Helvetica,sans-Serif\" font-size=\"14.00\">gini = 0.489</text>\n<text text-anchor=\"middle\" x=\"2936\" y=\"-141.8\" font-family=\"Helvetica,sans-Serif\" font-size=\"14.00\">samples = 1604</text>\n<text text-anchor=\"middle\" x=\"2936\" y=\"-126.8\" font-family=\"Helvetica,sans-Serif\" font-size=\"14.00\">value = [771.035, 1045.351]</text>\n<text text-anchor=\"middle\" x=\"2936\" y=\"-111.8\" font-family=\"Helvetica,sans-Serif\" font-size=\"14.00\">class = Yes</text>\n</g>\n<!-- 35&#45;&gt;36 -->\n<g id=\"edge36\" class=\"edge\">\n<title>35&#45;&gt;36</title>\n<path fill=\"none\" stroke=\"black\" d=\"M2936,-222.58C2936,-214.79 2936,-206.53 2936,-198.45\"/>\n<polygon fill=\"black\" stroke=\"black\" points=\"2939.5,-198.71 2936,-188.71 2932.5,-198.71 2939.5,-198.71\"/>\n</g>\n<!-- 39 -->\n<g id=\"node40\" class=\"node\">\n<title>39</title>\n<path fill=\"#5baee9\" stroke=\"black\" d=\"M3212,-187C3212,-187 3066,-187 3066,-187 3060,-187 3054,-181 3054,-175 3054,-175 3054,-116 3054,-116 3054,-110 3060,-104 3066,-104 3066,-104 3212,-104 3212,-104 3218,-104 3224,-110 3224,-116 3224,-116 3224,-175 3224,-175 3224,-181 3218,-187 3212,-187\"/>\n<text text-anchor=\"middle\" x=\"3139\" y=\"-171.8\" font-family=\"Helvetica,sans-Serif\" font-size=\"14.00\">job_housemaid &lt;= 0.5</text>\n<text text-anchor=\"middle\" x=\"3139\" y=\"-156.8\" font-family=\"Helvetica,sans-Serif\" font-size=\"14.00\">gini = 0.25</text>\n<text text-anchor=\"middle\" x=\"3139\" y=\"-141.8\" font-family=\"Helvetica,sans-Serif\" font-size=\"14.00\">samples = 221</text>\n<text text-anchor=\"middle\" x=\"3139\" y=\"-126.8\" font-family=\"Helvetica,sans-Serif\" font-size=\"14.00\">value = [71.58, 416.369]</text>\n<text text-anchor=\"middle\" x=\"3139\" y=\"-111.8\" font-family=\"Helvetica,sans-Serif\" font-size=\"14.00\">class = Yes</text>\n</g>\n<!-- 35&#45;&gt;39 -->\n<g id=\"edge39\" class=\"edge\">\n<title>35&#45;&gt;39</title>\n<path fill=\"none\" stroke=\"black\" d=\"M3007,-222.58C3023.53,-213.05 3041.26,-202.83 3058.18,-193.08\"/>\n<polygon fill=\"black\" stroke=\"black\" points=\"3059.81,-196.18 3066.73,-188.15 3056.32,-190.11 3059.81,-196.18\"/>\n</g>\n<!-- 37 -->\n<g id=\"node38\" class=\"node\">\n<title>37</title>\n<path fill=\"#75bbed\" stroke=\"black\" d=\"M2814.5,-68C2814.5,-68 2651.5,-68 2651.5,-68 2645.5,-68 2639.5,-62 2639.5,-56 2639.5,-56 2639.5,-12 2639.5,-12 2639.5,-6 2645.5,0 2651.5,0 2651.5,0 2814.5,0 2814.5,0 2820.5,0 2826.5,-6 2826.5,-12 2826.5,-12 2826.5,-56 2826.5,-56 2826.5,-62 2820.5,-68 2814.5,-68\"/>\n<text text-anchor=\"middle\" x=\"2733\" y=\"-52.8\" font-family=\"Helvetica,sans-Serif\" font-size=\"14.00\">gini = 0.357</text>\n<text text-anchor=\"middle\" x=\"2733\" y=\"-37.8\" font-family=\"Helvetica,sans-Serif\" font-size=\"14.00\">samples = 281</text>\n<text text-anchor=\"middle\" x=\"2733\" y=\"-22.8\" font-family=\"Helvetica,sans-Serif\" font-size=\"14.00\">value = [111.597, 367.645]</text>\n<text text-anchor=\"middle\" x=\"2733\" y=\"-7.8\" font-family=\"Helvetica,sans-Serif\" font-size=\"14.00\">class = Yes</text>\n</g>\n<!-- 36&#45;&gt;37 -->\n<g id=\"edge37\" class=\"edge\">\n<title>36&#45;&gt;37</title>\n<path fill=\"none\" stroke=\"black\" d=\"M2860.12,-103.57C2841.97,-93.78 2822.65,-83.36 2804.7,-73.68\"/>\n<polygon fill=\"black\" stroke=\"black\" points=\"2806.68,-70.77 2796.22,-69.1 2803.36,-76.93 2806.68,-70.77\"/>\n</g>\n<!-- 38 -->\n<g id=\"node39\" class=\"node\">\n<title>38</title>\n<path fill=\"#fafcfe\" stroke=\"black\" d=\"M3019.5,-68C3019.5,-68 2856.5,-68 2856.5,-68 2850.5,-68 2844.5,-62 2844.5,-56 2844.5,-56 2844.5,-12 2844.5,-12 2844.5,-6 2850.5,0 2856.5,0 2856.5,0 3019.5,0 3019.5,0 3025.5,0 3031.5,-6 3031.5,-12 3031.5,-12 3031.5,-56 3031.5,-56 3031.5,-62 3025.5,-68 3019.5,-68\"/>\n<text text-anchor=\"middle\" x=\"2938\" y=\"-52.8\" font-family=\"Helvetica,sans-Serif\" font-size=\"14.00\">gini = 0.5</text>\n<text text-anchor=\"middle\" x=\"2938\" y=\"-37.8\" font-family=\"Helvetica,sans-Serif\" font-size=\"14.00\">samples = 1323</text>\n<text text-anchor=\"middle\" x=\"2938\" y=\"-22.8\" font-family=\"Helvetica,sans-Serif\" font-size=\"14.00\">value = [659.438, 677.706]</text>\n<text text-anchor=\"middle\" x=\"2938\" y=\"-7.8\" font-family=\"Helvetica,sans-Serif\" font-size=\"14.00\">class = Yes</text>\n</g>\n<!-- 36&#45;&gt;38 -->\n<g id=\"edge38\" class=\"edge\">\n<title>36&#45;&gt;38</title>\n<path fill=\"none\" stroke=\"black\" d=\"M2936.74,-103.73C2936.89,-95.88 2937.04,-87.63 2937.18,-79.67\"/>\n<polygon fill=\"black\" stroke=\"black\" points=\"2940.68,-79.88 2937.36,-69.81 2933.68,-79.75 2940.68,-79.88\"/>\n</g>\n<!-- 40 -->\n<g id=\"node41\" class=\"node\">\n<title>40</title>\n<path fill=\"#5baee9\" stroke=\"black\" d=\"M3216.5,-68C3216.5,-68 3061.5,-68 3061.5,-68 3055.5,-68 3049.5,-62 3049.5,-56 3049.5,-56 3049.5,-12 3049.5,-12 3049.5,-6 3055.5,0 3061.5,0 3061.5,0 3216.5,0 3216.5,0 3222.5,0 3228.5,-6 3228.5,-12 3228.5,-12 3228.5,-56 3228.5,-56 3228.5,-62 3222.5,-68 3216.5,-68\"/>\n<text text-anchor=\"middle\" x=\"3139\" y=\"-52.8\" font-family=\"Helvetica,sans-Serif\" font-size=\"14.00\">gini = 0.248</text>\n<text text-anchor=\"middle\" x=\"3139\" y=\"-37.8\" font-family=\"Helvetica,sans-Serif\" font-size=\"14.00\">samples = 219</text>\n<text text-anchor=\"middle\" x=\"3139\" y=\"-22.8\" font-family=\"Helvetica,sans-Serif\" font-size=\"14.00\">value = [70.453, 416.369]</text>\n<text text-anchor=\"middle\" x=\"3139\" y=\"-7.8\" font-family=\"Helvetica,sans-Serif\" font-size=\"14.00\">class = Yes</text>\n</g>\n<!-- 39&#45;&gt;40 -->\n<g id=\"edge40\" class=\"edge\">\n<title>39&#45;&gt;40</title>\n<path fill=\"none\" stroke=\"black\" d=\"M3139,-103.73C3139,-95.88 3139,-87.63 3139,-79.67\"/>\n<polygon fill=\"black\" stroke=\"black\" points=\"3142.5,-79.81 3139,-69.81 3135.5,-79.81 3142.5,-79.81\"/>\n</g>\n<!-- 41 -->\n<g id=\"node42\" class=\"node\">\n<title>41</title>\n<path fill=\"#e58139\" stroke=\"black\" d=\"M3371.5,-68C3371.5,-68 3258.5,-68 3258.5,-68 3252.5,-68 3246.5,-62 3246.5,-56 3246.5,-56 3246.5,-12 3246.5,-12 3246.5,-6 3252.5,0 3258.5,0 3258.5,0 3371.5,0 3371.5,0 3377.5,0 3383.5,-6 3383.5,-12 3383.5,-12 3383.5,-56 3383.5,-56 3383.5,-62 3377.5,-68 3371.5,-68\"/>\n<text text-anchor=\"middle\" x=\"3315\" y=\"-52.8\" font-family=\"Helvetica,sans-Serif\" font-size=\"14.00\">gini = 0.0</text>\n<text text-anchor=\"middle\" x=\"3315\" y=\"-37.8\" font-family=\"Helvetica,sans-Serif\" font-size=\"14.00\">samples = 2</text>\n<text text-anchor=\"middle\" x=\"3315\" y=\"-22.8\" font-family=\"Helvetica,sans-Serif\" font-size=\"14.00\">value = [1.127, 0.0]</text>\n<text text-anchor=\"middle\" x=\"3315\" y=\"-7.8\" font-family=\"Helvetica,sans-Serif\" font-size=\"14.00\">class = No</text>\n</g>\n<!-- 39&#45;&gt;41 -->\n<g id=\"edge41\" class=\"edge\">\n<title>39&#45;&gt;41</title>\n<path fill=\"none\" stroke=\"black\" d=\"M3204.79,-103.57C3220.23,-93.96 3236.65,-83.75 3251.97,-74.22\"/>\n<polygon fill=\"black\" stroke=\"black\" points=\"3253.42,-77.43 3260.06,-69.18 3249.72,-71.49 3253.42,-77.43\"/>\n</g>\n<!-- 43 -->\n<g id=\"node44\" class=\"node\">\n<title>43</title>\n<path fill=\"#f4c8a8\" stroke=\"black\" d=\"M3898.5,-306C3898.5,-306 3719.5,-306 3719.5,-306 3713.5,-306 3707.5,-300 3707.5,-294 3707.5,-294 3707.5,-235 3707.5,-235 3707.5,-229 3713.5,-223 3719.5,-223 3719.5,-223 3898.5,-223 3898.5,-223 3904.5,-223 3910.5,-229 3910.5,-235 3910.5,-235 3910.5,-294 3910.5,-294 3910.5,-300 3904.5,-306 3898.5,-306\"/>\n<text text-anchor=\"middle\" x=\"3809\" y=\"-290.8\" font-family=\"Helvetica,sans-Serif\" font-size=\"14.00\">month_oct &lt;= 0.5</text>\n<text text-anchor=\"middle\" x=\"3809\" y=\"-275.8\" font-family=\"Helvetica,sans-Serif\" font-size=\"14.00\">gini = 0.46</text>\n<text text-anchor=\"middle\" x=\"3809\" y=\"-260.8\" font-family=\"Helvetica,sans-Serif\" font-size=\"14.00\">samples = 16008</text>\n<text text-anchor=\"middle\" x=\"3809\" y=\"-245.8\" font-family=\"Helvetica,sans-Serif\" font-size=\"14.00\">value = [8421.641, 4721.796]</text>\n<text text-anchor=\"middle\" x=\"3809\" y=\"-230.8\" font-family=\"Helvetica,sans-Serif\" font-size=\"14.00\">class = No</text>\n</g>\n<!-- 42&#45;&gt;43 -->\n<g id=\"edge43\" class=\"edge\">\n<title>42&#45;&gt;43</title>\n<path fill=\"none\" stroke=\"black\" d=\"M3809,-341.58C3809,-333.79 3809,-325.53 3809,-317.45\"/>\n<polygon fill=\"black\" stroke=\"black\" points=\"3812.5,-317.71 3809,-307.71 3805.5,-317.71 3812.5,-317.71\"/>\n</g>\n<!-- 50 -->\n<g id=\"node51\" class=\"node\">\n<title>50</title>\n<path fill=\"#eca471\" stroke=\"black\" d=\"M4477.5,-306C4477.5,-306 4298.5,-306 4298.5,-306 4292.5,-306 4286.5,-300 4286.5,-294 4286.5,-294 4286.5,-235 4286.5,-235 4286.5,-229 4292.5,-223 4298.5,-223 4298.5,-223 4477.5,-223 4477.5,-223 4483.5,-223 4489.5,-229 4489.5,-235 4489.5,-235 4489.5,-294 4489.5,-294 4489.5,-300 4483.5,-306 4477.5,-306\"/>\n<text text-anchor=\"middle\" x=\"4388\" y=\"-290.8\" font-family=\"Helvetica,sans-Serif\" font-size=\"14.00\">euribor3m &lt;= 4.857</text>\n<text text-anchor=\"middle\" x=\"4388\" y=\"-275.8\" font-family=\"Helvetica,sans-Serif\" font-size=\"14.00\">gini = 0.342</text>\n<text text-anchor=\"middle\" x=\"4388\" y=\"-260.8\" font-family=\"Helvetica,sans-Serif\" font-size=\"14.00\">samples = 9080</text>\n<text text-anchor=\"middle\" x=\"4388\" y=\"-245.8\" font-family=\"Helvetica,sans-Serif\" font-size=\"14.00\">value = [4941.275, 1386.419]</text>\n<text text-anchor=\"middle\" x=\"4388\" y=\"-230.8\" font-family=\"Helvetica,sans-Serif\" font-size=\"14.00\">class = No</text>\n</g>\n<!-- 42&#45;&gt;50 -->\n<g id=\"edge50\" class=\"edge\">\n<title>42&#45;&gt;50</title>\n<path fill=\"none\" stroke=\"black\" d=\"M3915.2,-361.04C4017.25,-340.42 4170.94,-309.36 4275.17,-288.3\"/>\n<polygon fill=\"black\" stroke=\"black\" points=\"4275.77,-291.75 4284.88,-286.34 4274.38,-284.89 4275.77,-291.75\"/>\n</g>\n<!-- 44 -->\n<g id=\"node45\" class=\"node\">\n<title>44</title>\n<path fill=\"#f3c5a4\" stroke=\"black\" d=\"M3795.5,-187C3795.5,-187 3616.5,-187 3616.5,-187 3610.5,-187 3604.5,-181 3604.5,-175 3604.5,-175 3604.5,-116 3604.5,-116 3604.5,-110 3610.5,-104 3616.5,-104 3616.5,-104 3795.5,-104 3795.5,-104 3801.5,-104 3807.5,-110 3807.5,-116 3807.5,-116 3807.5,-175 3807.5,-175 3807.5,-181 3801.5,-187 3795.5,-187\"/>\n<text text-anchor=\"middle\" x=\"3706\" y=\"-171.8\" font-family=\"Helvetica,sans-Serif\" font-size=\"14.00\">poutcome &lt;= 0.5</text>\n<text text-anchor=\"middle\" x=\"3706\" y=\"-156.8\" font-family=\"Helvetica,sans-Serif\" font-size=\"14.00\">gini = 0.456</text>\n<text text-anchor=\"middle\" x=\"3706\" y=\"-141.8\" font-family=\"Helvetica,sans-Serif\" font-size=\"14.00\">samples = 15952</text>\n<text text-anchor=\"middle\" x=\"3706\" y=\"-126.8\" font-family=\"Helvetica,sans-Serif\" font-size=\"14.00\">value = [8410.369, 4562.336]</text>\n<text text-anchor=\"middle\" x=\"3706\" y=\"-111.8\" font-family=\"Helvetica,sans-Serif\" font-size=\"14.00\">class = No</text>\n</g>\n<!-- 43&#45;&gt;44 -->\n<g id=\"edge44\" class=\"edge\">\n<title>43&#45;&gt;44</title>\n<path fill=\"none\" stroke=\"black\" d=\"M3772.98,-222.58C3765.33,-213.89 3757.17,-204.63 3749.29,-195.67\"/>\n<polygon fill=\"black\" stroke=\"black\" points=\"3752.07,-193.53 3742.83,-188.34 3746.81,-198.15 3752.07,-193.53\"/>\n</g>\n<!-- 47 -->\n<g id=\"node48\" class=\"node\">\n<title>47</title>\n<path fill=\"#47a4e7\" stroke=\"black\" d=\"M3984,-187C3984,-187 3838,-187 3838,-187 3832,-187 3826,-181 3826,-175 3826,-175 3826,-116 3826,-116 3826,-110 3832,-104 3838,-104 3838,-104 3984,-104 3984,-104 3990,-104 3996,-110 3996,-116 3996,-116 3996,-175 3996,-175 3996,-181 3990,-187 3984,-187\"/>\n<text text-anchor=\"middle\" x=\"3911\" y=\"-171.8\" font-family=\"Helvetica,sans-Serif\" font-size=\"14.00\">age &lt;= 48.5</text>\n<text text-anchor=\"middle\" x=\"3911\" y=\"-156.8\" font-family=\"Helvetica,sans-Serif\" font-size=\"14.00\">gini = 0.123</text>\n<text text-anchor=\"middle\" x=\"3911\" y=\"-141.8\" font-family=\"Helvetica,sans-Serif\" font-size=\"14.00\">samples = 56</text>\n<text text-anchor=\"middle\" x=\"3911\" y=\"-126.8\" font-family=\"Helvetica,sans-Serif\" font-size=\"14.00\">value = [11.272, 159.46]</text>\n<text text-anchor=\"middle\" x=\"3911\" y=\"-111.8\" font-family=\"Helvetica,sans-Serif\" font-size=\"14.00\">class = Yes</text>\n</g>\n<!-- 43&#45;&gt;47 -->\n<g id=\"edge47\" class=\"edge\">\n<title>43&#45;&gt;47</title>\n<path fill=\"none\" stroke=\"black\" d=\"M3844.67,-222.58C3852.25,-213.89 3860.32,-204.63 3868.13,-195.67\"/>\n<polygon fill=\"black\" stroke=\"black\" points=\"3870.59,-198.18 3874.52,-188.34 3865.31,-193.58 3870.59,-198.18\"/>\n</g>\n<!-- 45 -->\n<g id=\"node46\" class=\"node\">\n<title>45</title>\n<path fill=\"#f3c3a1\" stroke=\"black\" d=\"M3592.5,-68C3592.5,-68 3413.5,-68 3413.5,-68 3407.5,-68 3401.5,-62 3401.5,-56 3401.5,-56 3401.5,-12 3401.5,-12 3401.5,-6 3407.5,0 3413.5,0 3413.5,0 3592.5,0 3592.5,0 3598.5,0 3604.5,-6 3604.5,-12 3604.5,-12 3604.5,-56 3604.5,-56 3604.5,-62 3598.5,-68 3592.5,-68\"/>\n<text text-anchor=\"middle\" x=\"3503\" y=\"-52.8\" font-family=\"Helvetica,sans-Serif\" font-size=\"14.00\">gini = 0.451</text>\n<text text-anchor=\"middle\" x=\"3503\" y=\"-37.8\" font-family=\"Helvetica,sans-Serif\" font-size=\"14.00\">samples = 15815</text>\n<text text-anchor=\"middle\" x=\"3503\" y=\"-22.8\" font-family=\"Helvetica,sans-Serif\" font-size=\"14.00\">value = [8356.261, 4380.728]</text>\n<text text-anchor=\"middle\" x=\"3503\" y=\"-7.8\" font-family=\"Helvetica,sans-Serif\" font-size=\"14.00\">class = No</text>\n</g>\n<!-- 44&#45;&gt;45 -->\n<g id=\"edge45\" class=\"edge\">\n<title>44&#45;&gt;45</title>\n<path fill=\"none\" stroke=\"black\" d=\"M3630.12,-103.57C3611.97,-93.78 3592.65,-83.36 3574.7,-73.68\"/>\n<polygon fill=\"black\" stroke=\"black\" points=\"3576.68,-70.77 3566.22,-69.1 3573.36,-76.93 3576.68,-70.77\"/>\n</g>\n<!-- 46 -->\n<g id=\"node47\" class=\"node\">\n<title>46</title>\n<path fill=\"#74baed\" stroke=\"black\" d=\"M3789.5,-68C3789.5,-68 3634.5,-68 3634.5,-68 3628.5,-68 3622.5,-62 3622.5,-56 3622.5,-56 3622.5,-12 3622.5,-12 3622.5,-6 3628.5,0 3634.5,0 3634.5,0 3789.5,0 3789.5,0 3795.5,0 3801.5,-6 3801.5,-12 3801.5,-12 3801.5,-56 3801.5,-56 3801.5,-62 3795.5,-68 3789.5,-68\"/>\n<text text-anchor=\"middle\" x=\"3712\" y=\"-52.8\" font-family=\"Helvetica,sans-Serif\" font-size=\"14.00\">gini = 0.354</text>\n<text text-anchor=\"middle\" x=\"3712\" y=\"-37.8\" font-family=\"Helvetica,sans-Serif\" font-size=\"14.00\">samples = 137</text>\n<text text-anchor=\"middle\" x=\"3712\" y=\"-22.8\" font-family=\"Helvetica,sans-Serif\" font-size=\"14.00\">value = [54.108, 181.608]</text>\n<text text-anchor=\"middle\" x=\"3712\" y=\"-7.8\" font-family=\"Helvetica,sans-Serif\" font-size=\"14.00\">class = Yes</text>\n</g>\n<!-- 44&#45;&gt;46 -->\n<g id=\"edge46\" class=\"edge\">\n<title>44&#45;&gt;46</title>\n<path fill=\"none\" stroke=\"black\" d=\"M3708.23,-103.73C3708.66,-95.88 3709.12,-87.63 3709.55,-79.67\"/>\n<polygon fill=\"black\" stroke=\"black\" points=\"3713.04,-79.99 3710.09,-69.81 3706.05,-79.6 3713.04,-79.99\"/>\n</g>\n<!-- 48 -->\n<g id=\"node49\" class=\"node\">\n<title>48</title>\n<path fill=\"#43a2e6\" stroke=\"black\" d=\"M3978,-68C3978,-68 3832,-68 3832,-68 3826,-68 3820,-62 3820,-56 3820,-56 3820,-12 3820,-12 3820,-6 3826,0 3832,0 3832,0 3978,0 3978,0 3984,0 3990,-6 3990,-12 3990,-12 3990,-56 3990,-56 3990,-62 3984,-68 3978,-68\"/>\n<text text-anchor=\"middle\" x=\"3905\" y=\"-52.8\" font-family=\"Helvetica,sans-Serif\" font-size=\"14.00\">gini = 0.091</text>\n<text text-anchor=\"middle\" x=\"3905\" y=\"-37.8\" font-family=\"Helvetica,sans-Serif\" font-size=\"14.00\">samples = 46</text>\n<text text-anchor=\"middle\" x=\"3905\" y=\"-22.8\" font-family=\"Helvetica,sans-Serif\" font-size=\"14.00\">value = [7.327, 146.172]</text>\n<text text-anchor=\"middle\" x=\"3905\" y=\"-7.8\" font-family=\"Helvetica,sans-Serif\" font-size=\"14.00\">class = Yes</text>\n</g>\n<!-- 47&#45;&gt;48 -->\n<g id=\"edge48\" class=\"edge\">\n<title>47&#45;&gt;48</title>\n<path fill=\"none\" stroke=\"black\" d=\"M3908.77,-103.73C3908.34,-95.88 3907.88,-87.63 3907.45,-79.67\"/>\n<polygon fill=\"black\" stroke=\"black\" points=\"3910.95,-79.6 3906.91,-69.81 3903.96,-79.99 3910.95,-79.6\"/>\n</g>\n<!-- 49 -->\n<g id=\"node50\" class=\"node\">\n<title>49</title>\n<path fill=\"#74baed\" stroke=\"black\" d=\"M4158,-68C4158,-68 4020,-68 4020,-68 4014,-68 4008,-62 4008,-56 4008,-56 4008,-12 4008,-12 4008,-6 4014,0 4020,0 4020,0 4158,0 4158,0 4164,0 4170,-6 4170,-12 4170,-12 4170,-56 4170,-56 4170,-62 4164,-68 4158,-68\"/>\n<text text-anchor=\"middle\" x=\"4089\" y=\"-52.8\" font-family=\"Helvetica,sans-Serif\" font-size=\"14.00\">gini = 0.353</text>\n<text text-anchor=\"middle\" x=\"4089\" y=\"-37.8\" font-family=\"Helvetica,sans-Serif\" font-size=\"14.00\">samples = 10</text>\n<text text-anchor=\"middle\" x=\"4089\" y=\"-22.8\" font-family=\"Helvetica,sans-Serif\" font-size=\"14.00\">value = [3.945, 13.288]</text>\n<text text-anchor=\"middle\" x=\"4089\" y=\"-7.8\" font-family=\"Helvetica,sans-Serif\" font-size=\"14.00\">class = Yes</text>\n</g>\n<!-- 47&#45;&gt;49 -->\n<g id=\"edge49\" class=\"edge\">\n<title>47&#45;&gt;49</title>\n<path fill=\"none\" stroke=\"black\" d=\"M3977.53,-103.57C3993.15,-93.96 4009.76,-83.75 4025.25,-74.22\"/>\n<polygon fill=\"black\" stroke=\"black\" points=\"4026.76,-77.39 4033.45,-69.17 4023.1,-71.43 4026.76,-77.39\"/>\n</g>\n<!-- 51 -->\n<g id=\"node52\" class=\"node\">\n<title>51</title>\n<path fill=\"#ea9a60\" stroke=\"black\" d=\"M4473.5,-187C4473.5,-187 4302.5,-187 4302.5,-187 4296.5,-187 4290.5,-181 4290.5,-175 4290.5,-175 4290.5,-116 4290.5,-116 4290.5,-110 4296.5,-104 4302.5,-104 4302.5,-104 4473.5,-104 4473.5,-104 4479.5,-104 4485.5,-110 4485.5,-116 4485.5,-116 4485.5,-175 4485.5,-175 4485.5,-181 4479.5,-187 4473.5,-187\"/>\n<text text-anchor=\"middle\" x=\"4388\" y=\"-171.8\" font-family=\"Helvetica,sans-Serif\" font-size=\"14.00\">marital_single &lt;= 0.5</text>\n<text text-anchor=\"middle\" x=\"4388\" y=\"-156.8\" font-family=\"Helvetica,sans-Serif\" font-size=\"14.00\">gini = 0.273</text>\n<text text-anchor=\"middle\" x=\"4388\" y=\"-141.8\" font-family=\"Helvetica,sans-Serif\" font-size=\"14.00\">samples = 3642</text>\n<text text-anchor=\"middle\" x=\"4388\" y=\"-126.8\" font-family=\"Helvetica,sans-Serif\" font-size=\"14.00\">value = [2003.113, 389.792]</text>\n<text text-anchor=\"middle\" x=\"4388\" y=\"-111.8\" font-family=\"Helvetica,sans-Serif\" font-size=\"14.00\">class = No</text>\n</g>\n<!-- 50&#45;&gt;51 -->\n<g id=\"edge51\" class=\"edge\">\n<title>50&#45;&gt;51</title>\n<path fill=\"none\" stroke=\"black\" d=\"M4388,-222.58C4388,-214.79 4388,-206.53 4388,-198.45\"/>\n<polygon fill=\"black\" stroke=\"black\" points=\"4391.5,-198.71 4388,-188.71 4384.5,-198.71 4391.5,-198.71\"/>\n</g>\n<!-- 54 -->\n<g id=\"node55\" class=\"node\">\n<title>54</title>\n<path fill=\"#eeac7c\" stroke=\"black\" d=\"M4789.5,-187C4789.5,-187 4618.5,-187 4618.5,-187 4612.5,-187 4606.5,-181 4606.5,-175 4606.5,-175 4606.5,-116 4606.5,-116 4606.5,-110 4612.5,-104 4618.5,-104 4618.5,-104 4789.5,-104 4789.5,-104 4795.5,-104 4801.5,-110 4801.5,-116 4801.5,-116 4801.5,-175 4801.5,-175 4801.5,-181 4795.5,-187 4789.5,-187\"/>\n<text text-anchor=\"middle\" x=\"4704\" y=\"-171.8\" font-family=\"Helvetica,sans-Serif\" font-size=\"14.00\">campaign &lt;= 12.5</text>\n<text text-anchor=\"middle\" x=\"4704\" y=\"-156.8\" font-family=\"Helvetica,sans-Serif\" font-size=\"14.00\">gini = 0.378</text>\n<text text-anchor=\"middle\" x=\"4704\" y=\"-141.8\" font-family=\"Helvetica,sans-Serif\" font-size=\"14.00\">samples = 5438</text>\n<text text-anchor=\"middle\" x=\"4704\" y=\"-126.8\" font-family=\"Helvetica,sans-Serif\" font-size=\"14.00\">value = [2938.162, 996.627]</text>\n<text text-anchor=\"middle\" x=\"4704\" y=\"-111.8\" font-family=\"Helvetica,sans-Serif\" font-size=\"14.00\">class = No</text>\n</g>\n<!-- 50&#45;&gt;54 -->\n<g id=\"edge54\" class=\"edge\">\n<title>50&#45;&gt;54</title>\n<path fill=\"none\" stroke=\"black\" d=\"M4489.72,-225.84C4523.57,-213.3 4561.38,-199.31 4595.7,-186.6\"/>\n<polygon fill=\"black\" stroke=\"black\" points=\"4596.66,-189.98 4604.82,-183.22 4594.22,-183.41 4596.66,-189.98\"/>\n</g>\n<!-- 52 -->\n<g id=\"node53\" class=\"node\">\n<title>52</title>\n<path fill=\"#e9965a\" stroke=\"black\" d=\"M4371.5,-68C4371.5,-68 4200.5,-68 4200.5,-68 4194.5,-68 4188.5,-62 4188.5,-56 4188.5,-56 4188.5,-12 4188.5,-12 4188.5,-6 4194.5,0 4200.5,0 4200.5,0 4371.5,0 4371.5,0 4377.5,0 4383.5,-6 4383.5,-12 4383.5,-12 4383.5,-56 4383.5,-56 4383.5,-62 4377.5,-68 4371.5,-68\"/>\n<text text-anchor=\"middle\" x=\"4286\" y=\"-52.8\" font-family=\"Helvetica,sans-Serif\" font-size=\"14.00\">gini = 0.243</text>\n<text text-anchor=\"middle\" x=\"4286\" y=\"-37.8\" font-family=\"Helvetica,sans-Serif\" font-size=\"14.00\">samples = 2870</text>\n<text text-anchor=\"middle\" x=\"4286\" y=\"-22.8\" font-family=\"Helvetica,sans-Serif\" font-size=\"14.00\">value = [1584.342, 261.338]</text>\n<text text-anchor=\"middle\" x=\"4286\" y=\"-7.8\" font-family=\"Helvetica,sans-Serif\" font-size=\"14.00\">class = No</text>\n</g>\n<!-- 51&#45;&gt;52 -->\n<g id=\"edge52\" class=\"edge\">\n<title>51&#45;&gt;52</title>\n<path fill=\"none\" stroke=\"black\" d=\"M4350.02,-103.73C4341.78,-94.88 4333.05,-85.51 4324.78,-76.63\"/>\n<polygon fill=\"black\" stroke=\"black\" points=\"4327.43,-74.34 4318.05,-69.41 4322.31,-79.11 4327.43,-74.34\"/>\n</g>\n<!-- 53 -->\n<g id=\"node54\" class=\"node\">\n<title>53</title>\n<path fill=\"#eda876\" stroke=\"black\" d=\"M4576.5,-68C4576.5,-68 4413.5,-68 4413.5,-68 4407.5,-68 4401.5,-62 4401.5,-56 4401.5,-56 4401.5,-12 4401.5,-12 4401.5,-6 4407.5,0 4413.5,0 4413.5,0 4576.5,0 4576.5,0 4582.5,0 4588.5,-6 4588.5,-12 4588.5,-12 4588.5,-56 4588.5,-56 4588.5,-62 4582.5,-68 4576.5,-68\"/>\n<text text-anchor=\"middle\" x=\"4495\" y=\"-52.8\" font-family=\"Helvetica,sans-Serif\" font-size=\"14.00\">gini = 0.359</text>\n<text text-anchor=\"middle\" x=\"4495\" y=\"-37.8\" font-family=\"Helvetica,sans-Serif\" font-size=\"14.00\">samples = 772</text>\n<text text-anchor=\"middle\" x=\"4495\" y=\"-22.8\" font-family=\"Helvetica,sans-Serif\" font-size=\"14.00\">value = [418.771, 128.454]</text>\n<text text-anchor=\"middle\" x=\"4495\" y=\"-7.8\" font-family=\"Helvetica,sans-Serif\" font-size=\"14.00\">class = No</text>\n</g>\n<!-- 51&#45;&gt;53 -->\n<g id=\"edge53\" class=\"edge\">\n<title>51&#45;&gt;53</title>\n<path fill=\"none\" stroke=\"black\" d=\"M4427.84,-103.73C4436.58,-94.79 4445.83,-85.32 4454.59,-76.36\"/>\n<polygon fill=\"black\" stroke=\"black\" points=\"4456.92,-78.98 4461.4,-69.38 4451.91,-74.09 4456.92,-78.98\"/>\n</g>\n<!-- 55 -->\n<g id=\"node56\" class=\"node\">\n<title>55</title>\n<path fill=\"#eead7e\" stroke=\"black\" d=\"M4789.5,-68C4789.5,-68 4618.5,-68 4618.5,-68 4612.5,-68 4606.5,-62 4606.5,-56 4606.5,-56 4606.5,-12 4606.5,-12 4606.5,-6 4612.5,0 4618.5,0 4618.5,0 4789.5,0 4789.5,0 4795.5,0 4801.5,-6 4801.5,-12 4801.5,-12 4801.5,-56 4801.5,-56 4801.5,-62 4795.5,-68 4789.5,-68\"/>\n<text text-anchor=\"middle\" x=\"4704\" y=\"-52.8\" font-family=\"Helvetica,sans-Serif\" font-size=\"14.00\">gini = 0.384</text>\n<text text-anchor=\"middle\" x=\"4704\" y=\"-37.8\" font-family=\"Helvetica,sans-Serif\" font-size=\"14.00\">samples = 5267</text>\n<text text-anchor=\"middle\" x=\"4704\" y=\"-22.8\" font-family=\"Helvetica,sans-Serif\" font-size=\"14.00\">value = [2842.346, 992.197]</text>\n<text text-anchor=\"middle\" x=\"4704\" y=\"-7.8\" font-family=\"Helvetica,sans-Serif\" font-size=\"14.00\">class = No</text>\n</g>\n<!-- 54&#45;&gt;55 -->\n<g id=\"edge55\" class=\"edge\">\n<title>54&#45;&gt;55</title>\n<path fill=\"none\" stroke=\"black\" d=\"M4704,-103.73C4704,-95.88 4704,-87.63 4704,-79.67\"/>\n<polygon fill=\"black\" stroke=\"black\" points=\"4707.5,-79.81 4704,-69.81 4700.5,-79.81 4707.5,-79.81\"/>\n</g>\n<!-- 56 -->\n<g id=\"node57\" class=\"node\">\n<title>56</title>\n<path fill=\"#e68742\" stroke=\"black\" d=\"M4970,-68C4970,-68 4832,-68 4832,-68 4826,-68 4820,-62 4820,-56 4820,-56 4820,-12 4820,-12 4820,-6 4826,0 4832,0 4832,0 4970,0 4970,0 4976,0 4982,-6 4982,-12 4982,-12 4982,-56 4982,-56 4982,-62 4976,-68 4970,-68\"/>\n<text text-anchor=\"middle\" x=\"4901\" y=\"-52.8\" font-family=\"Helvetica,sans-Serif\" font-size=\"14.00\">gini = 0.084</text>\n<text text-anchor=\"middle\" x=\"4901\" y=\"-37.8\" font-family=\"Helvetica,sans-Serif\" font-size=\"14.00\">samples = 171</text>\n<text text-anchor=\"middle\" x=\"4901\" y=\"-22.8\" font-family=\"Helvetica,sans-Serif\" font-size=\"14.00\">value = [95.816, 4.429]</text>\n<text text-anchor=\"middle\" x=\"4901\" y=\"-7.8\" font-family=\"Helvetica,sans-Serif\" font-size=\"14.00\">class = No</text>\n</g>\n<!-- 54&#45;&gt;56 -->\n<g id=\"edge56\" class=\"edge\">\n<title>54&#45;&gt;56</title>\n<path fill=\"none\" stroke=\"black\" d=\"M4777.64,-103.57C4795.08,-93.87 4813.65,-83.55 4830.93,-73.95\"/>\n<polygon fill=\"black\" stroke=\"black\" points=\"4832.58,-77.03 4839.62,-69.12 4829.18,-70.92 4832.58,-77.03\"/>\n</g>\n</g>\n</svg>\n",
      "text/plain": [
       "<graphviz.sources.Source at 0x20c441c4ad0>"
      ]
     },
     "execution_count": 64,
     "metadata": {},
     "output_type": "execute_result"
    }
   ],
   "source": [
    "#visualizing the decision tree model\n",
    "from pathlib import Path\n",
    "\n",
    "IMAGES_PATH = Path() / \"images\" / \"decision_trees\"\n",
    "IMAGES_PATH.mkdir(parents=True, exist_ok=True)\n",
    "\n",
    "def save_fig(fig_id, tight_layout=True, fig_extension=\"png\", resolution=300):\n",
    "    path = IMAGES_PATH / f\"{fig_id}.{fig_extension}\"\n",
    "    if tight_layout:\n",
    "        plt.tight_layout()\n",
    "    plt.savefig(path, format=fig_extension, dpi=resolution)\n",
    "\n",
    "from sklearn.tree import export_graphviz\n",
    "\n",
    "export_graphviz(\n",
    "        DT,\n",
    "        out_file=str(IMAGES_PATH / \"bank_tree.dot\"),  \n",
    "        feature_names=X.columns,\n",
    "        class_names=['No','Yes'],\n",
    "        rounded=True,\n",
    "        filled=True\n",
    "    )\n",
    "from graphviz import Source\n",
    "\n",
    "Source.from_file(IMAGES_PATH / \"bank_tree.dot\")    "
   ]
  },
  {
   "attachments": {},
   "cell_type": "markdown",
   "metadata": {},
   "source": [
    "Testing the Classifier "
   ]
  },
  {
   "cell_type": "code",
   "execution_count": 65,
   "metadata": {},
   "outputs": [
    {
     "name": "stdout",
     "output_type": "stream",
     "text": [
      "              precision    recall  f1-score   support\n",
      "\n",
      "          no       0.94      0.87      0.90      9144\n",
      "         yes       0.35      0.58      0.44      1153\n",
      "\n",
      "    accuracy                           0.83     10297\n",
      "   macro avg       0.65      0.73      0.67     10297\n",
      "weighted avg       0.88      0.83      0.85     10297\n",
      "\n"
     ]
    }
   ],
   "source": [
    "y_pred = DT.predict(X_test)\n",
    "y_test = np.array(y_test).flatten()\n",
    "print(classification_report(y_test, y_pred))"
   ]
  },
  {
   "cell_type": "code",
   "execution_count": 66,
   "metadata": {},
   "outputs": [
    {
     "name": "stdout",
     "output_type": "stream",
     "text": [
      "Accuracy for Decision Tree:  83.44 %\n",
      "Precision for Decision Tree:  35.47 %\n",
      "Recall for Decision Tree:  58.46 %\n",
      "F1 score for Decision Tree: 44.15 \n",
      "\n"
     ]
    }
   ],
   "source": [
    "print(\"Accuracy for Decision Tree: \", np.round(sklearn.metrics.accuracy_score(y_test, y_pred)*100,2), '%')\n",
    "print(\"Precision for Decision Tree: \", np.round(sklearn.metrics.precision_score(y_test, y_pred,pos_label='yes')*100,2), '%')\n",
    "print(\"Recall for Decision Tree: \", np.round(sklearn.metrics.recall_score(y_test, y_pred,pos_label='yes')*100,2), '%')\n",
    "print(\"F1 score for Decision Tree:\", np.round(sklearn.metrics.f1_score(y_test, y_pred,pos_label='yes')*100,2), \"\\n\")"
   ]
  },
  {
   "attachments": {},
   "cell_type": "markdown",
   "metadata": {},
   "source": [
    "Confusion Matrix"
   ]
  },
  {
   "cell_type": "code",
   "execution_count": 67,
   "metadata": {},
   "outputs": [
    {
     "data": {
      "text/plain": [
       "<function matplotlib.pyplot.show(close=None, block=None)>"
      ]
     },
     "execution_count": 67,
     "metadata": {},
     "output_type": "execute_result"
    },
    {
     "data": {
      "image/png": "[encoded data removed]",
      "text/plain": [
       "<Figure size 640x480 with 2 Axes>"
      ]
     },
     "metadata": {},
     "output_type": "display_data"
    }
   ],
   "source": [
    "cm = sklearn.metrics.confusion_matrix(y_test, y_pred, labels=DT.classes_)\n",
    "disp = sklearn.metrics.ConfusionMatrixDisplay(confusion_matrix=cm, display_labels=DT.classes_)\n",
    "disp.plot()\n",
    "plt.show"
   ]
  },
  {
   "attachments": {},
   "cell_type": "markdown",
   "metadata": {},
   "source": [
    "Time and Memory consumed"
   ]
  },
  {
   "cell_type": "code",
   "execution_count": 68,
   "metadata": {},
   "outputs": [
    {
     "name": "stdout",
     "output_type": "stream",
     "text": [
      "Current memory usage is 25.035203MB\n",
      "Peak memory usage was 38.844877MB\n"
     ]
    },
    {
     "data": {
      "text/plain": [
       "2.0705552101135254"
      ]
     },
     "execution_count": 68,
     "metadata": {},
     "output_type": "execute_result"
    }
   ],
   "source": [
    "current, peak = tracemalloc.get_traced_memory()  # take a snapshot of current memory usage\n",
    "print(f\"Current memory usage is {current / 10**6}MB\\nPeak memory usage was {peak / 10**6}MB\")\n",
    "\n",
    "tracemalloc.stop()  # stop tracking memory usage\n",
    "\n",
    "time.time()-start"
   ]
  },
  {
   "attachments": {},
   "cell_type": "markdown",
   "metadata": {},
   "source": [
    "Naive Bayes Classifier"
   ]
  },
  {
   "cell_type": "code",
   "execution_count": 69,
   "metadata": {},
   "outputs": [
    {
     "data": {
      "text/html": [
       "<style>#sk-container-id-10 {color: black;background-color: white;}#sk-container-id-10 pre{padding: 0;}#sk-container-id-10 div.sk-toggleable {background-color: white;}#sk-container-id-10 label.sk-toggleable__label {cursor: pointer;display: block;width: 100%;margin-bottom: 0;padding: 0.3em;box-sizing: border-box;text-align: center;}#sk-container-id-10 label.sk-toggleable__label-arrow:before {content: \"▸\";float: left;margin-right: 0.25em;color: #696969;}#sk-container-id-10 label.sk-toggleable__label-arrow:hover:before {color: black;}#sk-container-id-10 div.sk-estimator:hover label.sk-toggleable__label-arrow:before {color: black;}#sk-container-id-10 div.sk-toggleable__content {max-height: 0;max-width: 0;overflow: hidden;text-align: left;background-color: #f0f8ff;}#sk-container-id-10 div.sk-toggleable__content pre {margin: 0.2em;color: black;border-radius: 0.25em;background-color: #f0f8ff;}#sk-container-id-10 input.sk-toggleable__control:checked~div.sk-toggleable__content {max-height: 200px;max-width: 100%;overflow: auto;}#sk-container-id-10 input.sk-toggleable__control:checked~label.sk-toggleable__label-arrow:before {content: \"▾\";}#sk-container-id-10 div.sk-estimator input.sk-toggleable__control:checked~label.sk-toggleable__label {background-color: #d4ebff;}#sk-container-id-10 div.sk-label input.sk-toggleable__control:checked~label.sk-toggleable__label {background-color: #d4ebff;}#sk-container-id-10 input.sk-hidden--visually {border: 0;clip: rect(1px 1px 1px 1px);clip: rect(1px, 1px, 1px, 1px);height: 1px;margin: -1px;overflow: hidden;padding: 0;position: absolute;width: 1px;}#sk-container-id-10 div.sk-estimator {font-family: monospace;background-color: #f0f8ff;border: 1px dotted black;border-radius: 0.25em;box-sizing: border-box;margin-bottom: 0.5em;}#sk-container-id-10 div.sk-estimator:hover {background-color: #d4ebff;}#sk-container-id-10 div.sk-parallel-item::after {content: \"\";width: 100%;border-bottom: 1px solid gray;flex-grow: 1;}#sk-container-id-10 div.sk-label:hover label.sk-toggleable__label {background-color: #d4ebff;}#sk-container-id-10 div.sk-serial::before {content: \"\";position: absolute;border-left: 1px solid gray;box-sizing: border-box;top: 0;bottom: 0;left: 50%;z-index: 0;}#sk-container-id-10 div.sk-serial {display: flex;flex-direction: column;align-items: center;background-color: white;padding-right: 0.2em;padding-left: 0.2em;position: relative;}#sk-container-id-10 div.sk-item {position: relative;z-index: 1;}#sk-container-id-10 div.sk-parallel {display: flex;align-items: stretch;justify-content: center;background-color: white;position: relative;}#sk-container-id-10 div.sk-item::before, #sk-container-id-10 div.sk-parallel-item::before {content: \"\";position: absolute;border-left: 1px solid gray;box-sizing: border-box;top: 0;bottom: 0;left: 50%;z-index: -1;}#sk-container-id-10 div.sk-parallel-item {display: flex;flex-direction: column;z-index: 1;position: relative;background-color: white;}#sk-container-id-10 div.sk-parallel-item:first-child::after {align-self: flex-end;width: 50%;}#sk-container-id-10 div.sk-parallel-item:last-child::after {align-self: flex-start;width: 50%;}#sk-container-id-10 div.sk-parallel-item:only-child::after {width: 0;}#sk-container-id-10 div.sk-dashed-wrapped {border: 1px dashed gray;margin: 0 0.4em 0.5em 0.4em;box-sizing: border-box;padding-bottom: 0.4em;background-color: white;}#sk-container-id-10 div.sk-label label {font-family: monospace;font-weight: bold;display: inline-block;line-height: 1.2em;}#sk-container-id-10 div.sk-label-container {text-align: center;}#sk-container-id-10 div.sk-container {/* jupyter's `normalize.less` sets `[hidden] { display: none; }` but bootstrap.min.css set `[hidden] { display: none !important; }` so we also need the `!important` here to be able to override the default hidden behavior on the sphinx rendered scikit-learn.org. See: https://github.com/scikit-learn/scikit-learn/issues/21755 */display: inline-block !important;position: relative;}#sk-container-id-10 div.sk-text-repr-fallback {display: none;}</style><div id=\"sk-container-id-10\" class=\"sk-top-container\"><div class=\"sk-text-repr-fallback\"><pre>GaussianNB()</pre><b>In a Jupyter environment, please rerun this cell to show the HTML representation or trust the notebook. <br />On GitHub, the HTML representation is unable to render, please try loading this page with nbviewer.org.</b></div><div class=\"sk-container\" hidden><div class=\"sk-item\"><div class=\"sk-estimator sk-toggleable\"><input class=\"sk-toggleable__control sk-hidden--visually\" id=\"sk-estimator-id-10\" type=\"checkbox\" checked><label for=\"sk-estimator-id-10\" class=\"sk-toggleable__label sk-toggleable__label-arrow\">GaussianNB</label><div class=\"sk-toggleable__content\"><pre>GaussianNB()</pre></div></div></div></div></div>"
      ],
      "text/plain": [
       "GaussianNB()"
      ]
     },
     "execution_count": 69,
     "metadata": {},
     "output_type": "execute_result"
    }
   ],
   "source": [
    "from sklearn.naive_bayes import GaussianNB\n",
    "tracemalloc.start()\n",
    "start = time.time()\n",
    "NB = GaussianNB()\n",
    "NB.fit(X_train, y_train)\n",
    "GaussianNB()\n"
   ]
  },
  {
   "attachments": {},
   "cell_type": "markdown",
   "metadata": {},
   "source": [
    "Testing the Naive Bayes model"
   ]
  },
  {
   "cell_type": "code",
   "execution_count": 70,
   "metadata": {},
   "outputs": [
    {
     "name": "stdout",
     "output_type": "stream",
     "text": [
      "              precision    recall  f1-score   support\n",
      "\n",
      "          no       0.93      0.91      0.92      9144\n",
      "         yes       0.40      0.45      0.42      1153\n",
      "\n",
      "    accuracy                           0.86     10297\n",
      "   macro avg       0.66      0.68      0.67     10297\n",
      "weighted avg       0.87      0.86      0.87     10297\n",
      "\n"
     ]
    }
   ],
   "source": [
    "y_pred = NB.predict(X_test)\n",
    "y_test = np.array(y_test).flatten()\n",
    "\n",
    "print(classification_report(y_test, y_pred))"
   ]
  },
  {
   "cell_type": "code",
   "execution_count": 71,
   "metadata": {},
   "outputs": [
    {
     "name": "stdout",
     "output_type": "stream",
     "text": [
      "Accuracy for Naive Bayes:  86.2 %\n",
      "Precision for Naive Bayes:  39.69 %\n",
      "Recall for Naive Bayes:  44.75 %\n",
      "F1 score for Naive Bayes: 42.07 \n",
      "\n"
     ]
    }
   ],
   "source": [
    "print(\"Accuracy for Naive Bayes: \", np.round(sklearn.metrics.accuracy_score(y_test, y_pred)*100,2), '%')\n",
    "print(\"Precision for Naive Bayes: \", np.round(sklearn.metrics.precision_score(y_test, y_pred,pos_label='yes')*100,2), '%')\n",
    "print(\"Recall for Naive Bayes: \", np.round(sklearn.metrics.recall_score(y_test, y_pred,pos_label='yes')*100,2), '%')\n",
    "print(\"F1 score for Naive Bayes:\", np.round(sklearn.metrics.f1_score(y_test, y_pred,pos_label='yes')*100,2), \"\\n\")"
   ]
  },
  {
   "attachments": {},
   "cell_type": "markdown",
   "metadata": {},
   "source": [
    "Confusion Matrix"
   ]
  },
  {
   "cell_type": "code",
   "execution_count": 72,
   "metadata": {},
   "outputs": [
    {
     "data": {
      "image/png": "[encoded data removed]",
      "text/plain": [
       "<Figure size 640x480 with 2 Axes>"
      ]
     },
     "metadata": {},
     "output_type": "display_data"
    }
   ],
   "source": [
    "cm2 = sklearn.metrics.confusion_matrix(y_test, y_pred)\n",
    "disp = sklearn.metrics.ConfusionMatrixDisplay(confusion_matrix=cm2)\n",
    "disp.plot()\n",
    "plt.show()"
   ]
  },
  {
   "attachments": {},
   "cell_type": "markdown",
   "metadata": {},
   "source": [
    "Time and Memory consumed"
   ]
  },
  {
   "cell_type": "code",
   "execution_count": 73,
   "metadata": {},
   "outputs": [
    {
     "name": "stdout",
     "output_type": "stream",
     "text": [
      "Current memory usage is 1.263929MB\n",
      "Peak memory usage was 27.497868MB\n"
     ]
    },
    {
     "data": {
      "text/plain": [
       "1.5358996391296387"
      ]
     },
     "execution_count": 73,
     "metadata": {},
     "output_type": "execute_result"
    }
   ],
   "source": [
    "\n",
    "current, peak = tracemalloc.get_traced_memory()  # take a snapshot of current memory usage\n",
    "print(f\"Current memory usage is {current / 10**6}MB\\nPeak memory usage was {peak / 10**6}MB\")\n",
    "\n",
    "tracemalloc.stop()  # stop tracking memory usage\n",
    "\n",
    "time.time()-start"
   ]
  }
 ],
 "metadata": {
  "kernelspec": {
   "display_name": "Python 3",
   "language": "python",
   "name": "python3"
  },
  "language_info": {
   "codemirror_mode": {
    "name": "ipython",
    "version": 3
   },
   "file_extension": ".py",
   "mimetype": "text/x-python",
   "name": "python",
   "nbconvert_exporter": "python",
   "pygments_lexer": "ipython3",
   "version": "3.11.1"
  },
  "orig_nbformat": 4,
  "vscode": {
   "interpreter": {
    "hash": "568b33a0c42e1133e5b649ae955656f3485b80be22305b6d5b7cbe0309d42dfd"
   }
  }
 },
 "nbformat": 4,
 "nbformat_minor": 2
}
